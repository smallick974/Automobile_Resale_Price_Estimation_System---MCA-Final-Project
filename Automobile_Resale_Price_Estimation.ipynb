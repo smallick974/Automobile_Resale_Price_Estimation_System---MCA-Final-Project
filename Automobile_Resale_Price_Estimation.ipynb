{
 "cells": [
  {
   "cell_type": "markdown",
   "id": "4adfedb0",
   "metadata": {},
   "source": [
    "# Automobile_Resale_Price_Estimation"
   ]
  },
  {
   "cell_type": "markdown",
   "id": "9faac1a4",
   "metadata": {},
   "source": [
    "Data Source: https://www.kaggle.com/austinreese/craigslist-carstrucks-data"
   ]
  },
  {
   "cell_type": "code",
   "execution_count": 1,
   "id": "9a93a858",
   "metadata": {},
   "outputs": [
    {
     "name": "stdout",
     "output_type": "stream",
     "text": [
      "Note: you may need to restart the kernel to use updated packages.\n"
     ]
    },
    {
     "name": "stderr",
     "output_type": "stream",
     "text": [
      "WARNING: Ignoring invalid distribution -ip (d:\\installed softwares\\python 3.10.2\\lib\\site-packages)\n",
      "ERROR: Invalid requirement: '#'\n",
      "WARNING: Ignoring invalid distribution -ip (d:\\installed softwares\\python 3.10.2\\lib\\site-packages)\n",
      "WARNING: Ignoring invalid distribution -ip (d:\\installed softwares\\python 3.10.2\\lib\\site-packages)\n",
      "WARNING: Ignoring invalid distribution -ip (d:\\installed softwares\\python 3.10.2\\lib\\site-packages)\n",
      "WARNING: You are using pip version 21.2.4; however, version 22.0.3 is available.\n",
      "You should consider upgrading via the 'D:\\Installed Softwares\\Python 3.10.2\\python.exe -m pip install --upgrade pip' command.\n"
     ]
    }
   ],
   "source": [
    "pip install ipython-autotime  # to track down time of each cell using %%time"
   ]
  },
  {
   "cell_type": "markdown",
   "id": "f2e0ef62",
   "metadata": {},
   "source": [
    "### Libraries used:"
   ]
  },
  {
   "cell_type": "code",
   "execution_count": 2,
   "id": "0488ccb2",
   "metadata": {},
   "outputs": [
    {
     "name": "stderr",
     "output_type": "stream",
     "text": [
      "D:\\Installed Softwares\\Python 3.10.2\\lib\\site-packages\\xgboost\\compat.py:36: FutureWarning: pandas.Int64Index is deprecated and will be removed from pandas in a future version. Use pandas.Index with the appropriate dtype instead.\n",
      "  from pandas import MultiIndex, Int64Index\n"
     ]
    }
   ],
   "source": [
    "import pandas as pd  # data analysis and manipulation\n",
    "import matplotlib.pyplot as plt # to create static, animated, and interactive visualizations in Python\n",
    "\n",
    "# enables inline plotting, where plots are displayed just below the cell of plotting commands\n",
    "%matplotlib inline \n",
    "\n",
    "import seaborn as sns # used for data visualization and exploratory data analysis\n",
    "import numpy as np # used for working with arrays\n",
    "from collections import Counter # Used to count the key-value pairs in an object, also called a hashtable object\n",
    "\n",
    "#SciPy provides algorithms for optimization, integration, interpolation, eigenvalue problems, algebraic equations, \n",
    "#differential equations, statistics and many other classes of problems.\n",
    "from scipy.sparse import hstack # Stack sparse matrices horizontally (column wise)\n",
    "\n",
    "from sklearn.model_selection import *  # method for setting a blueprint to analyze data and using it to measure new data\n",
    "# provides common utility func and transformer classes to change raw feature vectors into representation \n",
    "# that is more suitable for downstream estimators\n",
    "from sklearn.preprocessing import * \n",
    "from sklearn.linear_model import * # contain different functions for performing machine learning with linear models\n",
    "from sklearn import metrics # implements several loss, score, and utility functions to measure classification performance\n",
    "\n",
    "# r2_score: (coefficient of determination) regression score function\n",
    "# mean_absolute_error: a risk metric corresponding to the expected value of the absolute error loss or l1-norm loss\n",
    "# mean_squared_error: a risk metric corresponding to the expected value of the squared (quadratic) error or loss\n",
    "from sklearn.metrics import r2_score, mean_absolute_error, mean_squared_error\n",
    "from sklearn.svm import * # module includes Support Vector Machine algorithms\n",
    "# This model optimizes the squared error using LBFGS or stochastic gradient descent\n",
    "from sklearn.neural_network import MLPRegressor # Multi-layer Perceptron regressor\n",
    "from sklearn.tree import * # includes decision tree-based models for classification and regression\n",
    "from sklearn.ensemble import * # includes ensemble-based methods for classification, regression and anomaly detection\n",
    "\n",
    "import xgboost as xgb #optimized distributed gradient boosting library designed to be highly efficient, flexible and portable\n",
    "import lightgbm as lgb #  gradient boosting framework that uses tree based learning algorithms\n",
    "\n",
    "# model tuning\n",
    "\n",
    "# Hyperopt is a powerful python library for hyperparameter optimization\n",
    "# uses a form of Bayesian optimization for parameter tuning that allows you to get the best parameters for a given model\n",
    "# It can optimize a model with hundreds of parameters on a large scale\n",
    "from hyperopt import STATUS_OK, Trials, fmin, hp, tpe, space_eval\n",
    "from prettytable import PrettyTable # Python library for generating simple ASCII tables\n",
    "import warnings # to warn the developer of situations that aren't necessarily exceptions\n",
    "warnings.filterwarnings(\"ignore\")"
   ]
  },
  {
   "cell_type": "markdown",
   "id": "d93b9b90",
   "metadata": {},
   "source": [
    "#### Setting Data Path"
   ]
  },
  {
   "cell_type": "code",
   "execution_count": 3,
   "id": "81190d51",
   "metadata": {},
   "outputs": [
    {
     "name": "stdout",
     "output_type": "stream",
     "text": [
      "CPU times: total: 0 ns\n",
      "Wall time: 0 ns\n"
     ]
    }
   ],
   "source": [
    "%%time\n",
    "dataPath = 'vehicles.csv'"
   ]
  },
  {
   "cell_type": "markdown",
   "id": "c1cd9890",
   "metadata": {},
   "source": [
    "#### Creating a DataFrame"
   ]
  },
  {
   "cell_type": "code",
   "execution_count": 4,
   "id": "6adc4793",
   "metadata": {},
   "outputs": [
    {
     "name": "stdout",
     "output_type": "stream",
     "text": [
      "CPU times: total: 32 s\n",
      "Wall time: 41.9 s\n"
     ]
    }
   ],
   "source": [
    "%%time\n",
    "data = pd.read_csv(dataPath)"
   ]
  },
  {
   "cell_type": "markdown",
   "id": "584c5f3c",
   "metadata": {},
   "source": [
    "#### Dimensions"
   ]
  },
  {
   "cell_type": "code",
   "execution_count": 5,
   "id": "afee4091",
   "metadata": {},
   "outputs": [
    {
     "name": "stdout",
     "output_type": "stream",
     "text": [
      "(426880, 26)\n",
      "CPU times: total: 0 ns\n",
      "Wall time: 915 µs\n"
     ]
    }
   ],
   "source": [
    "%%time\n",
    "print(data.shape)\n",
    "total_rows = data.shape[0]"
   ]
  },
  {
   "cell_type": "markdown",
   "id": "4c35569d",
   "metadata": {},
   "source": [
    "#### Viewing the Columns"
   ]
  },
  {
   "cell_type": "code",
   "execution_count": 6,
   "id": "75c0a411",
   "metadata": {},
   "outputs": [
    {
     "name": "stdout",
     "output_type": "stream",
     "text": [
      "CPU times: total: 0 ns\n",
      "Wall time: 0 ns\n"
     ]
    },
    {
     "data": {
      "text/plain": [
       "Index(['id', 'url', 'region', 'region_url', 'price', 'year', 'manufacturer',\n",
       "       'model', 'condition', 'cylinders', 'fuel', 'odometer', 'title_status',\n",
       "       'transmission', 'VIN', 'drive', 'size', 'type', 'paint_color',\n",
       "       'image_url', 'description', 'county', 'state', 'lat', 'long',\n",
       "       'posting_date'],\n",
       "      dtype='object')"
      ]
     },
     "execution_count": 6,
     "metadata": {},
     "output_type": "execute_result"
    }
   ],
   "source": [
    "%%time\n",
    "data.columns"
   ]
  },
  {
   "cell_type": "markdown",
   "id": "bf1c4eb5",
   "metadata": {},
   "source": [
    "#### Viewing the Data"
   ]
  },
  {
   "cell_type": "code",
   "execution_count": 7,
   "id": "5f240a5c",
   "metadata": {},
   "outputs": [
    {
     "name": "stdout",
     "output_type": "stream",
     "text": [
      "CPU times: total: 0 ns\n",
      "Wall time: 58 ms\n"
     ]
    },
    {
     "data": {
      "text/html": [
       "<div>\n",
       "<style scoped>\n",
       "    .dataframe tbody tr th:only-of-type {\n",
       "        vertical-align: middle;\n",
       "    }\n",
       "\n",
       "    .dataframe tbody tr th {\n",
       "        vertical-align: top;\n",
       "    }\n",
       "\n",
       "    .dataframe thead th {\n",
       "        text-align: right;\n",
       "    }\n",
       "</style>\n",
       "<table border=\"1\" class=\"dataframe\">\n",
       "  <thead>\n",
       "    <tr style=\"text-align: right;\">\n",
       "      <th></th>\n",
       "      <th>id</th>\n",
       "      <th>url</th>\n",
       "      <th>region</th>\n",
       "      <th>region_url</th>\n",
       "      <th>price</th>\n",
       "      <th>year</th>\n",
       "      <th>manufacturer</th>\n",
       "      <th>model</th>\n",
       "      <th>condition</th>\n",
       "      <th>cylinders</th>\n",
       "      <th>...</th>\n",
       "      <th>size</th>\n",
       "      <th>type</th>\n",
       "      <th>paint_color</th>\n",
       "      <th>image_url</th>\n",
       "      <th>description</th>\n",
       "      <th>county</th>\n",
       "      <th>state</th>\n",
       "      <th>lat</th>\n",
       "      <th>long</th>\n",
       "      <th>posting_date</th>\n",
       "    </tr>\n",
       "  </thead>\n",
       "  <tbody>\n",
       "    <tr>\n",
       "      <th>0</th>\n",
       "      <td>7222695916</td>\n",
       "      <td>https://prescott.craigslist.org/cto/d/prescott...</td>\n",
       "      <td>prescott</td>\n",
       "      <td>https://prescott.craigslist.org</td>\n",
       "      <td>6000</td>\n",
       "      <td>NaN</td>\n",
       "      <td>NaN</td>\n",
       "      <td>NaN</td>\n",
       "      <td>NaN</td>\n",
       "      <td>NaN</td>\n",
       "      <td>...</td>\n",
       "      <td>NaN</td>\n",
       "      <td>NaN</td>\n",
       "      <td>NaN</td>\n",
       "      <td>NaN</td>\n",
       "      <td>NaN</td>\n",
       "      <td>NaN</td>\n",
       "      <td>az</td>\n",
       "      <td>NaN</td>\n",
       "      <td>NaN</td>\n",
       "      <td>NaN</td>\n",
       "    </tr>\n",
       "    <tr>\n",
       "      <th>1</th>\n",
       "      <td>7218891961</td>\n",
       "      <td>https://fayar.craigslist.org/ctd/d/bentonville...</td>\n",
       "      <td>fayetteville</td>\n",
       "      <td>https://fayar.craigslist.org</td>\n",
       "      <td>11900</td>\n",
       "      <td>NaN</td>\n",
       "      <td>NaN</td>\n",
       "      <td>NaN</td>\n",
       "      <td>NaN</td>\n",
       "      <td>NaN</td>\n",
       "      <td>...</td>\n",
       "      <td>NaN</td>\n",
       "      <td>NaN</td>\n",
       "      <td>NaN</td>\n",
       "      <td>NaN</td>\n",
       "      <td>NaN</td>\n",
       "      <td>NaN</td>\n",
       "      <td>ar</td>\n",
       "      <td>NaN</td>\n",
       "      <td>NaN</td>\n",
       "      <td>NaN</td>\n",
       "    </tr>\n",
       "    <tr>\n",
       "      <th>2</th>\n",
       "      <td>7221797935</td>\n",
       "      <td>https://keys.craigslist.org/cto/d/summerland-k...</td>\n",
       "      <td>florida keys</td>\n",
       "      <td>https://keys.craigslist.org</td>\n",
       "      <td>21000</td>\n",
       "      <td>NaN</td>\n",
       "      <td>NaN</td>\n",
       "      <td>NaN</td>\n",
       "      <td>NaN</td>\n",
       "      <td>NaN</td>\n",
       "      <td>...</td>\n",
       "      <td>NaN</td>\n",
       "      <td>NaN</td>\n",
       "      <td>NaN</td>\n",
       "      <td>NaN</td>\n",
       "      <td>NaN</td>\n",
       "      <td>NaN</td>\n",
       "      <td>fl</td>\n",
       "      <td>NaN</td>\n",
       "      <td>NaN</td>\n",
       "      <td>NaN</td>\n",
       "    </tr>\n",
       "    <tr>\n",
       "      <th>3</th>\n",
       "      <td>7222270760</td>\n",
       "      <td>https://worcester.craigslist.org/cto/d/west-br...</td>\n",
       "      <td>worcester / central MA</td>\n",
       "      <td>https://worcester.craigslist.org</td>\n",
       "      <td>1500</td>\n",
       "      <td>NaN</td>\n",
       "      <td>NaN</td>\n",
       "      <td>NaN</td>\n",
       "      <td>NaN</td>\n",
       "      <td>NaN</td>\n",
       "      <td>...</td>\n",
       "      <td>NaN</td>\n",
       "      <td>NaN</td>\n",
       "      <td>NaN</td>\n",
       "      <td>NaN</td>\n",
       "      <td>NaN</td>\n",
       "      <td>NaN</td>\n",
       "      <td>ma</td>\n",
       "      <td>NaN</td>\n",
       "      <td>NaN</td>\n",
       "      <td>NaN</td>\n",
       "    </tr>\n",
       "    <tr>\n",
       "      <th>4</th>\n",
       "      <td>7210384030</td>\n",
       "      <td>https://greensboro.craigslist.org/cto/d/trinit...</td>\n",
       "      <td>greensboro</td>\n",
       "      <td>https://greensboro.craigslist.org</td>\n",
       "      <td>4900</td>\n",
       "      <td>NaN</td>\n",
       "      <td>NaN</td>\n",
       "      <td>NaN</td>\n",
       "      <td>NaN</td>\n",
       "      <td>NaN</td>\n",
       "      <td>...</td>\n",
       "      <td>NaN</td>\n",
       "      <td>NaN</td>\n",
       "      <td>NaN</td>\n",
       "      <td>NaN</td>\n",
       "      <td>NaN</td>\n",
       "      <td>NaN</td>\n",
       "      <td>nc</td>\n",
       "      <td>NaN</td>\n",
       "      <td>NaN</td>\n",
       "      <td>NaN</td>\n",
       "    </tr>\n",
       "  </tbody>\n",
       "</table>\n",
       "<p>5 rows × 26 columns</p>\n",
       "</div>"
      ],
      "text/plain": [
       "           id                                                url  \\\n",
       "0  7222695916  https://prescott.craigslist.org/cto/d/prescott...   \n",
       "1  7218891961  https://fayar.craigslist.org/ctd/d/bentonville...   \n",
       "2  7221797935  https://keys.craigslist.org/cto/d/summerland-k...   \n",
       "3  7222270760  https://worcester.craigslist.org/cto/d/west-br...   \n",
       "4  7210384030  https://greensboro.craigslist.org/cto/d/trinit...   \n",
       "\n",
       "                   region                         region_url  price  year  \\\n",
       "0                prescott    https://prescott.craigslist.org   6000   NaN   \n",
       "1            fayetteville       https://fayar.craigslist.org  11900   NaN   \n",
       "2            florida keys        https://keys.craigslist.org  21000   NaN   \n",
       "3  worcester / central MA   https://worcester.craigslist.org   1500   NaN   \n",
       "4              greensboro  https://greensboro.craigslist.org   4900   NaN   \n",
       "\n",
       "  manufacturer model condition cylinders  ... size  type paint_color  \\\n",
       "0          NaN   NaN       NaN       NaN  ...  NaN   NaN         NaN   \n",
       "1          NaN   NaN       NaN       NaN  ...  NaN   NaN         NaN   \n",
       "2          NaN   NaN       NaN       NaN  ...  NaN   NaN         NaN   \n",
       "3          NaN   NaN       NaN       NaN  ...  NaN   NaN         NaN   \n",
       "4          NaN   NaN       NaN       NaN  ...  NaN   NaN         NaN   \n",
       "\n",
       "  image_url description county state lat long posting_date  \n",
       "0       NaN         NaN    NaN    az NaN  NaN          NaN  \n",
       "1       NaN         NaN    NaN    ar NaN  NaN          NaN  \n",
       "2       NaN         NaN    NaN    fl NaN  NaN          NaN  \n",
       "3       NaN         NaN    NaN    ma NaN  NaN          NaN  \n",
       "4       NaN         NaN    NaN    nc NaN  NaN          NaN  \n",
       "\n",
       "[5 rows x 26 columns]"
      ]
     },
     "execution_count": 7,
     "metadata": {},
     "output_type": "execute_result"
    }
   ],
   "source": [
    "%%time\n",
    "data.head()"
   ]
  },
  {
   "cell_type": "markdown",
   "id": "b9018fed",
   "metadata": {},
   "source": [
    "#### Searching for Duplicayte IDs"
   ]
  },
  {
   "cell_type": "code",
   "execution_count": 8,
   "id": "5bb4d455",
   "metadata": {},
   "outputs": [
    {
     "name": "stdout",
     "output_type": "stream",
     "text": [
      "Duplicate ID :  0\n",
      "CPU times: total: 31.2 ms\n",
      "Wall time: 97.8 ms\n"
     ]
    }
   ],
   "source": [
    "%%time\n",
    "print(\"Duplicate ID : \",data.id.duplicated().sum())"
   ]
  },
  {
   "cell_type": "markdown",
   "id": "3617b03e",
   "metadata": {},
   "source": [
    "#### Summary of the data"
   ]
  },
  {
   "cell_type": "code",
   "execution_count": 9,
   "id": "155fc6ad",
   "metadata": {},
   "outputs": [
    {
     "name": "stdout",
     "output_type": "stream",
     "text": [
      "CPU times: total: 156 ms\n",
      "Wall time: 300 ms\n"
     ]
    },
    {
     "data": {
      "text/html": [
       "<div>\n",
       "<style scoped>\n",
       "    .dataframe tbody tr th:only-of-type {\n",
       "        vertical-align: middle;\n",
       "    }\n",
       "\n",
       "    .dataframe tbody tr th {\n",
       "        vertical-align: top;\n",
       "    }\n",
       "\n",
       "    .dataframe thead th {\n",
       "        text-align: right;\n",
       "    }\n",
       "</style>\n",
       "<table border=\"1\" class=\"dataframe\">\n",
       "  <thead>\n",
       "    <tr style=\"text-align: right;\">\n",
       "      <th></th>\n",
       "      <th>id</th>\n",
       "      <th>price</th>\n",
       "      <th>year</th>\n",
       "      <th>odometer</th>\n",
       "      <th>county</th>\n",
       "      <th>lat</th>\n",
       "      <th>long</th>\n",
       "    </tr>\n",
       "  </thead>\n",
       "  <tbody>\n",
       "    <tr>\n",
       "      <th>count</th>\n",
       "      <td>4.268800e+05</td>\n",
       "      <td>4.268800e+05</td>\n",
       "      <td>425675.000000</td>\n",
       "      <td>4.224800e+05</td>\n",
       "      <td>0.0</td>\n",
       "      <td>420331.000000</td>\n",
       "      <td>420331.000000</td>\n",
       "    </tr>\n",
       "    <tr>\n",
       "      <th>mean</th>\n",
       "      <td>7.311487e+09</td>\n",
       "      <td>7.519903e+04</td>\n",
       "      <td>2011.235191</td>\n",
       "      <td>9.804333e+04</td>\n",
       "      <td>NaN</td>\n",
       "      <td>38.493940</td>\n",
       "      <td>-94.748599</td>\n",
       "    </tr>\n",
       "    <tr>\n",
       "      <th>std</th>\n",
       "      <td>4.473170e+06</td>\n",
       "      <td>1.218228e+07</td>\n",
       "      <td>9.452120</td>\n",
       "      <td>2.138815e+05</td>\n",
       "      <td>NaN</td>\n",
       "      <td>5.841533</td>\n",
       "      <td>18.365462</td>\n",
       "    </tr>\n",
       "    <tr>\n",
       "      <th>min</th>\n",
       "      <td>7.207408e+09</td>\n",
       "      <td>0.000000e+00</td>\n",
       "      <td>1900.000000</td>\n",
       "      <td>0.000000e+00</td>\n",
       "      <td>NaN</td>\n",
       "      <td>-84.122245</td>\n",
       "      <td>-159.827728</td>\n",
       "    </tr>\n",
       "    <tr>\n",
       "      <th>25%</th>\n",
       "      <td>7.308143e+09</td>\n",
       "      <td>5.900000e+03</td>\n",
       "      <td>2008.000000</td>\n",
       "      <td>3.770400e+04</td>\n",
       "      <td>NaN</td>\n",
       "      <td>34.601900</td>\n",
       "      <td>-111.939847</td>\n",
       "    </tr>\n",
       "    <tr>\n",
       "      <th>50%</th>\n",
       "      <td>7.312621e+09</td>\n",
       "      <td>1.395000e+04</td>\n",
       "      <td>2013.000000</td>\n",
       "      <td>8.554800e+04</td>\n",
       "      <td>NaN</td>\n",
       "      <td>39.150100</td>\n",
       "      <td>-88.432600</td>\n",
       "    </tr>\n",
       "    <tr>\n",
       "      <th>75%</th>\n",
       "      <td>7.315254e+09</td>\n",
       "      <td>2.648575e+04</td>\n",
       "      <td>2017.000000</td>\n",
       "      <td>1.335425e+05</td>\n",
       "      <td>NaN</td>\n",
       "      <td>42.398900</td>\n",
       "      <td>-80.832039</td>\n",
       "    </tr>\n",
       "    <tr>\n",
       "      <th>max</th>\n",
       "      <td>7.317101e+09</td>\n",
       "      <td>3.736929e+09</td>\n",
       "      <td>2022.000000</td>\n",
       "      <td>1.000000e+07</td>\n",
       "      <td>NaN</td>\n",
       "      <td>82.390818</td>\n",
       "      <td>173.885502</td>\n",
       "    </tr>\n",
       "  </tbody>\n",
       "</table>\n",
       "</div>"
      ],
      "text/plain": [
       "                 id         price           year      odometer  county  \\\n",
       "count  4.268800e+05  4.268800e+05  425675.000000  4.224800e+05     0.0   \n",
       "mean   7.311487e+09  7.519903e+04    2011.235191  9.804333e+04     NaN   \n",
       "std    4.473170e+06  1.218228e+07       9.452120  2.138815e+05     NaN   \n",
       "min    7.207408e+09  0.000000e+00    1900.000000  0.000000e+00     NaN   \n",
       "25%    7.308143e+09  5.900000e+03    2008.000000  3.770400e+04     NaN   \n",
       "50%    7.312621e+09  1.395000e+04    2013.000000  8.554800e+04     NaN   \n",
       "75%    7.315254e+09  2.648575e+04    2017.000000  1.335425e+05     NaN   \n",
       "max    7.317101e+09  3.736929e+09    2022.000000  1.000000e+07     NaN   \n",
       "\n",
       "                 lat           long  \n",
       "count  420331.000000  420331.000000  \n",
       "mean       38.493940     -94.748599  \n",
       "std         5.841533      18.365462  \n",
       "min       -84.122245    -159.827728  \n",
       "25%        34.601900    -111.939847  \n",
       "50%        39.150100     -88.432600  \n",
       "75%        42.398900     -80.832039  \n",
       "max        82.390818     173.885502  "
      ]
     },
     "execution_count": 9,
     "metadata": {},
     "output_type": "execute_result"
    }
   ],
   "source": [
    "%%time\n",
    "data.describe()"
   ]
  },
  {
   "cell_type": "markdown",
   "id": "a18403d3",
   "metadata": {},
   "source": [
    "#### Dropping 0 Prices to better analyze the data"
   ]
  },
  {
   "cell_type": "code",
   "execution_count": 10,
   "id": "6c117a8a",
   "metadata": {},
   "outputs": [
    {
     "name": "stdout",
     "output_type": "stream",
     "text": [
      "CPU times: total: 109 ms\n",
      "Wall time: 152 ms\n"
     ]
    }
   ],
   "source": [
    "%%time\n",
    "data.drop(data[data['price']<=0].index, inplace = True) "
   ]
  },
  {
   "cell_type": "markdown",
   "id": "46319c2c",
   "metadata": {},
   "source": [
    "#### Checking Price variations w.r.t Manufacturers"
   ]
  },
  {
   "cell_type": "code",
   "execution_count": 11,
   "id": "1e50e127",
   "metadata": {},
   "outputs": [
    {
     "name": "stdout",
     "output_type": "stream",
     "text": [
      "CPU times: total: 46.9 ms\n",
      "Wall time: 117 ms\n"
     ]
    }
   ],
   "source": [
    "%%time\n",
    "# using median as mean results in outlier\n",
    "median_prices_brand = data.groupby(['manufacturer'])['price'].median() "
   ]
  },
  {
   "cell_type": "markdown",
   "id": "b66614cd",
   "metadata": {},
   "source": [
    "#### Plotting Price v/s Manufacturers"
   ]
  },
  {
   "cell_type": "code",
   "execution_count": 12,
   "id": "b4b555bd",
   "metadata": {},
   "outputs": [
    {
     "data": {
      "image/png": "[encoded data removed]",
      "text/plain": [
       "<Figure size 1800x720 with 1 Axes>"
      ]
     },
     "metadata": {
      "needs_background": "light"
     },
     "output_type": "display_data"
    },
    {
     "name": "stdout",
     "output_type": "stream",
     "text": [
      "CPU times: total: 656 ms\n",
      "Wall time: 1.19 s\n"
     ]
    }
   ],
   "source": [
    "%%time\n",
    "_,ax=plt.subplots(1,1,figsize=(25,10))\n",
    "ax.ticklabel_format(useOffset=False,style='plain')\n",
    "ax.plot(median_prices_brand)\n",
    "plt.xticks(rotation='vertical')\n",
    "plt.title(\"Average Price for Brands\")\n",
    "plt.xlabel('Brand of cars')\n",
    "plt.ylabel('Price of Cars')\n",
    "plt.show()"
   ]
  },
  {
   "cell_type": "markdown",
   "id": "ad884b85",
   "metadata": {},
   "source": [
    "#### Checking Price variations w.r.t Fuel Type"
   ]
  },
  {
   "cell_type": "code",
   "execution_count": 13,
   "id": "6f56c201",
   "metadata": {},
   "outputs": [
    {
     "name": "stdout",
     "output_type": "stream",
     "text": [
      "CPU times: total: 15.6 ms\n",
      "Wall time: 26 ms\n"
     ]
    },
    {
     "data": {
      "text/plain": [
       "array([nan, 'gas', 'other', 'diesel', 'hybrid', 'electric'], dtype=object)"
      ]
     },
     "execution_count": 13,
     "metadata": {},
     "output_type": "execute_result"
    }
   ],
   "source": [
    "%%time\n",
    "data.fuel.unique()  # Checking unique fuel types"
   ]
  },
  {
   "cell_type": "code",
   "execution_count": 14,
   "id": "977e91cb",
   "metadata": {},
   "outputs": [
    {
     "name": "stdout",
     "output_type": "stream",
     "text": [
      "CPU times: total: 15.6 ms\n",
      "Wall time: 18.9 ms\n"
     ]
    },
    {
     "data": {
      "text/plain": [
       "2594"
      ]
     },
     "execution_count": 14,
     "metadata": {},
     "output_type": "execute_result"
    }
   ],
   "source": [
    "%%time\n",
    "data.fuel.isnull().sum()   # chcking no of rows having null values"
   ]
  },
  {
   "cell_type": "code",
   "execution_count": 15,
   "id": "75ee65c7",
   "metadata": {},
   "outputs": [
    {
     "name": "stdout",
     "output_type": "stream",
     "text": [
      "CPU times: total: 31.2 ms\n",
      "Wall time: 22.9 ms\n"
     ]
    }
   ],
   "source": [
    "%%time\n",
    "data.fuel.dropna(inplace=True)   # dropping the null values"
   ]
  },
  {
   "cell_type": "code",
   "execution_count": 16,
   "id": "10c66ed8",
   "metadata": {},
   "outputs": [
    {
     "name": "stdout",
     "output_type": "stream",
     "text": [
      "CPU times: total: 15.6 ms\n",
      "Wall time: 24.9 ms\n"
     ]
    },
    {
     "data": {
      "text/plain": [
       "array([nan, 'gas', 'other', 'diesel', 'hybrid', 'electric'], dtype=object)"
      ]
     },
     "execution_count": 16,
     "metadata": {},
     "output_type": "execute_result"
    }
   ],
   "source": [
    "%%time\n",
    "data.fuel.unique()   # checking for remaining unique values"
   ]
  },
  {
   "cell_type": "code",
   "execution_count": 17,
   "id": "730265bb",
   "metadata": {},
   "outputs": [
    {
     "name": "stdout",
     "output_type": "stream",
     "text": [
      "CPU times: total: 78.1 ms\n",
      "Wall time: 72.8 ms\n"
     ]
    }
   ],
   "source": [
    "%%time\n",
    "# Grouping the data and using median to not be affected by Outliers\n",
    "# using median as mean results in outlier\n",
    "median_prices_fuel = data.groupby(['fuel'])['price'].median() "
   ]
  },
  {
   "cell_type": "markdown",
   "id": "9c7112f6",
   "metadata": {},
   "source": [
    "#### Plotting Price v/s Fuel Type"
   ]
  },
  {
   "cell_type": "code",
   "execution_count": 18,
   "id": "86e3099c",
   "metadata": {},
   "outputs": [
    {
     "data": {
      "image/png": "[encoded data removed]",
      "text/plain": [
       "<Figure size 720x432 with 1 Axes>"
      ]
     },
     "metadata": {
      "needs_background": "light"
     },
     "output_type": "display_data"
    },
    {
     "name": "stdout",
     "output_type": "stream",
     "text": [
      "CPU times: total: 172 ms\n",
      "Wall time: 281 ms\n"
     ]
    }
   ],
   "source": [
    "%%time\n",
    "median_prices_fuel.plot.bar(figsize=(10,6),color='green')\n",
    "plt.xticks(rotation='horizontal')\n",
    "plt.title(\"Average Price for Fuel\")\n",
    "plt.xlabel('Fuel Type')\n",
    "plt.ylabel('Price of Cars')\n",
    "plt.show()"
   ]
  },
  {
   "cell_type": "markdown",
   "id": "9150d2e7",
   "metadata": {},
   "source": [
    "#### Checking Price variations w.r.t Transmission Type"
   ]
  },
  {
   "cell_type": "code",
   "execution_count": 19,
   "id": "7a4c5df7",
   "metadata": {},
   "outputs": [
    {
     "name": "stdout",
     "output_type": "stream",
     "text": [
      "CPU times: total: 15.6 ms\n",
      "Wall time: 20.9 ms\n"
     ]
    },
    {
     "data": {
      "text/plain": [
       "array([nan, 'other', 'automatic', 'manual'], dtype=object)"
      ]
     },
     "execution_count": 19,
     "metadata": {},
     "output_type": "execute_result"
    }
   ],
   "source": [
    "%%time\n",
    "data.transmission.unique()  # checking unique values of transmission"
   ]
  },
  {
   "cell_type": "code",
   "execution_count": 20,
   "id": "c81b58bd",
   "metadata": {},
   "outputs": [
    {
     "name": "stdout",
     "output_type": "stream",
     "text": [
      "CPU times: total: 15.6 ms\n",
      "Wall time: 18 ms\n"
     ]
    },
    {
     "data": {
      "text/plain": [
       "1823"
      ]
     },
     "execution_count": 20,
     "metadata": {},
     "output_type": "execute_result"
    }
   ],
   "source": [
    "%%time\n",
    "data.transmission.isnull().sum()  # checking number of rows having null values "
   ]
  },
  {
   "cell_type": "code",
   "execution_count": 21,
   "id": "09d02b28",
   "metadata": {},
   "outputs": [
    {
     "name": "stdout",
     "output_type": "stream",
     "text": [
      "CPU times: total: 31.2 ms\n",
      "Wall time: 26.9 ms\n"
     ]
    }
   ],
   "source": [
    "%%time\n",
    "data.transmission.dropna(inplace=True)   # dropping rows with null values"
   ]
  },
  {
   "cell_type": "code",
   "execution_count": 22,
   "id": "3b21a71d",
   "metadata": {},
   "outputs": [
    {
     "name": "stdout",
     "output_type": "stream",
     "text": [
      "CPU times: total: 31.2 ms\n",
      "Wall time: 23.9 ms\n"
     ]
    },
    {
     "data": {
      "text/plain": [
       "array([nan, 'other', 'automatic', 'manual'], dtype=object)"
      ]
     },
     "execution_count": 22,
     "metadata": {},
     "output_type": "execute_result"
    }
   ],
   "source": [
    "%%time\n",
    "data.transmission.unique()"
   ]
  },
  {
   "cell_type": "code",
   "execution_count": 23,
   "id": "a209b74f",
   "metadata": {},
   "outputs": [
    {
     "name": "stdout",
     "output_type": "stream",
     "text": [
      "CPU times: total: 46.9 ms\n",
      "Wall time: 57.8 ms\n"
     ]
    }
   ],
   "source": [
    "%%time\n",
    "# Grouping data by Tranmission and calculating median price of each type of transmission\n",
    "# using median as mean results in outlier\n",
    "median_prices_transmission = data.groupby(['transmission'])['price'].median() "
   ]
  },
  {
   "cell_type": "markdown",
   "id": "f0dc6f8c",
   "metadata": {},
   "source": [
    "#### Plotting Price v/s Transmission Type"
   ]
  },
  {
   "cell_type": "code",
   "execution_count": 24,
   "id": "e5f47a20",
   "metadata": {},
   "outputs": [
    {
     "data": {
      "image/png": "[encoded data removed]",
      "text/plain": [
       "<Figure size 360x432 with 1 Axes>"
      ]
     },
     "metadata": {
      "needs_background": "light"
     },
     "output_type": "display_data"
    },
    {
     "name": "stdout",
     "output_type": "stream",
     "text": [
      "CPU times: total: 125 ms\n",
      "Wall time: 133 ms\n"
     ]
    }
   ],
   "source": [
    "%%time\n",
    "median_prices_transmission.plot.bar(figsize=(5,6),color='red')\n",
    "plt.xticks(rotation='horizontal')\n",
    "plt.title(\"Average Price for Transmission\")\n",
    "plt.xlabel('Transmission Type')\n",
    "plt.ylabel('Price of Cars')\n",
    "plt.show()"
   ]
  },
  {
   "cell_type": "markdown",
   "id": "c1598537",
   "metadata": {},
   "source": [
    "### Data Cleaning Operations on Price : Removing Outliers"
   ]
  },
  {
   "cell_type": "code",
   "execution_count": 25,
   "id": "9faffb74",
   "metadata": {},
   "outputs": [
    {
     "name": "stdout",
     "output_type": "stream",
     "text": [
      "CPU times: total: 15.6 ms\n",
      "Wall time: 20.9 ms\n"
     ]
    },
    {
     "data": {
      "text/plain": [
       "count    3.939850e+05\n",
       "mean     8.147763e+04\n",
       "std      1.268064e+07\n",
       "min      1.000000e+00\n",
       "25%      7.000000e+03\n",
       "50%      1.500000e+04\n",
       "75%      2.759000e+04\n",
       "max      3.736929e+09\n",
       "Name: price, dtype: float64"
      ]
     },
     "execution_count": 25,
     "metadata": {},
     "output_type": "execute_result"
    }
   ],
   "source": [
    "%%time\n",
    "data.price.describe()"
   ]
  },
  {
   "cell_type": "code",
   "execution_count": 26,
   "id": "3a9d526d",
   "metadata": {},
   "outputs": [
    {
     "name": "stdout",
     "output_type": "stream",
     "text": [
      "1\n",
      "3736928711\n",
      "CPU times: total: 0 ns\n",
      "Wall time: 1.99 ms\n"
     ]
    }
   ],
   "source": [
    "%%time\n",
    "## checking the max and min of the price after removal of 0 previously\n",
    "print(data.price.min())\n",
    "print(data.price.max())"
   ]
  },
  {
   "cell_type": "code",
   "execution_count": 27,
   "id": "9c327cf5",
   "metadata": {},
   "outputs": [
    {
     "name": "stdout",
     "output_type": "stream",
     "text": [
      "Top 20 most used price points:\n",
      "6995     3169\n",
      "7995     3129\n",
      "9995     2867\n",
      "8995     2837\n",
      "4500     2778\n",
      "5995     2727\n",
      "3500     2716\n",
      "29990    2705\n",
      "6500     2594\n",
      "5500     2584\n",
      "10995    2390\n",
      "7500     2351\n",
      "25990    2320\n",
      "27990    2228\n",
      "2500     2204\n",
      "4995     2190\n",
      "26990    2112\n",
      "11995    2112\n",
      "12995    2109\n",
      "14995    2103\n",
      "Name: price, dtype: int64\n",
      "CPU times: total: 15.6 ms\n",
      "Wall time: 72.8 ms\n"
     ]
    }
   ],
   "source": [
    "%%time\n",
    "## the top 20 most prices used through out\n",
    "print (\"Top 20 most used price points:\")\n",
    "print (data.price.value_counts().iloc[:20])"
   ]
  },
  {
   "cell_type": "markdown",
   "id": "01181d96",
   "metadata": {},
   "source": [
    "Now According to many data available on google, we can say that the price of a used car can be max 150000 Dollars depending on cars like Ferarri, Lamborghini, but i would still keep it till 200000 Dollars. And lowest being 100 Dollars."
   ]
  },
  {
   "cell_type": "code",
   "execution_count": 28,
   "id": "5a3c204b",
   "metadata": {},
   "outputs": [
    {
     "name": "stdout",
     "output_type": "stream",
     "text": [
      "CPU times: total: 0 ns\n",
      "Wall time: 0 ns\n"
     ]
    }
   ],
   "source": [
    "%time\n",
    "data.drop(data[(data.price > 200000) | (data.price < 100)].index,inplace=True)"
   ]
  },
  {
   "cell_type": "code",
   "execution_count": 29,
   "id": "55ff868c",
   "metadata": {},
   "outputs": [
    {
     "name": "stdout",
     "output_type": "stream",
     "text": [
      "CPU times: total: 0 ns\n",
      "Wall time: 0 ns\n"
     ]
    },
    {
     "data": {
      "text/plain": [
       "(390534, 26)"
      ]
     },
     "execution_count": 29,
     "metadata": {},
     "output_type": "execute_result"
    }
   ],
   "source": [
    "%%time\n",
    "data.shape"
   ]
  },
  {
   "cell_type": "code",
   "execution_count": 30,
   "id": "73a91bdf",
   "metadata": {},
   "outputs": [
    {
     "name": "stdout",
     "output_type": "stream",
     "text": [
      "CPU times: total: 46.9 ms\n",
      "Wall time: 25 ms\n"
     ]
    },
    {
     "data": {
      "text/plain": [
       "count    390534.000000\n",
       "mean      19026.913646\n",
       "std       15056.080808\n",
       "min         100.000000\n",
       "25%        7495.000000\n",
       "50%       15500.000000\n",
       "75%       27900.000000\n",
       "max      200000.000000\n",
       "Name: price, dtype: float64"
      ]
     },
     "execution_count": 30,
     "metadata": {},
     "output_type": "execute_result"
    }
   ],
   "source": [
    "%%time\n",
    "data.price.describe()"
   ]
  },
  {
   "cell_type": "markdown",
   "id": "2a2c465c",
   "metadata": {},
   "source": [
    "#### Plotting the price ranges with Box Plot"
   ]
  },
  {
   "cell_type": "code",
   "execution_count": 31,
   "id": "4b2bd2a6",
   "metadata": {},
   "outputs": [
    {
     "name": "stdout",
     "output_type": "stream",
     "text": [
      "CPU times: total: 359 ms\n",
      "Wall time: 1.37 s\n"
     ]
    },
    {
     "data": {
      "text/plain": [
       "<AxesSubplot:ylabel='price'>"
      ]
     },
     "execution_count": 31,
     "metadata": {},
     "output_type": "execute_result"
    },
    {
     "data": {
      "image/png": "[encoded data removed]",
      "text/plain": [
       "<Figure size 288x576 with 1 Axes>"
      ]
     },
     "metadata": {
      "needs_background": "light"
     },
     "output_type": "display_data"
    }
   ],
   "source": [
    "%%time\n",
    "plt.figure(figsize=(4,8))\n",
    "sns.boxplot(y='price', data=data,showfliers=False);"
   ]
  },
  {
   "cell_type": "markdown",
   "id": "95289e63",
   "metadata": {},
   "source": [
    "#### Checking Price variations w.r.t State"
   ]
  },
  {
   "cell_type": "code",
   "execution_count": 32,
   "id": "8c8ed855",
   "metadata": {},
   "outputs": [
    {
     "name": "stdout",
     "output_type": "stream",
     "text": [
      "CPU times: total: 15.6 ms\n",
      "Wall time: 87.9 ms\n"
     ]
    },
    {
     "data": {
      "text/plain": [
       "array(['az', 'ar', 'fl', 'ma', 'nc', 'ny', 'or', 'pa', 'wa', 'wi', 'al',\n",
       "       'ak', 'ca', 'co', 'ct', 'dc', 'de', 'ga', 'hi', 'id', 'il', 'in',\n",
       "       'ia', 'ks', 'ky', 'la', 'me', 'md', 'mi', 'mn', 'ms', 'mo', 'mt',\n",
       "       'ne', 'nv', 'nj', 'nm', 'nh', 'nd', 'oh', 'ok', 'ri', 'sc', 'sd',\n",
       "       'tn', 'tx', 'ut', 'vt', 'va', 'wv', 'wy'], dtype=object)"
      ]
     },
     "execution_count": 32,
     "metadata": {},
     "output_type": "execute_result"
    }
   ],
   "source": [
    "%%time\n",
    "data.state.unique()   # checking unique state values"
   ]
  },
  {
   "cell_type": "code",
   "execution_count": 33,
   "id": "05623600",
   "metadata": {},
   "outputs": [
    {
     "name": "stdout",
     "output_type": "stream",
     "text": [
      "CPU times: total: 31.2 ms\n",
      "Wall time: 39.9 ms\n"
     ]
    }
   ],
   "source": [
    "%%time\n",
    "## grouping values using state and calculaing the median of each state\n",
    "# using median as mean results in outlier\n",
    "median_prices_state = data.groupby(['state'])['price'].median() "
   ]
  },
  {
   "cell_type": "markdown",
   "id": "f277ee1f",
   "metadata": {},
   "source": [
    "#### Plotting Price v/s State "
   ]
  },
  {
   "cell_type": "code",
   "execution_count": 34,
   "id": "045d0bfd",
   "metadata": {},
   "outputs": [
    {
     "data": {
      "image/png": "[encoded data removed]",
      "text/plain": [
       "<Figure size 1440x432 with 1 Axes>"
      ]
     },
     "metadata": {
      "needs_background": "light"
     },
     "output_type": "display_data"
    },
    {
     "name": "stdout",
     "output_type": "stream",
     "text": [
      "CPU times: total: 609 ms\n",
      "Wall time: 607 ms\n"
     ]
    }
   ],
   "source": [
    "%%time\n",
    "median_prices_state.plot.bar(figsize=(20,6),color='black')\n",
    "plt.xticks(rotation='horizontal')\n",
    "plt.title(\"Average Price for Fuel\")\n",
    "plt.xlabel('State')\n",
    "plt.ylabel('Price of Cars')\n",
    "plt.show()"
   ]
  },
  {
   "cell_type": "markdown",
   "id": "44a1202f",
   "metadata": {},
   "source": [
    "#### Getting the top 20 states where most cars have been sold "
   ]
  },
  {
   "cell_type": "code",
   "execution_count": 35,
   "id": "e4364b7d",
   "metadata": {},
   "outputs": [
    {
     "name": "stdout",
     "output_type": "stream",
     "text": [
      "Top 20 state where cars are sold most:\n",
      "ca    45135\n",
      "fl    26231\n",
      "tx    21175\n",
      "ny    17846\n",
      "oh    16591\n",
      "mi    16371\n",
      "or    14136\n",
      "pa    12871\n",
      "nc    12670\n",
      "wa    12435\n",
      "wi    11123\n",
      "tn    10477\n",
      "co    10375\n",
      "il     9860\n",
      "nj     9290\n",
      "va     8725\n",
      "id     8207\n",
      "az     8197\n",
      "ia     8095\n",
      "ma     7799\n",
      "Name: state, dtype: int64\n",
      "CPU times: total: 31.2 ms\n",
      "Wall time: 127 ms\n"
     ]
    }
   ],
   "source": [
    "%%time\n",
    "print ('Top 20 state where cars are sold most:')\n",
    "print (data['state'].value_counts().iloc[:20])"
   ]
  },
  {
   "cell_type": "markdown",
   "id": "02b302e7",
   "metadata": {},
   "source": [
    "#### Plotting States v/s Count of Sales "
   ]
  },
  {
   "cell_type": "code",
   "execution_count": 36,
   "id": "abf821a2",
   "metadata": {},
   "outputs": [
    {
     "name": "stdout",
     "output_type": "stream",
     "text": [
      "CPU times: total: 297 ms\n",
      "Wall time: 381 ms\n"
     ]
    },
    {
     "data": {
      "text/plain": [
       "Text(0.5, 1.0, 'State vs No.Of Sales')"
      ]
     },
     "execution_count": 36,
     "metadata": {},
     "output_type": "execute_result"
    },
    {
     "data": {
      "image/png": "[encoded data removed]",
      "text/plain": [
       "<Figure size 1080x576 with 1 Axes>"
      ]
     },
     "metadata": {
      "needs_background": "light"
     },
     "output_type": "display_data"
    }
   ],
   "source": [
    "%%time\n",
    "plt.figure(figsize=(15,8))\n",
    "ax = sns.countplot(x='state',data=data,order=data['state'].value_counts().index);\n",
    "plt.title('State vs No.Of Sales')"
   ]
  },
  {
   "cell_type": "markdown",
   "id": "381f8af6",
   "metadata": {},
   "source": [
    "#### Year : Data Visualization "
   ]
  },
  {
   "cell_type": "code",
   "execution_count": 37,
   "id": "0eb0ec96",
   "metadata": {},
   "outputs": [
    {
     "name": "stdout",
     "output_type": "stream",
     "text": [
      "CPU times: total: 0 ns\n",
      "Wall time: 87 ms\n"
     ]
    },
    {
     "data": {
      "text/plain": [
       "array([  nan, 2014., 2010., 2020., 2017., 2013., 2012., 2016., 2019.,\n",
       "       2011., 1992., 2018., 2004., 2015., 2001., 2006., 1968., 2003.,\n",
       "       2008., 2007., 2005., 1966., 2009., 1998., 2002., 1999., 2021.,\n",
       "       1997., 1976., 1969., 1995., 1978., 1954., 1979., 1970., 1974.,\n",
       "       1996., 1987., 2000., 1955., 1991., 1972., 1988., 1994., 1929.,\n",
       "       1984., 1986., 1989., 1973., 1946., 1933., 1958., 1937., 1985.,\n",
       "       1957., 1953., 1942., 1963., 1977., 1993., 1990., 1965., 1982.,\n",
       "       1948., 1983., 1936., 1932., 1951., 1931., 1980., 1967., 1971.,\n",
       "       1947., 1981., 1926., 1962., 1975., 1964., 1934., 1952., 1940.,\n",
       "       1959., 1950., 1930., 1956., 1960., 1922., 1928., 2022., 1901.,\n",
       "       1941., 1924., 1927., 1939., 1923., 1949., 1961., 1935., 1918.,\n",
       "       1938., 1900., 1913., 1916., 1943., 1925., 1921., 1915., 1945.,\n",
       "       1905., 1920., 1944., 1910., 1909.])"
      ]
     },
     "execution_count": 37,
     "metadata": {},
     "output_type": "execute_result"
    }
   ],
   "source": [
    "%%time\n",
    "data.year.unique()   ## checking unique values of year"
   ]
  },
  {
   "cell_type": "code",
   "execution_count": 38,
   "id": "76902fa3",
   "metadata": {},
   "outputs": [
    {
     "name": "stdout",
     "output_type": "stream",
     "text": [
      "CPU times: total: 0 ns\n",
      "Wall time: 998 µs\n"
     ]
    },
    {
     "data": {
      "text/plain": [
       "1173"
      ]
     },
     "execution_count": 38,
     "metadata": {},
     "output_type": "execute_result"
    }
   ],
   "source": [
    "%%time\n",
    "data.year.isnull().sum()   ## checking no. of rows with null year"
   ]
  },
  {
   "cell_type": "code",
   "execution_count": 39,
   "id": "9dc6a5e6",
   "metadata": {},
   "outputs": [
    {
     "name": "stdout",
     "output_type": "stream",
     "text": [
      "CPU times: total: 141 ms\n",
      "Wall time: 209 ms\n"
     ]
    }
   ],
   "source": [
    "%%time\n",
    "data.drop(data[(data.year <= 0) | (data.price.isnull())].index,inplace=True)   # dropping year that is either 0 or null"
   ]
  },
  {
   "cell_type": "code",
   "execution_count": 40,
   "id": "07fa3f41",
   "metadata": {},
   "outputs": [
    {
     "name": "stdout",
     "output_type": "stream",
     "text": [
      "CPU times: total: 0 ns\n",
      "Wall time: 0 ns\n"
     ]
    },
    {
     "data": {
      "text/plain": [
       "(390534, 26)"
      ]
     },
     "execution_count": 40,
     "metadata": {},
     "output_type": "execute_result"
    }
   ],
   "source": [
    "%%time\n",
    "data.shape"
   ]
  },
  {
   "cell_type": "markdown",
   "id": "bcd54ce8",
   "metadata": {},
   "source": [
    "#### Getting top 10 years of sale "
   ]
  },
  {
   "cell_type": "code",
   "execution_count": 41,
   "id": "eb1bde00",
   "metadata": {},
   "outputs": [
    {
     "name": "stdout",
     "output_type": "stream",
     "text": [
      "Top 10 Year where selling was most:\n",
      "2017.0    32194\n",
      "2018.0    32181\n",
      "2013.0    28014\n",
      "2015.0    27691\n",
      "2016.0    27151\n",
      "2014.0    26695\n",
      "2019.0    22700\n",
      "2012.0    22181\n",
      "2011.0    18944\n",
      "2020.0    17676\n",
      "Name: year, dtype: int64\n",
      "CPU times: total: 15.6 ms\n",
      "Wall time: 51.6 ms\n"
     ]
    }
   ],
   "source": [
    "%%time\n",
    "print ('Top 10 Year where selling was most:')\n",
    "print (data['year'].value_counts().iloc[:10])"
   ]
  },
  {
   "cell_type": "markdown",
   "id": "26a75dbb",
   "metadata": {},
   "source": [
    "#### Plotting Year v/s Per Year Sale "
   ]
  },
  {
   "cell_type": "code",
   "execution_count": 42,
   "id": "11f0c34a",
   "metadata": {},
   "outputs": [
    {
     "name": "stdout",
     "output_type": "stream",
     "text": [
      "CPU times: total: 312 ms\n",
      "Wall time: 312 ms\n"
     ]
    },
    {
     "data": {
      "text/plain": [
       "Text(0.5, 1.0, 'Year vs No.Of Sales')"
      ]
     },
     "execution_count": 42,
     "metadata": {},
     "output_type": "execute_result"
    },
    {
     "data": {
      "image/png": "[encoded data removed]",
      "text/plain": [
       "<Figure size 2160x576 with 1 Axes>"
      ]
     },
     "metadata": {
      "needs_background": "light"
     },
     "output_type": "display_data"
    }
   ],
   "source": [
    "%%time\n",
    "plt.figure(figsize=(30,8))\n",
    "ax = sns.countplot(x='year',data=data,order=data['year'].value_counts().index);\n",
    "plt.xticks(rotation='vertical')\n",
    "plt.title('Year vs No.Of Sales')"
   ]
  },
  {
   "cell_type": "markdown",
   "id": "2c0d78ca",
   "metadata": {},
   "source": [
    "We can see that the sales decreses as we move towards the past, it decreases after 1960 hence we will only keep data above 1960 "
   ]
  },
  {
   "cell_type": "code",
   "execution_count": 43,
   "id": "2d3f158d",
   "metadata": {},
   "outputs": [
    {
     "name": "stdout",
     "output_type": "stream",
     "text": [
      "CPU times: total: 156 ms\n",
      "Wall time: 155 ms\n"
     ]
    }
   ],
   "source": [
    "%%time\n",
    "data.drop(data[(data.year < 1960)].index,inplace=True)   ## dropping data below 1960"
   ]
  },
  {
   "cell_type": "code",
   "execution_count": 44,
   "id": "614d3312",
   "metadata": {},
   "outputs": [
    {
     "name": "stdout",
     "output_type": "stream",
     "text": [
      "CPU times: total: 0 ns\n",
      "Wall time: 0 ns\n"
     ]
    },
    {
     "data": {
      "text/plain": [
       "(388225, 26)"
      ]
     },
     "execution_count": 44,
     "metadata": {},
     "output_type": "execute_result"
    }
   ],
   "source": [
    "%%time\n",
    "data.shape"
   ]
  },
  {
   "cell_type": "markdown",
   "id": "f5a19aff",
   "metadata": {},
   "source": [
    "# Data Cleaning : "
   ]
  },
  {
   "cell_type": "code",
   "execution_count": 45,
   "id": "5d67a423",
   "metadata": {},
   "outputs": [
    {
     "name": "stdout",
     "output_type": "stream",
     "text": [
      "CPU times: total: 0 ns\n",
      "Wall time: 0 ns\n"
     ]
    },
    {
     "data": {
      "text/plain": [
       "Index(['id', 'url', 'region', 'region_url', 'price', 'year', 'manufacturer',\n",
       "       'model', 'condition', 'cylinders', 'fuel', 'odometer', 'title_status',\n",
       "       'transmission', 'VIN', 'drive', 'size', 'type', 'paint_color',\n",
       "       'image_url', 'description', 'county', 'state', 'lat', 'long',\n",
       "       'posting_date'],\n",
       "      dtype='object')"
      ]
     },
     "execution_count": 45,
     "metadata": {},
     "output_type": "execute_result"
    }
   ],
   "source": [
    "%%time\n",
    "data.columns"
   ]
  },
  {
   "cell_type": "code",
   "execution_count": 46,
   "id": "da037258",
   "metadata": {},
   "outputs": [
    {
     "name": "stdout",
     "output_type": "stream",
     "text": [
      "CPU times: total: 0 ns\n",
      "Wall time: 0 ns\n"
     ]
    },
    {
     "data": {
      "text/html": [
       "<div>\n",
       "<style scoped>\n",
       "    .dataframe tbody tr th:only-of-type {\n",
       "        vertical-align: middle;\n",
       "    }\n",
       "\n",
       "    .dataframe tbody tr th {\n",
       "        vertical-align: top;\n",
       "    }\n",
       "\n",
       "    .dataframe thead th {\n",
       "        text-align: right;\n",
       "    }\n",
       "</style>\n",
       "<table border=\"1\" class=\"dataframe\">\n",
       "  <thead>\n",
       "    <tr style=\"text-align: right;\">\n",
       "      <th></th>\n",
       "      <th>id</th>\n",
       "      <th>url</th>\n",
       "      <th>region</th>\n",
       "      <th>region_url</th>\n",
       "      <th>price</th>\n",
       "      <th>year</th>\n",
       "      <th>manufacturer</th>\n",
       "      <th>model</th>\n",
       "      <th>condition</th>\n",
       "      <th>cylinders</th>\n",
       "      <th>...</th>\n",
       "      <th>size</th>\n",
       "      <th>type</th>\n",
       "      <th>paint_color</th>\n",
       "      <th>image_url</th>\n",
       "      <th>description</th>\n",
       "      <th>county</th>\n",
       "      <th>state</th>\n",
       "      <th>lat</th>\n",
       "      <th>long</th>\n",
       "      <th>posting_date</th>\n",
       "    </tr>\n",
       "  </thead>\n",
       "  <tbody>\n",
       "    <tr>\n",
       "      <th>0</th>\n",
       "      <td>7222695916</td>\n",
       "      <td>https://prescott.craigslist.org/cto/d/prescott...</td>\n",
       "      <td>prescott</td>\n",
       "      <td>https://prescott.craigslist.org</td>\n",
       "      <td>6000</td>\n",
       "      <td>NaN</td>\n",
       "      <td>NaN</td>\n",
       "      <td>NaN</td>\n",
       "      <td>NaN</td>\n",
       "      <td>NaN</td>\n",
       "      <td>...</td>\n",
       "      <td>NaN</td>\n",
       "      <td>NaN</td>\n",
       "      <td>NaN</td>\n",
       "      <td>NaN</td>\n",
       "      <td>NaN</td>\n",
       "      <td>NaN</td>\n",
       "      <td>az</td>\n",
       "      <td>NaN</td>\n",
       "      <td>NaN</td>\n",
       "      <td>NaN</td>\n",
       "    </tr>\n",
       "    <tr>\n",
       "      <th>1</th>\n",
       "      <td>7218891961</td>\n",
       "      <td>https://fayar.craigslist.org/ctd/d/bentonville...</td>\n",
       "      <td>fayetteville</td>\n",
       "      <td>https://fayar.craigslist.org</td>\n",
       "      <td>11900</td>\n",
       "      <td>NaN</td>\n",
       "      <td>NaN</td>\n",
       "      <td>NaN</td>\n",
       "      <td>NaN</td>\n",
       "      <td>NaN</td>\n",
       "      <td>...</td>\n",
       "      <td>NaN</td>\n",
       "      <td>NaN</td>\n",
       "      <td>NaN</td>\n",
       "      <td>NaN</td>\n",
       "      <td>NaN</td>\n",
       "      <td>NaN</td>\n",
       "      <td>ar</td>\n",
       "      <td>NaN</td>\n",
       "      <td>NaN</td>\n",
       "      <td>NaN</td>\n",
       "    </tr>\n",
       "  </tbody>\n",
       "</table>\n",
       "<p>2 rows × 26 columns</p>\n",
       "</div>"
      ],
      "text/plain": [
       "           id                                                url  \\\n",
       "0  7222695916  https://prescott.craigslist.org/cto/d/prescott...   \n",
       "1  7218891961  https://fayar.craigslist.org/ctd/d/bentonville...   \n",
       "\n",
       "         region                       region_url  price  year manufacturer  \\\n",
       "0      prescott  https://prescott.craigslist.org   6000   NaN          NaN   \n",
       "1  fayetteville     https://fayar.craigslist.org  11900   NaN          NaN   \n",
       "\n",
       "  model condition cylinders  ... size  type paint_color image_url description  \\\n",
       "0   NaN       NaN       NaN  ...  NaN   NaN         NaN       NaN         NaN   \n",
       "1   NaN       NaN       NaN  ...  NaN   NaN         NaN       NaN         NaN   \n",
       "\n",
       "  county state lat long posting_date  \n",
       "0    NaN    az NaN  NaN          NaN  \n",
       "1    NaN    ar NaN  NaN          NaN  \n",
       "\n",
       "[2 rows x 26 columns]"
      ]
     },
     "execution_count": 46,
     "metadata": {},
     "output_type": "execute_result"
    }
   ],
   "source": [
    "%%time\n",
    "data.head(2)"
   ]
  },
  {
   "cell_type": "markdown",
   "id": "7d5ecc05",
   "metadata": {},
   "source": [
    "### Dropping Columns"
   ]
  },
  {
   "cell_type": "code",
   "execution_count": 47,
   "id": "e92f89d1",
   "metadata": {},
   "outputs": [
    {
     "name": "stdout",
     "output_type": "stream",
     "text": [
      "CPU times: total: 31.2 ms\n",
      "Wall time: 32.9 ms\n"
     ]
    }
   ],
   "source": [
    "%%time\n",
    "drop_columns = ['id','url','region_url','VIN','image_url','region','title_status', 'size','lat','long','description','county','posting_date']\n",
    "data.drop(columns=drop_columns,inplace=True)"
   ]
  },
  {
   "cell_type": "code",
   "execution_count": 48,
   "id": "46e90a64",
   "metadata": {},
   "outputs": [
    {
     "name": "stdout",
     "output_type": "stream",
     "text": [
      "CPU times: total: 0 ns\n",
      "Wall time: 0 ns\n"
     ]
    },
    {
     "data": {
      "text/html": [
       "<div>\n",
       "<style scoped>\n",
       "    .dataframe tbody tr th:only-of-type {\n",
       "        vertical-align: middle;\n",
       "    }\n",
       "\n",
       "    .dataframe tbody tr th {\n",
       "        vertical-align: top;\n",
       "    }\n",
       "\n",
       "    .dataframe thead th {\n",
       "        text-align: right;\n",
       "    }\n",
       "</style>\n",
       "<table border=\"1\" class=\"dataframe\">\n",
       "  <thead>\n",
       "    <tr style=\"text-align: right;\">\n",
       "      <th></th>\n",
       "      <th>price</th>\n",
       "      <th>year</th>\n",
       "      <th>manufacturer</th>\n",
       "      <th>model</th>\n",
       "      <th>condition</th>\n",
       "      <th>cylinders</th>\n",
       "      <th>fuel</th>\n",
       "      <th>odometer</th>\n",
       "      <th>transmission</th>\n",
       "      <th>drive</th>\n",
       "      <th>type</th>\n",
       "      <th>paint_color</th>\n",
       "      <th>state</th>\n",
       "    </tr>\n",
       "  </thead>\n",
       "  <tbody>\n",
       "    <tr>\n",
       "      <th>0</th>\n",
       "      <td>6000</td>\n",
       "      <td>NaN</td>\n",
       "      <td>NaN</td>\n",
       "      <td>NaN</td>\n",
       "      <td>NaN</td>\n",
       "      <td>NaN</td>\n",
       "      <td>NaN</td>\n",
       "      <td>NaN</td>\n",
       "      <td>NaN</td>\n",
       "      <td>NaN</td>\n",
       "      <td>NaN</td>\n",
       "      <td>NaN</td>\n",
       "      <td>az</td>\n",
       "    </tr>\n",
       "    <tr>\n",
       "      <th>1</th>\n",
       "      <td>11900</td>\n",
       "      <td>NaN</td>\n",
       "      <td>NaN</td>\n",
       "      <td>NaN</td>\n",
       "      <td>NaN</td>\n",
       "      <td>NaN</td>\n",
       "      <td>NaN</td>\n",
       "      <td>NaN</td>\n",
       "      <td>NaN</td>\n",
       "      <td>NaN</td>\n",
       "      <td>NaN</td>\n",
       "      <td>NaN</td>\n",
       "      <td>ar</td>\n",
       "    </tr>\n",
       "  </tbody>\n",
       "</table>\n",
       "</div>"
      ],
      "text/plain": [
       "   price  year manufacturer model condition cylinders fuel  odometer  \\\n",
       "0   6000   NaN          NaN   NaN       NaN       NaN  NaN       NaN   \n",
       "1  11900   NaN          NaN   NaN       NaN       NaN  NaN       NaN   \n",
       "\n",
       "  transmission drive type paint_color state  \n",
       "0          NaN   NaN  NaN         NaN    az  \n",
       "1          NaN   NaN  NaN         NaN    ar  "
      ]
     },
     "execution_count": 48,
     "metadata": {},
     "output_type": "execute_result"
    }
   ],
   "source": [
    "%%time\n",
    "data.head(2)"
   ]
  },
  {
   "cell_type": "markdown",
   "id": "82f640b9",
   "metadata": {},
   "source": [
    "####  Checking the total null values we had in the whole data set"
   ]
  },
  {
   "cell_type": "code",
   "execution_count": 49,
   "id": "9b34dbf3",
   "metadata": {},
   "outputs": [
    {
     "name": "stdout",
     "output_type": "stream",
     "text": [
      "CPU times: total: 531 ms\n",
      "Wall time: 587 ms\n"
     ]
    },
    {
     "data": {
      "text/plain": [
       "price                0\n",
       "year              1173\n",
       "manufacturer     15325\n",
       "model             4187\n",
       "condition       148827\n",
       "cylinders       157765\n",
       "fuel              2590\n",
       "odometer          2279\n",
       "transmission      1814\n",
       "drive           118005\n",
       "type             83274\n",
       "paint_color     114723\n",
       "state                0\n",
       "dtype: int64"
      ]
     },
     "execution_count": 49,
     "metadata": {},
     "output_type": "execute_result"
    }
   ],
   "source": [
    "%%time\n",
    "data.isnull().sum()"
   ]
  },
  {
   "cell_type": "markdown",
   "id": "6e652a9c",
   "metadata": {},
   "source": [
    "#### Dropping the Null values and checking the total rows we dropped "
   ]
  },
  {
   "cell_type": "code",
   "execution_count": 50,
   "id": "c97b646b",
   "metadata": {},
   "outputs": [
    {
     "name": "stdout",
     "output_type": "stream",
     "text": [
      "Total Number of rows Dropped for Null :  278212\n",
      "CPU times: total: 609 ms\n",
      "Wall time: 729 ms\n"
     ]
    }
   ],
   "source": [
    "%%time\n",
    "rows_existing = data.shape[0]\n",
    "data.dropna(inplace=True)\n",
    "rows_new = data.shape[0]\n",
    "\n",
    "print('Total Number of rows Dropped for Null : ',(rows_existing-rows_new))"
   ]
  },
  {
   "cell_type": "code",
   "execution_count": 51,
   "id": "f9220f33",
   "metadata": {},
   "outputs": [
    {
     "name": "stdout",
     "output_type": "stream",
     "text": [
      "Total No. of rows Dropped till now :  316867\n",
      "CPU times: total: 0 ns\n",
      "Wall time: 0 ns\n"
     ]
    }
   ],
   "source": [
    "%%time\n",
    "print('Total No. of rows Dropped till now : ',(total_rows - rows_new))"
   ]
  },
  {
   "cell_type": "code",
   "execution_count": 52,
   "id": "af81abd4",
   "metadata": {},
   "outputs": [
    {
     "name": "stdout",
     "output_type": "stream",
     "text": [
      "CPU times: total: 0 ns\n",
      "Wall time: 0 ns\n"
     ]
    },
    {
     "data": {
      "text/plain": [
       "(110013, 13)"
      ]
     },
     "execution_count": 52,
     "metadata": {},
     "output_type": "execute_result"
    }
   ],
   "source": [
    "%%time\n",
    "data.shape"
   ]
  },
  {
   "cell_type": "code",
   "execution_count": 131,
   "id": "6ed65b7e",
   "metadata": {},
   "outputs": [],
   "source": [
    "data.to_csv(\"final.csv\",index=False)"
   ]
  },
  {
   "cell_type": "code",
   "execution_count": 53,
   "id": "ed7e7f41",
   "metadata": {},
   "outputs": [
    {
     "name": "stdout",
     "output_type": "stream",
     "text": [
      "<class 'pandas.core.frame.DataFrame'>\n",
      "Int64Index: 110013 entries, 31 to 426878\n",
      "Data columns (total 13 columns):\n",
      " #   Column        Non-Null Count   Dtype  \n",
      "---  ------        --------------   -----  \n",
      " 0   price         110013 non-null  int64  \n",
      " 1   year          110013 non-null  float64\n",
      " 2   manufacturer  110013 non-null  object \n",
      " 3   model         110013 non-null  object \n",
      " 4   condition     110013 non-null  object \n",
      " 5   cylinders     110013 non-null  object \n",
      " 6   fuel          110013 non-null  object \n",
      " 7   odometer      110013 non-null  float64\n",
      " 8   transmission  110013 non-null  object \n",
      " 9   drive         110013 non-null  object \n",
      " 10  type          110013 non-null  object \n",
      " 11  paint_color   110013 non-null  object \n",
      " 12  state         110013 non-null  object \n",
      "dtypes: float64(2), int64(1), object(10)\n",
      "memory usage: 11.8+ MB\n",
      "CPU times: total: 328 ms\n",
      "Wall time: 425 ms\n"
     ]
    }
   ],
   "source": [
    "%%time\n",
    "data.info()"
   ]
  },
  {
   "cell_type": "markdown",
   "id": "6f5708e1",
   "metadata": {},
   "source": [
    "## Splitting the data into Train and Test "
   ]
  },
  {
   "cell_type": "code",
   "execution_count": 54,
   "id": "b37e7422",
   "metadata": {},
   "outputs": [
    {
     "name": "stdout",
     "output_type": "stream",
     "text": [
      "CPU times: total: 31.2 ms\n",
      "Wall time: 143 ms\n"
     ]
    }
   ],
   "source": [
    "%%time\n",
    "X = data.drop(columns=['price'])\n",
    "y = data['price']\n",
    "\n",
    "X_train, X_test, y_train, y_test = train_test_split(X, y, test_size=0.2, random_state=42)"
   ]
  },
  {
   "cell_type": "code",
   "execution_count": 55,
   "id": "35c320c8",
   "metadata": {},
   "outputs": [
    {
     "name": "stdout",
     "output_type": "stream",
     "text": [
      "(88010, 12)\n",
      "(22003, 12)\n",
      "CPU times: total: 0 ns\n",
      "Wall time: 0 ns\n"
     ]
    }
   ],
   "source": [
    "%%time\n",
    "print(X_train.shape)\n",
    "print(X_test.shape)"
   ]
  },
  {
   "cell_type": "code",
   "execution_count": 56,
   "id": "d67ad365",
   "metadata": {},
   "outputs": [
    {
     "name": "stdout",
     "output_type": "stream",
     "text": [
      "CPU times: total: 0 ns\n",
      "Wall time: 0 ns\n"
     ]
    },
    {
     "data": {
      "text/plain": [
       "Index(['year', 'manufacturer', 'model', 'condition', 'cylinders', 'fuel',\n",
       "       'odometer', 'transmission', 'drive', 'type', 'paint_color', 'state'],\n",
       "      dtype='object')"
      ]
     },
     "execution_count": 56,
     "metadata": {},
     "output_type": "execute_result"
    }
   ],
   "source": [
    "%%time\n",
    "X_train.columns"
   ]
  },
  {
   "cell_type": "code",
   "execution_count": 57,
   "id": "2894d815",
   "metadata": {},
   "outputs": [
    {
     "name": "stdout",
     "output_type": "stream",
     "text": [
      "CPU times: total: 0 ns\n",
      "Wall time: 0 ns\n"
     ]
    }
   ],
   "source": [
    "%%time\n",
    "train_year = X_train.year\n",
    "train_manufacturer = X_train.manufacturer\n",
    "train_model = X_train.model\n",
    "train_condition = X_train.condition\n",
    "train_cylinders = X_train.cylinders\n",
    "train_fuel = X_train.fuel\n",
    "train_odometer = X_train.odometer\n",
    "train_transmission = X_train.transmission\n",
    "train_drive = X_train.drive\n",
    "train_type = X_train.type\n",
    "train_paint_color = X_train.paint_color\n",
    "train_state = X_train.state"
   ]
  },
  {
   "cell_type": "code",
   "execution_count": 58,
   "id": "1342c2ad",
   "metadata": {},
   "outputs": [
    {
     "name": "stdout",
     "output_type": "stream",
     "text": [
      "CPU times: total: 0 ns\n",
      "Wall time: 998 µs\n"
     ]
    }
   ],
   "source": [
    "%%time\n",
    "test_year = X_test.year\n",
    "test_manufacturer = X_test.manufacturer\n",
    "test_model = X_test.model\n",
    "test_condition = X_test.condition\n",
    "test_cylinders = X_test.cylinders\n",
    "test_fuel = X_test.fuel\n",
    "test_odometer = X_test.odometer\n",
    "test_transmission = X_test.transmission\n",
    "test_drive = X_test.drive\n",
    "test_type = X_test.type\n",
    "test_paint_color = X_test.paint_color\n",
    "test_state = X_test.state"
   ]
  },
  {
   "cell_type": "markdown",
   "id": "ea0ee05e",
   "metadata": {},
   "source": [
    "## Data Pre-Processing : "
   ]
  },
  {
   "cell_type": "markdown",
   "id": "473229ac",
   "metadata": {},
   "source": [
    "### Manufacturer : "
   ]
  },
  {
   "cell_type": "code",
   "execution_count": 59,
   "id": "b6bc1f77",
   "metadata": {},
   "outputs": [
    {
     "name": "stdout",
     "output_type": "stream",
     "text": [
      "CPU times: total: 0 ns\n",
      "Wall time: 5.98 ms\n"
     ]
    },
    {
     "data": {
      "text/plain": [
       "array(['volkswagen', 'ford', 'mitsubishi', 'chrysler', 'porsche', 'lexus',\n",
       "       'bmw', 'toyota', 'nissan', 'gmc', 'infiniti', 'buick', 'jaguar',\n",
       "       'acura', 'honda', 'ram', 'chevrolet', 'audi', 'jeep', 'hyundai',\n",
       "       'mercedes-benz', 'dodge', 'pontiac', 'mazda', 'kia', 'rover',\n",
       "       'volvo', 'lincoln', 'subaru', 'cadillac', 'saturn', 'mercury',\n",
       "       'fiat', 'mini', 'ferrari', 'alfa-romeo', 'datsun',\n",
       "       'harley-davidson', 'tesla', 'land rover', 'aston-martin'],\n",
       "      dtype=object)"
      ]
     },
     "execution_count": 59,
     "metadata": {},
     "output_type": "execute_result"
    }
   ],
   "source": [
    "%%time\n",
    "train_manufacturer.unique()"
   ]
  },
  {
   "cell_type": "markdown",
   "id": "abd47610",
   "metadata": {},
   "source": [
    "####  One-Hot Encoding :"
   ]
  },
  {
   "cell_type": "code",
   "execution_count": 60,
   "id": "1fdccddd",
   "metadata": {},
   "outputs": [
    {
     "name": "stdout",
     "output_type": "stream",
     "text": [
      "CPU times: total: 31.2 ms\n",
      "Wall time: 35.1 ms\n"
     ]
    }
   ],
   "source": [
    "%%time\n",
    "manufacturer_onehot_encoder = OneHotEncoder(handle_unknown='ignore')\n",
    "x_manu_oneHot_train = manufacturer_onehot_encoder.fit_transform(train_manufacturer.values.reshape(-1,1))\n",
    "x_manu_oneHot_test = manufacturer_onehot_encoder.transform(test_manufacturer.values.reshape(-1,1))"
   ]
  },
  {
   "cell_type": "code",
   "execution_count": 61,
   "id": "ce1956f6",
   "metadata": {},
   "outputs": [
    {
     "name": "stdout",
     "output_type": "stream",
     "text": [
      "CPU times: total: 0 ns\n",
      "Wall time: 0 ns\n"
     ]
    },
    {
     "data": {
      "text/plain": [
       "[array(['acura', 'alfa-romeo', 'aston-martin', 'audi', 'bmw', 'buick',\n",
       "        'cadillac', 'chevrolet', 'chrysler', 'datsun', 'dodge', 'ferrari',\n",
       "        'fiat', 'ford', 'gmc', 'harley-davidson', 'honda', 'hyundai',\n",
       "        'infiniti', 'jaguar', 'jeep', 'kia', 'land rover', 'lexus',\n",
       "        'lincoln', 'mazda', 'mercedes-benz', 'mercury', 'mini',\n",
       "        'mitsubishi', 'nissan', 'pontiac', 'porsche', 'ram', 'rover',\n",
       "        'saturn', 'subaru', 'tesla', 'toyota', 'volkswagen', 'volvo'],\n",
       "       dtype=object)]"
      ]
     },
     "execution_count": 61,
     "metadata": {},
     "output_type": "execute_result"
    }
   ],
   "source": [
    "%%time\n",
    "manufacturer_onehot_encoder.categories_"
   ]
  },
  {
   "cell_type": "code",
   "execution_count": 62,
   "id": "f5712d52",
   "metadata": {},
   "outputs": [
    {
     "name": "stdout",
     "output_type": "stream",
     "text": [
      "(88010, 41)\n",
      "(22003, 41)\n",
      "CPU times: total: 0 ns\n",
      "Wall time: 0 ns\n"
     ]
    }
   ],
   "source": [
    "%%time\n",
    "print(x_manu_oneHot_train.shape)\n",
    "print(x_manu_oneHot_test.shape)"
   ]
  },
  {
   "cell_type": "code",
   "execution_count": 63,
   "id": "66d0edb4",
   "metadata": {},
   "outputs": [],
   "source": [
    "import pickle"
   ]
  },
  {
   "cell_type": "code",
   "execution_count": 64,
   "id": "12546134",
   "metadata": {},
   "outputs": [],
   "source": [
    "filename = \"manufacturer_onehot_encoder\"\n",
    "pickle.dump(manufacturer_onehot_encoder,open(filename,'wb'))"
   ]
  },
  {
   "cell_type": "markdown",
   "id": "2439b087",
   "metadata": {},
   "source": [
    "###  Model :"
   ]
  },
  {
   "cell_type": "code",
   "execution_count": 65,
   "id": "1b1fe959",
   "metadata": {},
   "outputs": [
    {
     "name": "stdout",
     "output_type": "stream",
     "text": [
      "CPU times: total: 31.2 ms\n",
      "Wall time: 22.9 ms\n"
     ]
    },
    {
     "data": {
      "text/plain": [
       "9817"
      ]
     },
     "execution_count": 65,
     "metadata": {},
     "output_type": "execute_result"
    }
   ],
   "source": [
    "%%time\n",
    "len(train_model.unique())"
   ]
  },
  {
   "cell_type": "code",
   "execution_count": 66,
   "id": "75d18d64",
   "metadata": {},
   "outputs": [
    {
     "name": "stdout",
     "output_type": "stream",
     "text": [
      "CPU times: total: 31.2 ms\n",
      "Wall time: 19.9 ms\n"
     ]
    },
    {
     "data": {
      "text/plain": [
       "f-150                      1351\n",
       "silverado 1500             1161\n",
       "1500                        745\n",
       "camry                       702\n",
       "accord                      659\n",
       "                           ... \n",
       "villager estate edition       1\n",
       "silverado hd2500              1\n",
       "rx 350 sport utility          1\n",
       "charger r/t srt               1\n",
       "qx80 rwd                      1\n",
       "Name: model, Length: 9817, dtype: int64"
      ]
     },
     "execution_count": 66,
     "metadata": {},
     "output_type": "execute_result"
    }
   ],
   "source": [
    "%%time\n",
    "train_model.value_counts()"
   ]
  },
  {
   "cell_type": "markdown",
   "id": "956ac5f7",
   "metadata": {},
   "source": [
    "####  Frequency Encoding :"
   ]
  },
  {
   "cell_type": "code",
   "execution_count": 67,
   "id": "ed0a3f65",
   "metadata": {},
   "outputs": [
    {
     "name": "stdout",
     "output_type": "stream",
     "text": [
      "CPU times: total: 1min 45s\n",
      "Wall time: 1min 45s\n"
     ]
    }
   ],
   "source": [
    "%%time\n",
    "dict_model_freq = dict(Counter(train_model))\n",
    "x_model_freq_train = train_model.replace(dict_model_freq).values.reshape(-1,1)"
   ]
  },
  {
   "cell_type": "code",
   "execution_count": 68,
   "id": "603448df",
   "metadata": {},
   "outputs": [
    {
     "name": "stdout",
     "output_type": "stream",
     "text": [
      "CPU times: total: 46.9 ms\n",
      "Wall time: 80.8 ms\n"
     ]
    }
   ],
   "source": [
    "%%time\n",
    "#we use map to replace values not present in dictionary with Nan\n",
    "x_model_freq_test = test_model.map(dict_model_freq).fillna(0).astype('int64').values.reshape(-1,1)"
   ]
  },
  {
   "cell_type": "code",
   "execution_count": 69,
   "id": "5f4ba045",
   "metadata": {},
   "outputs": [
    {
     "name": "stdout",
     "output_type": "stream",
     "text": [
      "(88010, 1)\n",
      "(22003, 1)\n",
      "CPU times: total: 0 ns\n",
      "Wall time: 0 ns\n"
     ]
    }
   ],
   "source": [
    "%%time\n",
    "print(x_model_freq_train.shape)\n",
    "print(x_model_freq_test.shape)"
   ]
  },
  {
   "cell_type": "code",
   "execution_count": 70,
   "id": "d03f3110",
   "metadata": {},
   "outputs": [],
   "source": [
    "filename = \"dict_model_freq\"\n",
    "pickle.dump(dict_model_freq,open(filename,'wb'))"
   ]
  },
  {
   "cell_type": "markdown",
   "id": "e827eca4",
   "metadata": {},
   "source": [
    "###  Condition :"
   ]
  },
  {
   "cell_type": "code",
   "execution_count": 71,
   "id": "87cf4416",
   "metadata": {},
   "outputs": [
    {
     "name": "stdout",
     "output_type": "stream",
     "text": [
      "CPU times: total: 0 ns\n",
      "Wall time: 6.98 ms\n"
     ]
    },
    {
     "data": {
      "text/plain": [
       "array(['good', 'excellent', 'like new', 'fair', 'new', 'salvage'],\n",
       "      dtype=object)"
      ]
     },
     "execution_count": 71,
     "metadata": {},
     "output_type": "execute_result"
    }
   ],
   "source": [
    "%%time\n",
    "train_condition.unique()"
   ]
  },
  {
   "cell_type": "markdown",
   "id": "145aac39",
   "metadata": {},
   "source": [
    "#### One-Hot Encoding : "
   ]
  },
  {
   "cell_type": "code",
   "execution_count": 72,
   "id": "4df9a11a",
   "metadata": {},
   "outputs": [
    {
     "name": "stdout",
     "output_type": "stream",
     "text": [
      "CPU times: total: 46.9 ms\n",
      "Wall time: 41.9 ms\n"
     ]
    }
   ],
   "source": [
    "%%time\n",
    "condition_onehot_encoder = OneHotEncoder(handle_unknown='ignore')\n",
    "x_condition_oneHot_train = condition_onehot_encoder.fit_transform(train_condition.values.reshape(-1,1))\n",
    "x_condition_oneHot_test = condition_onehot_encoder.transform(test_condition.values.reshape(-1,1))"
   ]
  },
  {
   "cell_type": "code",
   "execution_count": 73,
   "id": "7232222e",
   "metadata": {},
   "outputs": [
    {
     "name": "stdout",
     "output_type": "stream",
     "text": [
      "(88010, 6)\n",
      "(22003, 6)\n",
      "CPU times: total: 0 ns\n",
      "Wall time: 0 ns\n"
     ]
    }
   ],
   "source": [
    "%%time\n",
    "print(x_condition_oneHot_train.shape)\n",
    "print(x_condition_oneHot_test.shape)"
   ]
  },
  {
   "cell_type": "code",
   "execution_count": 74,
   "id": "358cb18f",
   "metadata": {},
   "outputs": [],
   "source": [
    "filename = \"condition_onehot_encoder\"\n",
    "pickle.dump(condition_onehot_encoder,open(filename,'wb'))"
   ]
  },
  {
   "cell_type": "markdown",
   "id": "16594449",
   "metadata": {},
   "source": [
    "###  Cylinder Types :"
   ]
  },
  {
   "cell_type": "code",
   "execution_count": 75,
   "id": "ee36138c",
   "metadata": {},
   "outputs": [
    {
     "name": "stdout",
     "output_type": "stream",
     "text": [
      "CPU times: total: 31.2 ms\n",
      "Wall time: 7.98 ms\n"
     ]
    },
    {
     "data": {
      "text/plain": [
       "array(['4 cylinders', '6 cylinders', '10 cylinders', '8 cylinders',\n",
       "       '5 cylinders', '3 cylinders', 'other', '12 cylinders'],\n",
       "      dtype=object)"
      ]
     },
     "execution_count": 75,
     "metadata": {},
     "output_type": "execute_result"
    }
   ],
   "source": [
    "%%time\n",
    "train_cylinders.unique()"
   ]
  },
  {
   "cell_type": "markdown",
   "id": "0253e3ca",
   "metadata": {},
   "source": [
    "### Value Encoding : Manual "
   ]
  },
  {
   "cell_type": "code",
   "execution_count": 76,
   "id": "45edab2e",
   "metadata": {},
   "outputs": [
    {
     "name": "stdout",
     "output_type": "stream",
     "text": [
      "CPU times: total: 0 ns\n",
      "Wall time: 0 ns\n"
     ]
    }
   ],
   "source": [
    "%%time\n",
    "cylinders_dict = {\n",
    "    '4 cylinders':4, \n",
    "    '6 cylinders':6, \n",
    "    '8 cylinders':8, \n",
    "    '10 cylinders':10,\n",
    "    '5 cylinders':5, \n",
    "    '3 cylinders':3, \n",
    "    'other':0, \n",
    "    '12 cylinders':12\n",
    "}"
   ]
  },
  {
   "cell_type": "code",
   "execution_count": 77,
   "id": "b66abfb9",
   "metadata": {},
   "outputs": [
    {
     "name": "stdout",
     "output_type": "stream",
     "text": [
      "CPU times: total: 93.8 ms\n",
      "Wall time: 105 ms\n"
     ]
    }
   ],
   "source": [
    "%%time\n",
    "x_cylinders_freq_train = train_cylinders.replace(cylinders_dict).values.reshape(-1,1)\n",
    "x_cylinders_freq_test = test_cylinders.replace(cylinders_dict).values.reshape(-1,1)"
   ]
  },
  {
   "cell_type": "code",
   "execution_count": 78,
   "id": "8e5f23b3",
   "metadata": {},
   "outputs": [
    {
     "name": "stdout",
     "output_type": "stream",
     "text": [
      "(88010, 1)\n",
      "(22003, 1)\n",
      "CPU times: total: 0 ns\n",
      "Wall time: 997 µs\n"
     ]
    }
   ],
   "source": [
    "%%time\n",
    "print(x_cylinders_freq_train.shape)\n",
    "print(x_cylinders_freq_test.shape)"
   ]
  },
  {
   "cell_type": "code",
   "execution_count": 79,
   "id": "da9c3155",
   "metadata": {},
   "outputs": [],
   "source": [
    "filename = \"cylinders_dict\"\n",
    "pickle.dump(cylinders_dict,open(filename,'wb'))"
   ]
  },
  {
   "cell_type": "markdown",
   "id": "d44ed70b",
   "metadata": {},
   "source": [
    "### Fuel Type :¶ "
   ]
  },
  {
   "cell_type": "code",
   "execution_count": 80,
   "id": "a413febe",
   "metadata": {},
   "outputs": [
    {
     "name": "stdout",
     "output_type": "stream",
     "text": [
      "CPU times: total: 15.6 ms\n",
      "Wall time: 5.98 ms\n"
     ]
    },
    {
     "data": {
      "text/plain": [
       "array(['gas', 'other', 'diesel', 'hybrid', 'electric'], dtype=object)"
      ]
     },
     "execution_count": 80,
     "metadata": {},
     "output_type": "execute_result"
    }
   ],
   "source": [
    "%%time\n",
    "train_fuel.unique()"
   ]
  },
  {
   "cell_type": "markdown",
   "id": "373b8912",
   "metadata": {},
   "source": [
    "### One Hot Encoder :"
   ]
  },
  {
   "cell_type": "code",
   "execution_count": 81,
   "id": "3b7c98d7",
   "metadata": {},
   "outputs": [
    {
     "name": "stdout",
     "output_type": "stream",
     "text": [
      "CPU times: total: 46.9 ms\n",
      "Wall time: 40.9 ms\n"
     ]
    }
   ],
   "source": [
    "%%time\n",
    "fuel_onehot_encoder = OneHotEncoder(handle_unknown='ignore')\n",
    "x_fuel_oneHot_train = fuel_onehot_encoder.fit_transform(train_fuel.values.reshape(-1,1))\n",
    "x_fuel_oneHot_test = fuel_onehot_encoder.transform(test_fuel.values.reshape(-1,1))"
   ]
  },
  {
   "cell_type": "code",
   "execution_count": 82,
   "id": "571f2074",
   "metadata": {},
   "outputs": [
    {
     "name": "stdout",
     "output_type": "stream",
     "text": [
      "(88010, 5)\n",
      "(22003, 5)\n",
      "CPU times: total: 0 ns\n",
      "Wall time: 0 ns\n"
     ]
    }
   ],
   "source": [
    "%%time\n",
    "print(x_fuel_oneHot_train.shape)\n",
    "print(x_fuel_oneHot_test.shape)"
   ]
  },
  {
   "cell_type": "code",
   "execution_count": 83,
   "id": "8c4ca867",
   "metadata": {},
   "outputs": [],
   "source": [
    "filename = \"fuel_onehot_encoder\"\n",
    "pickle.dump(fuel_onehot_encoder,open(filename,'wb'))"
   ]
  },
  {
   "cell_type": "markdown",
   "id": "803cbcee",
   "metadata": {},
   "source": [
    "### Transmission Type "
   ]
  },
  {
   "cell_type": "code",
   "execution_count": 84,
   "id": "ee5d42ff",
   "metadata": {},
   "outputs": [
    {
     "name": "stdout",
     "output_type": "stream",
     "text": [
      "CPU times: total: 15.6 ms\n",
      "Wall time: 8.01 ms\n"
     ]
    },
    {
     "data": {
      "text/plain": [
       "array(['automatic', 'manual', 'other'], dtype=object)"
      ]
     },
     "execution_count": 84,
     "metadata": {},
     "output_type": "execute_result"
    }
   ],
   "source": [
    "%%time\n",
    "train_transmission.unique()"
   ]
  },
  {
   "cell_type": "markdown",
   "id": "25090242",
   "metadata": {},
   "source": [
    "### One-Hot Encoding : "
   ]
  },
  {
   "cell_type": "code",
   "execution_count": 85,
   "id": "249b8572",
   "metadata": {},
   "outputs": [
    {
     "name": "stdout",
     "output_type": "stream",
     "text": [
      "CPU times: total: 62.5 ms\n",
      "Wall time: 47.9 ms\n"
     ]
    }
   ],
   "source": [
    "%%time\n",
    "transmission_onehot_encoder = OneHotEncoder(handle_unknown='ignore')\n",
    "x_transmission_oneHot_train = transmission_onehot_encoder.fit_transform(train_transmission.values.reshape(-1,1))\n",
    "x_transmission_oneHot_test = transmission_onehot_encoder.transform(test_transmission.values.reshape(-1,1))"
   ]
  },
  {
   "cell_type": "code",
   "execution_count": 86,
   "id": "e6bcf1f7",
   "metadata": {},
   "outputs": [
    {
     "name": "stdout",
     "output_type": "stream",
     "text": [
      "(88010, 3)\n",
      "(22003, 3)\n",
      "CPU times: total: 0 ns\n",
      "Wall time: 0 ns\n"
     ]
    }
   ],
   "source": [
    "%%time\n",
    "print(x_transmission_oneHot_train.shape)\n",
    "print(x_transmission_oneHot_test.shape)"
   ]
  },
  {
   "cell_type": "code",
   "execution_count": 87,
   "id": "31a75bea",
   "metadata": {},
   "outputs": [],
   "source": [
    "filename = \"transmission_onehot_encoder\"\n",
    "pickle.dump(transmission_onehot_encoder,open(filename,'wb'))"
   ]
  },
  {
   "cell_type": "markdown",
   "id": "e2714ae0",
   "metadata": {},
   "source": [
    "### Drive Type : "
   ]
  },
  {
   "cell_type": "code",
   "execution_count": 88,
   "id": "f93d3b15",
   "metadata": {},
   "outputs": [
    {
     "name": "stdout",
     "output_type": "stream",
     "text": [
      "CPU times: total: 0 ns\n",
      "Wall time: 6.98 ms\n"
     ]
    },
    {
     "data": {
      "text/plain": [
       "array(['4wd', 'rwd', 'fwd'], dtype=object)"
      ]
     },
     "execution_count": 88,
     "metadata": {},
     "output_type": "execute_result"
    }
   ],
   "source": [
    "%%time\n",
    "train_drive.unique()"
   ]
  },
  {
   "cell_type": "markdown",
   "id": "fead3709",
   "metadata": {},
   "source": [
    "###  One-Hot Encoder :"
   ]
  },
  {
   "cell_type": "code",
   "execution_count": 89,
   "id": "9315e1fd",
   "metadata": {},
   "outputs": [
    {
     "name": "stdout",
     "output_type": "stream",
     "text": [
      "(88010, 3)\n",
      "(22003, 3)\n",
      "CPU times: total: 46.9 ms\n",
      "Wall time: 44.9 ms\n"
     ]
    }
   ],
   "source": [
    "%%time\n",
    "drive_onehot_encoder = OneHotEncoder(handle_unknown='ignore')\n",
    "x_drive_oneHot_train = drive_onehot_encoder.fit_transform(train_drive.values.reshape(-1,1))\n",
    "x_drive_oneHot_test = drive_onehot_encoder.transform(test_drive.values.reshape(-1,1))\n",
    "print(x_drive_oneHot_train.shape)\n",
    "print(x_drive_oneHot_test.shape)"
   ]
  },
  {
   "cell_type": "code",
   "execution_count": 90,
   "id": "d060a369",
   "metadata": {},
   "outputs": [],
   "source": [
    "filename = \"drive_onehot_encoder\"\n",
    "pickle.dump(drive_onehot_encoder,open(filename,'wb'))"
   ]
  },
  {
   "cell_type": "markdown",
   "id": "62e5bc39",
   "metadata": {},
   "source": [
    "###  Car Type :"
   ]
  },
  {
   "cell_type": "code",
   "execution_count": 91,
   "id": "e0c238ed",
   "metadata": {},
   "outputs": [
    {
     "name": "stdout",
     "output_type": "stream",
     "text": [
      "CPU times: total: 0 ns\n",
      "Wall time: 8.98 ms\n"
     ]
    },
    {
     "data": {
      "text/plain": [
       "array(['SUV', 'pickup', 'truck', 'sedan', 'convertible', 'mini-van',\n",
       "       'hatchback', 'coupe', 'wagon', 'offroad', 'other', 'van', 'bus'],\n",
       "      dtype=object)"
      ]
     },
     "execution_count": 91,
     "metadata": {},
     "output_type": "execute_result"
    }
   ],
   "source": [
    "%%time\n",
    "train_type.unique()"
   ]
  },
  {
   "cell_type": "markdown",
   "id": "ec384e40",
   "metadata": {},
   "source": [
    "### One-Hot Encoder : "
   ]
  },
  {
   "cell_type": "code",
   "execution_count": 92,
   "id": "38650504",
   "metadata": {},
   "outputs": [
    {
     "name": "stdout",
     "output_type": "stream",
     "text": [
      "(88010, 13)\n",
      "(22003, 13)\n",
      "CPU times: total: 46.9 ms\n",
      "Wall time: 41.9 ms\n"
     ]
    }
   ],
   "source": [
    "%%time\n",
    "type_onehot_encoder = OneHotEncoder(handle_unknown='ignore')\n",
    "x_type_oneHot_train = type_onehot_encoder.fit_transform(train_type.values.reshape(-1,1))\n",
    "x_type_oneHot_test = type_onehot_encoder.transform(test_type.values.reshape(-1,1))\n",
    "print(x_type_oneHot_train.shape)\n",
    "print(x_type_oneHot_test.shape)"
   ]
  },
  {
   "cell_type": "code",
   "execution_count": 93,
   "id": "dc60519f",
   "metadata": {},
   "outputs": [],
   "source": [
    "filename = \"cartype_onehot_encoder\"\n",
    "pickle.dump(type_onehot_encoder,open(filename,'wb'))"
   ]
  },
  {
   "cell_type": "markdown",
   "id": "3e0da0d7",
   "metadata": {},
   "source": [
    "### Paint : "
   ]
  },
  {
   "cell_type": "code",
   "execution_count": 94,
   "id": "c03b9296",
   "metadata": {},
   "outputs": [
    {
     "name": "stdout",
     "output_type": "stream",
     "text": [
      "CPU times: total: 0 ns\n",
      "Wall time: 6.98 ms\n"
     ]
    },
    {
     "data": {
      "text/plain": [
       "array(['red', 'white', 'blue', 'grey', 'black', 'silver', 'green',\n",
       "       'brown', 'custom', 'yellow', 'orange', 'purple'], dtype=object)"
      ]
     },
     "execution_count": 94,
     "metadata": {},
     "output_type": "execute_result"
    }
   ],
   "source": [
    "%%time\n",
    "train_paint_color.unique()"
   ]
  },
  {
   "cell_type": "markdown",
   "id": "6e2aea77",
   "metadata": {},
   "source": [
    "### Ordinal Encoder : "
   ]
  },
  {
   "cell_type": "code",
   "execution_count": 95,
   "id": "c6bfdd7b",
   "metadata": {},
   "outputs": [
    {
     "name": "stdout",
     "output_type": "stream",
     "text": [
      "(88010, 1)\n",
      "(22003, 1)\n",
      "CPU times: total: 62.5 ms\n",
      "Wall time: 44.9 ms\n"
     ]
    }
   ],
   "source": [
    "%%time\n",
    "paint_color_ordinal_encoder = OrdinalEncoder()\n",
    "x_paint_color_ordinal_train = paint_color_ordinal_encoder.fit_transform(train_paint_color.values.reshape(-1,1))\n",
    "x_paint_color_ordinal_test = paint_color_ordinal_encoder.transform(test_paint_color.values.reshape(-1,1))\n",
    "print(x_paint_color_ordinal_train.shape)\n",
    "print(x_paint_color_ordinal_test.shape)"
   ]
  },
  {
   "cell_type": "code",
   "execution_count": 96,
   "id": "6d9f4441",
   "metadata": {},
   "outputs": [],
   "source": [
    "filename = \"paint_color_ordinal_encoder\"\n",
    "pickle.dump(paint_color_ordinal_encoder,open(filename,'wb'))"
   ]
  },
  {
   "cell_type": "markdown",
   "id": "5b0f63d0",
   "metadata": {},
   "source": [
    "### State : "
   ]
  },
  {
   "cell_type": "code",
   "execution_count": 97,
   "id": "3db3cf9a",
   "metadata": {},
   "outputs": [
    {
     "name": "stdout",
     "output_type": "stream",
     "text": [
      "CPU times: total: 15.6 ms\n",
      "Wall time: 6.02 ms\n"
     ]
    },
    {
     "data": {
      "text/plain": [
       "array(['me', 'nc', 'nj', 'ia', 'id', 'ks', 'md', 'ca', 'mn', 'tx', 'or',\n",
       "       'ma', 'in', 'vt', 'ky', 'oh', 'al', 'wi', 'mo', 'nv', 'ny', 'nm',\n",
       "       'sd', 'az', 'fl', 'wy', 'mi', 'tn', 'ga', 'va', 'co', 'ct', 'ri',\n",
       "       'wa', 'hi', 'dc', 'pa', 'ok', 'ar', 'nh', 'sc', 'wv', 'il', 'ak',\n",
       "       'mt', 'ut', 'de', 'la', 'ne', 'ms', 'nd'], dtype=object)"
      ]
     },
     "execution_count": 97,
     "metadata": {},
     "output_type": "execute_result"
    }
   ],
   "source": [
    "%%time\n",
    "train_state.unique()"
   ]
  },
  {
   "cell_type": "markdown",
   "id": "b9cf5308",
   "metadata": {},
   "source": [
    "### Ordinal Encoder :"
   ]
  },
  {
   "cell_type": "code",
   "execution_count": 98,
   "id": "6bf1a001",
   "metadata": {},
   "outputs": [
    {
     "name": "stdout",
     "output_type": "stream",
     "text": [
      "(88010, 1)\n",
      "(22003, 1)\n",
      "CPU times: total: 31.2 ms\n",
      "Wall time: 37.9 ms\n"
     ]
    }
   ],
   "source": [
    "%%time\n",
    "state_ordinal_encoder = OrdinalEncoder()\n",
    "x_state_ordinal_train = state_ordinal_encoder.fit_transform(train_state.values.reshape(-1,1))\n",
    "x_state_ordinal_test = state_ordinal_encoder.transform(test_state.values.reshape(-1,1))\n",
    "print(x_state_ordinal_train.shape)\n",
    "print(x_state_ordinal_test.shape)"
   ]
  },
  {
   "cell_type": "code",
   "execution_count": 99,
   "id": "3bfec362",
   "metadata": {},
   "outputs": [],
   "source": [
    "filename = \"state_ordinal_encoder\"\n",
    "pickle.dump(state_ordinal_encoder,open(filename,'wb'))"
   ]
  },
  {
   "cell_type": "code",
   "execution_count": 100,
   "id": "8d119dfa",
   "metadata": {},
   "outputs": [
    {
     "name": "stdout",
     "output_type": "stream",
     "text": [
      "CPU times: total: 0 ns\n",
      "Wall time: 0 ns\n"
     ]
    },
    {
     "data": {
      "text/plain": [
       "dtype('int64')"
      ]
     },
     "execution_count": 100,
     "metadata": {},
     "output_type": "execute_result"
    }
   ],
   "source": [
    "%%time\n",
    "y.dtype"
   ]
  },
  {
   "cell_type": "code",
   "execution_count": 101,
   "id": "591907de",
   "metadata": {},
   "outputs": [
    {
     "name": "stdout",
     "output_type": "stream",
     "text": [
      "(88010, 1)\n",
      "(88010, 41)\n",
      "(88010, 1)\n",
      "(88010, 6)\n",
      "(88010, 1)\n",
      "(88010, 5)\n",
      "(88010, 1)\n",
      "(88010, 3)\n",
      "(88010, 3)\n",
      "(88010, 13)\n",
      "(88010, 1)\n",
      "(88010, 1)\n",
      "CPU times: total: 0 ns\n",
      "Wall time: 0 ns\n"
     ]
    }
   ],
   "source": [
    "%%time\n",
    "print(train_year.values.reshape(-1,1).shape)\n",
    "print(x_manu_oneHot_train.shape)\n",
    "print(x_model_freq_train.shape)\n",
    "print(x_condition_oneHot_train.shape)\n",
    "print(x_cylinders_freq_train.shape)\n",
    "print(x_fuel_oneHot_train.shape)\n",
    "print(train_odometer.values.reshape(-1,1).shape)\n",
    "print(x_transmission_oneHot_train.shape)\n",
    "print(x_drive_oneHot_train.shape)\n",
    "print(x_type_oneHot_train.shape)\n",
    "print(x_paint_color_ordinal_train.shape)\n",
    "print(x_state_ordinal_train.shape)"
   ]
  },
  {
   "cell_type": "markdown",
   "id": "fdbd4068",
   "metadata": {},
   "source": [
    "## Standardizing the Data "
   ]
  },
  {
   "cell_type": "code",
   "execution_count": 129,
   "id": "58c3ea53",
   "metadata": {},
   "outputs": [
    {
     "name": "stdout",
     "output_type": "stream",
     "text": [
      "[[ 0.86509914]\n",
      " [ 0.26923686]\n",
      " [-0.08828051]\n",
      " ...\n",
      " [ 0.1500644 ]\n",
      " [ 0.50758177]\n",
      " [-0.56497033]]\n",
      "CPU times: total: 125 ms\n",
      "Wall time: 428 ms\n"
     ]
    }
   ],
   "source": [
    "%%time\n",
    "# save year standard scalar\n",
    "scalar = StandardScaler()\n",
    "train_year_scaled = scalar.fit_transform(train_year.values.reshape(-1,1))\n",
    "test_year_scaled = scalar.transform(test_year.values.reshape(-1,1))\n",
    "print(test_year_scaled)"
   ]
  },
  {
   "cell_type": "code",
   "execution_count": 103,
   "id": "18317e68",
   "metadata": {},
   "outputs": [],
   "source": [
    "filename = \"year_scaler\"\n",
    "pickle.dump(scalar,open(filename,'wb'))"
   ]
  },
  {
   "cell_type": "code",
   "execution_count": 130,
   "id": "8fc683da",
   "metadata": {},
   "outputs": [
    {
     "name": "stdout",
     "output_type": "stream",
     "text": [
      "[[-0.29299291]\n",
      " [ 0.1415941 ]\n",
      " [ 0.69731254]\n",
      " ...\n",
      " [ 0.26715048]\n",
      " [-0.23167573]\n",
      " [ 0.2480445 ]]\n",
      "CPU times: total: 15.6 ms\n",
      "Wall time: 26.9 ms\n"
     ]
    }
   ],
   "source": [
    "%%time\n",
    "scalar = StandardScaler()\n",
    "train_odometer_scaled = scalar.fit_transform(train_odometer.values.reshape(-1,1))\n",
    "test_odometer_scaled = scalar.transform(test_odometer.values.reshape(-1,1))\n",
    "print(test_odometer_scaled)"
   ]
  },
  {
   "cell_type": "code",
   "execution_count": 105,
   "id": "a96a5059",
   "metadata": {},
   "outputs": [],
   "source": [
    "filename = \"odometer_scaler\"\n",
    "pickle.dump(scalar,open(filename,'wb'))"
   ]
  },
  {
   "cell_type": "markdown",
   "id": "4c98b409",
   "metadata": {},
   "source": [
    "## Combining All the Encoded Features : "
   ]
  },
  {
   "cell_type": "code",
   "execution_count": 106,
   "id": "846cffb1",
   "metadata": {},
   "outputs": [
    {
     "name": "stdout",
     "output_type": "stream",
     "text": [
      "CPU times: total: 93.8 ms\n",
      "Wall time: 189 ms\n"
     ]
    }
   ],
   "source": [
    "%%time\n",
    "X_stack_train = hstack((train_year_scaled, x_manu_oneHot_train, x_model_freq_train, x_condition_oneHot_train, x_cylinders_freq_train, \n",
    "                      x_fuel_oneHot_train, train_odometer_scaled, x_transmission_oneHot_train, x_drive_oneHot_train, x_type_oneHot_train, \n",
    "                      x_paint_color_ordinal_train, x_state_ordinal_train))"
   ]
  },
  {
   "cell_type": "code",
   "execution_count": 107,
   "id": "2c7ef9a5",
   "metadata": {},
   "outputs": [
    {
     "name": "stdout",
     "output_type": "stream",
     "text": [
      "CPU times: total: 15.6 ms\n",
      "Wall time: 20.9 ms\n"
     ]
    }
   ],
   "source": [
    "%%time\n",
    "X_stack_test = hstack((test_year_scaled, x_manu_oneHot_test, x_model_freq_test, x_condition_oneHot_test, x_cylinders_freq_test, \n",
    "                      x_fuel_oneHot_test, test_odometer_scaled, x_transmission_oneHot_test, x_drive_oneHot_test, x_type_oneHot_test, \n",
    "                      x_paint_color_ordinal_test, x_state_ordinal_test))"
   ]
  },
  {
   "cell_type": "markdown",
   "id": "ca7bdb83",
   "metadata": {},
   "source": [
    "## Function to calculate R2 value, Relative Error & RMSE "
   ]
  },
  {
   "cell_type": "code",
   "execution_count": 108,
   "id": "67883894",
   "metadata": {},
   "outputs": [
    {
     "name": "stdout",
     "output_type": "stream",
     "text": [
      "CPU times: total: 0 ns\n",
      "Wall time: 0 ns\n"
     ]
    }
   ],
   "source": [
    "%%time\n",
    "def acc_d(y_meas, y_pred):\n",
    "    # Relative error between predicted y_pred and measured y_meas values\n",
    "    return mean_absolute_error(y_meas, y_pred)*len(y_meas)/sum(abs(y_meas))\n",
    "\n",
    "def acc_rmse(y_meas, y_pred):\n",
    "    # RMSE between predicted y_pred and measured y_meas values\n",
    "    return (mean_squared_error(y_meas, y_pred))**0.5\n",
    "\n",
    "def acc_boosting(y_true,y_pred,num_iteration=0):\n",
    "    # Calculation of accuracy of boosting model by different metrics\n",
    "    \n",
    "    global acc_train_r2, acc_test_r2, acc_train_d, acc_test_d, acc_train_rmse, acc_test_rmse\n",
    "    \n",
    "    acc_test_r2_num = round(r2_score(y_true, y_pred) * 100, 2)\n",
    "    print('acc(r2_score) =', acc_test_r2_num)\n",
    "    \n",
    "    acc_test_d_num = round(acc_d(y_true, y_pred) * 100, 2)\n",
    "    print('acc(relative error) =', acc_test_d_num)\n",
    "    \n",
    "    acc_test_rmse_num = round(acc_rmse(y_true, y_pred) * 100, 2)\n",
    "    print('acc(rmse) =', acc_test_rmse_num)\n",
    "\n",
    "def acc_model(y_true,y_pred):\n",
    "    # Calculation of accuracy of model акщь Sklearn by different metrics   \n",
    "  \n",
    "    global acc_train_r2, acc_test_r2, acc_train_d, acc_test_d, acc_train_rmse, acc_test_rmse\n",
    " \n",
    "    acc_test_r2_num = round(r2_score(y_true, y_pred) * 100, 2)\n",
    "    print('acc(r2_score) =', acc_test_r2_num)\n",
    "    \n",
    "    acc_test_d_num = round(acc_d(y_true, y_pred) * 100, 2)\n",
    "    print('acc(relative error) =', acc_test_d_num)\n",
    "    \n",
    "    acc_test_rmse_num = round(acc_rmse(y_true, y_pred) * 100, 2)\n",
    "    print('acc(rmse) =', acc_test_rmse_num)"
   ]
  },
  {
   "cell_type": "markdown",
   "id": "323046ca",
   "metadata": {},
   "source": [
    "#  Modeling :"
   ]
  },
  {
   "cell_type": "markdown",
   "id": "d80ea2dc",
   "metadata": {},
   "source": [
    "## 1. Linear Regression :"
   ]
  },
  {
   "cell_type": "code",
   "execution_count": 253,
   "id": "2020da2c",
   "metadata": {},
   "outputs": [
    {
     "name": "stdout",
     "output_type": "stream",
     "text": [
      "CPU times: total: 375 ms\n",
      "Wall time: 786 ms\n"
     ]
    },
    {
     "data": {
      "text/plain": [
       "LinearRegression(n_jobs=-1, normalize=True)"
      ]
     },
     "execution_count": 253,
     "metadata": {},
     "output_type": "execute_result"
    }
   ],
   "source": [
    "%%time\n",
    "model = LinearRegression(n_jobs=-1,normalize=True)\n",
    "model.fit(X_stack_train, y_train)"
   ]
  },
  {
   "cell_type": "code",
   "execution_count": 254,
   "id": "f95a651b",
   "metadata": {},
   "outputs": [
    {
     "name": "stdout",
     "output_type": "stream",
     "text": [
      "First Five Actual Value of Train :  [ 5200 36990 24990 16900 14000]\n",
      "First Five Predicted Value of Train :  [ 8357 24835 25706 13185 34332]\n",
      "\n",
      "\n",
      "\n",
      "First Five Actual Value of Test :  [ 7300  9995  4995 36590  5850]\n",
      "First Five Predicted Value of Test :  [11028  7699  7123 45710  6283]\n",
      "CPU times: total: 15.6 ms\n",
      "Wall time: 19.9 ms\n"
     ]
    }
   ],
   "source": [
    "%%time\n",
    "# define true and predicted response values\n",
    "y_true_train = y_train\n",
    "y_pred_train = model.predict(X_stack_train).astype('int64')\n",
    "print(\"First Five Actual Value of Train : \",y_true_train.values[:5])\n",
    "print(\"First Five Predicted Value of Train : \",y_pred_train[:5])\n",
    "print('\\n\\n')\n",
    "y_true_test = y_test\n",
    "y_pred_test = model.predict(X_stack_test).astype('int64')\n",
    "print(\"First Five Actual Value of Test : \",y_true_test.values[:5])\n",
    "print(\"First Five Predicted Value of Test : \",y_pred_test[:5])"
   ]
  },
  {
   "cell_type": "code",
   "execution_count": 255,
   "id": "2d94197d",
   "metadata": {},
   "outputs": [
    {
     "name": "stdout",
     "output_type": "stream",
     "text": [
      "For Train Data\n",
      "acc(r2_score) = 57.96\n",
      "acc(relative error) = 35.23\n",
      "acc(rmse) = 857399.22\n",
      "For Test Data\n",
      "acc(r2_score) = 53.72\n",
      "acc(relative error) = 35.94\n",
      "acc(rmse) = 922189.5\n",
      "CPU times: total: 46.9 ms\n",
      "Wall time: 70.8 ms\n"
     ]
    }
   ],
   "source": [
    "%%time\n",
    "print('For Train Data')\n",
    "acc_model(y_true_train,y_pred_train)\n",
    "print('For Test Data')\n",
    "acc_model(y_true_test,y_pred_test)"
   ]
  },
  {
   "cell_type": "markdown",
   "id": "3be4543f",
   "metadata": {},
   "source": [
    "##  2. Support Vector Regressor :"
   ]
  },
  {
   "cell_type": "code",
   "execution_count": 108,
   "id": "7b2eb234",
   "metadata": {},
   "outputs": [
    {
     "name": "stdout",
     "output_type": "stream",
     "text": [
      "CPU times: total: 15min 51s\n",
      "Wall time: 16min 1s\n"
     ]
    },
    {
     "data": {
      "text/plain": [
       "SVR()"
      ]
     },
     "execution_count": 108,
     "metadata": {},
     "output_type": "execute_result"
    }
   ],
   "source": [
    "%%time\n",
    "model = SVR()\n",
    "model.fit(X_stack_train, y_train)"
   ]
  },
  {
   "cell_type": "code",
   "execution_count": 109,
   "id": "44c439aa",
   "metadata": {},
   "outputs": [
    {
     "name": "stdout",
     "output_type": "stream",
     "text": [
      "First Five Actual Value of Train :  [ 5200 36990 24990 16900 14000]\n",
      "First Five Predicted Value of Train :  [11895 11856 11953 11815 11945]\n",
      "\n",
      "\n",
      "\n",
      "First Five Actual Value of Test :  [ 7300  9995  4995 36590  5850]\n",
      "First Five Predicted Value of Test :  [11916 11841 11968 11842 11951]\n",
      "CPU times: total: 12min 2s\n",
      "Wall time: 12min 6s\n"
     ]
    }
   ],
   "source": [
    "%%time\n",
    "# define true and predicted response values\n",
    "y_true_train = y_train\n",
    "y_pred_train = model.predict(X_stack_train).astype('int64')\n",
    "print(\"First Five Actual Value of Train : \",y_true_train.values[:5])\n",
    "print(\"First Five Predicted Value of Train : \",y_pred_train[:5])\n",
    "print('\\n\\n')\n",
    "y_true_test = y_test\n",
    "y_pred_test = model.predict(X_stack_test).astype('int64')\n",
    "print(\"First Five Actual Value of Test : \",y_true_test.values[:5])\n",
    "print(\"First Five Predicted Value of Test : \",y_pred_test[:5])"
   ]
  },
  {
   "cell_type": "code",
   "execution_count": 110,
   "id": "8200b305",
   "metadata": {},
   "outputs": [
    {
     "name": "stdout",
     "output_type": "stream",
     "text": [
      "For Train Data\n",
      "acc(r2_score) = -10.47\n",
      "acc(relative error) = 60.82\n",
      "acc(rmse) = 1389944.22\n",
      "For Test Data\n",
      "acc(r2_score) = -10.29\n",
      "acc(relative error) = 61.26\n",
      "acc(rmse) = 1423578.16\n",
      "CPU times: total: 15.6 ms\n",
      "Wall time: 25.9 ms\n"
     ]
    }
   ],
   "source": [
    "%%time\n",
    "print('For Train Data')\n",
    "acc_model(y_true_train,y_pred_train)\n",
    "print('For Test Data')\n",
    "acc_model(y_true_test,y_pred_test)"
   ]
  },
  {
   "cell_type": "markdown",
   "id": "3d0a3944",
   "metadata": {},
   "source": [
    "## 3. Linear Support Vector Regressor :"
   ]
  },
  {
   "cell_type": "code",
   "execution_count": 111,
   "id": "a631ccb6",
   "metadata": {},
   "outputs": [
    {
     "name": "stdout",
     "output_type": "stream",
     "text": [
      "CPU times: total: 12.2 s\n",
      "Wall time: 12.5 s\n"
     ]
    },
    {
     "data": {
      "text/plain": [
       "LinearSVR()"
      ]
     },
     "execution_count": 111,
     "metadata": {},
     "output_type": "execute_result"
    }
   ],
   "source": [
    "%%time\n",
    "model = LinearSVR()\n",
    "model.fit(X_stack_train, y_train)"
   ]
  },
  {
   "cell_type": "code",
   "execution_count": 112,
   "id": "b5eb5b45",
   "metadata": {},
   "outputs": [
    {
     "name": "stdout",
     "output_type": "stream",
     "text": [
      "First Five Actual Value of Train :  [ 5200 36990 24990 16900 14000]\n",
      "First Five Predicted Value of Train :  [ 7089 25709 16977 17445 15379]\n",
      "\n",
      "\n",
      "\n",
      "First Five Actual Value of Test :  [ 7300  9995  4995 36590  5850]\n",
      "First Five Predicted Value of Test :  [12974  7513  4971 35314  5603]\n",
      "CPU times: total: 0 ns\n",
      "Wall time: 9.97 ms\n"
     ]
    }
   ],
   "source": [
    "%%time\n",
    "# define true and predicted response values\n",
    "y_true_train = y_train\n",
    "y_pred_train = model.predict(X_stack_train).astype('int64')\n",
    "print(\"First Five Actual Value of Train : \",y_true_train.values[:5])\n",
    "print(\"First Five Predicted Value of Train : \",y_pred_train[:5])\n",
    "print('\\n\\n')\n",
    "y_true_test = y_test\n",
    "y_pred_test = model.predict(X_stack_test).astype('int64')\n",
    "print(\"First Five Actual Value of Test : \",y_true_test.values[:5])\n",
    "print(\"First Five Predicted Value of Test : \",y_pred_test[:5])"
   ]
  },
  {
   "cell_type": "code",
   "execution_count": 113,
   "id": "248c5a5c",
   "metadata": {},
   "outputs": [
    {
     "name": "stdout",
     "output_type": "stream",
     "text": [
      "For Train Data\n",
      "acc(r2_score) = 37.42\n",
      "acc(relative error) = 33.98\n",
      "acc(rmse) = 1046156.44\n",
      "For Test Data\n",
      "acc(r2_score) = 12.71\n",
      "acc(relative error) = 35.06\n",
      "acc(rmse) = 1266494.53\n",
      "CPU times: total: 15.6 ms\n",
      "Wall time: 28.9 ms\n"
     ]
    }
   ],
   "source": [
    "%%time\n",
    "print('For Train Data')\n",
    "acc_model(y_true_train,y_pred_train)\n",
    "print('For Test Data')\n",
    "acc_model(y_true_test,y_pred_test)"
   ]
  },
  {
   "cell_type": "markdown",
   "id": "916117c4",
   "metadata": {},
   "source": [
    "## 4. MLP Regressor : "
   ]
  },
  {
   "cell_type": "code",
   "execution_count": 109,
   "id": "82c3bb97",
   "metadata": {},
   "outputs": [
    {
     "name": "stdout",
     "output_type": "stream",
     "text": [
      "Fitting 5 folds for each of 4 candidates, totalling 20 fits\n",
      "CPU times: total: 2min 50s\n",
      "Wall time: 19min 23s\n"
     ]
    },
    {
     "data": {
      "text/plain": [
       "GridSearchCV(cv=5, estimator=MLPRegressor(), n_jobs=-1,\n",
       "             param_grid={'activation': ['relu'], 'alpha': [0.0001],\n",
       "                         'early_stopping': [True],\n",
       "                         'hidden_layer_sizes': [2, 4, 6, 8],\n",
       "                         'learning_rate': ['adaptive'],\n",
       "                         'learning_rate_init': [0.001], 'max_iter': [500],\n",
       "                         'power_t': [0.5], 'solver': ['adam'],\n",
       "                         'warm_start': [False]},\n",
       "             verbose=True)"
      ]
     },
     "execution_count": 109,
     "metadata": {},
     "output_type": "execute_result"
    }
   ],
   "source": [
    "%%time\n",
    "model = MLPRegressor()\n",
    "param_grid = {'hidden_layer_sizes': [i for i in range(2,10,2)],\n",
    "              'activation': ['relu'],\n",
    "              'solver': ['adam'],\n",
    "              'learning_rate': ['adaptive'],\n",
    "              'learning_rate_init': [0.001],\n",
    "              'power_t': [0.5],\n",
    "              'alpha': [0.0001],\n",
    "              'max_iter': [500],\n",
    "              'early_stopping': [True],\n",
    "              'warm_start': [False]}\n",
    "grid = GridSearchCV(model, param_grid=param_grid, cv=5, verbose=True, n_jobs=-1)\n",
    "grid.fit(X_stack_train, y_train)"
   ]
  },
  {
   "cell_type": "code",
   "execution_count": 110,
   "id": "e3a4f0b6",
   "metadata": {},
   "outputs": [
    {
     "name": "stdout",
     "output_type": "stream",
     "text": [
      "CPU times: total: 3min 50s\n",
      "Wall time: 4min 36s\n"
     ]
    },
    {
     "data": {
      "text/plain": [
       "MLPRegressor()"
      ]
     },
     "execution_count": 110,
     "metadata": {},
     "output_type": "execute_result"
    }
   ],
   "source": [
    "%%time\n",
    "model = MLPRegressor(activation='relu', alpha=0.0001,\n",
    "                                    batch_size='auto', beta_1=0.9, beta_2=0.999,\n",
    "                                    early_stopping=False, epsilon=1e-08,\n",
    "                                    hidden_layer_sizes=(100,),\n",
    "                                    learning_rate='constant',\n",
    "                                    learning_rate_init=0.001, max_fun=15000,\n",
    "                                    max_iter=200, momentum=0.9,\n",
    "                                    n_iter_no_change=10,\n",
    "                                    nesterovs_momentum=True, power_t=0.5)\n",
    "model.fit(X_stack_train, y_train)"
   ]
  },
  {
   "cell_type": "code",
   "execution_count": 111,
   "id": "0420dae9",
   "metadata": {},
   "outputs": [
    {
     "name": "stdout",
     "output_type": "stream",
     "text": [
      "First Five Actual Value of Train :  [ 5200 36990 24990 16900 14000]\n",
      "First Five Predicted Value of Train :  [ 4935 33770 24759 17799 31693]\n",
      "\n",
      "\n",
      "\n",
      "First Five Actual Value of Test :  [ 7300  9995  4995 36590  5850]\n",
      "First Five Predicted Value of Test :  [12569  8007  4146 53595  5163]\n",
      "CPU times: total: 1.19 s\n",
      "Wall time: 1.09 s\n"
     ]
    }
   ],
   "source": [
    "%%time\n",
    "# define true and predicted response values\n",
    "y_true_train = y_train\n",
    "y_pred_train = model.predict(X_stack_train).astype('int64')\n",
    "print(\"First Five Actual Value of Train : \",y_true_train.values[:5])\n",
    "print(\"First Five Predicted Value of Train : \",y_pred_train[:5])\n",
    "print('\\n\\n')\n",
    "y_true_test = y_test\n",
    "y_pred_test = model.predict(X_stack_test).astype('int64')\n",
    "print(\"First Five Actual Value of Test : \",y_true_test.values[:5])\n",
    "print(\"First Five Predicted Value of Test : \",y_pred_test[:5])"
   ]
  },
  {
   "cell_type": "code",
   "execution_count": 112,
   "id": "6539cc50",
   "metadata": {},
   "outputs": [
    {
     "name": "stdout",
     "output_type": "stream",
     "text": [
      "For Train Data\n",
      "acc(r2_score) = 80.04\n",
      "acc(relative error) = 21.96\n",
      "acc(rmse) = 590818.31\n",
      "For Test Data\n",
      "acc(r2_score) = 77.22\n",
      "acc(relative error) = 22.57\n",
      "acc(rmse) = 646966.65\n",
      "CPU times: total: 46.9 ms\n",
      "Wall time: 85.3 ms\n"
     ]
    }
   ],
   "source": [
    "%%time\n",
    "print('For Train Data')\n",
    "acc_model(y_true_train,y_pred_train)\n",
    "print('For Test Data')\n",
    "acc_model(y_true_test,y_pred_test)"
   ]
  },
  {
   "cell_type": "code",
   "execution_count": 114,
   "id": "3a992f55",
   "metadata": {},
   "outputs": [],
   "source": [
    "filename = \"MLP_Regressor\"\n",
    "pickle.dump(model,open(filename,'wb'))"
   ]
  },
  {
   "cell_type": "markdown",
   "id": "fc35ad47",
   "metadata": {},
   "source": [
    "## 5. SGD Regressor : "
   ]
  },
  {
   "cell_type": "code",
   "execution_count": 115,
   "id": "31cfbae6",
   "metadata": {},
   "outputs": [
    {
     "name": "stdout",
     "output_type": "stream",
     "text": [
      "CPU times: total: 1.47 s\n",
      "Wall time: 1.71 s\n"
     ]
    },
    {
     "data": {
      "text/plain": [
       "SGDRegressor(learning_rate='adaptive')"
      ]
     },
     "execution_count": 115,
     "metadata": {},
     "output_type": "execute_result"
    }
   ],
   "source": [
    "%%time\n",
    "model = SGDRegressor(learning_rate='adaptive')\n",
    "model.fit(X_stack_train, y_train)"
   ]
  },
  {
   "cell_type": "code",
   "execution_count": 117,
   "id": "314dfb90",
   "metadata": {},
   "outputs": [
    {
     "name": "stdout",
     "output_type": "stream",
     "text": [
      "First Five Actual Value of Train :  [ 5200 36990 24990 16900 14000]\n",
      "First Five Predicted Value of Train :  [-15295100280  19608489329 -24635138239 -11849390197 -18331408633]\n",
      "\n",
      "\n",
      "\n",
      "First Five Actual Value of Test :  [ 7300  9995  4995 36590  5850]\n",
      "First Five Predicted Value of Test :  [20094692005 -5850147817  2713336155  5983299931  4522529769]\n",
      "CPU times: total: 31.2 ms\n",
      "Wall time: 35.9 ms\n"
     ]
    }
   ],
   "source": [
    "%%time\n",
    "# define true and predicted response values\n",
    "y_true_train = y_train\n",
    "y_pred_train = model.predict(X_stack_train).astype('int64')\n",
    "print(\"First Five Actual Value of Train : \",y_true_train.values[:5])\n",
    "print(\"First Five Predicted Value of Train : \",y_pred_train[:5])\n",
    "print('\\n\\n')\n",
    "y_true_test = y_test\n",
    "y_pred_test = model.predict(X_stack_test).astype('int64')\n",
    "print(\"First Five Actual Value of Test : \",y_true_test.values[:5])\n",
    "print(\"First Five Predicted Value of Test : \",y_pred_test[:5])"
   ]
  },
  {
   "cell_type": "code",
   "execution_count": 118,
   "id": "e5e7e0e5",
   "metadata": {},
   "outputs": [
    {
     "name": "stdout",
     "output_type": "stream",
     "text": [
      "For Train Data\n",
      "acc(r2_score) = -286127880934.2\n",
      "acc(relative error) = 58726299.81\n",
      "acc(rmse) = 70738257753.13\n",
      "For Test Data\n",
      "acc(r2_score) = -304093524658.16\n",
      "acc(relative error) = 57618535.24\n",
      "acc(rmse) = 74752292561.88\n",
      "CPU times: total: 31.2 ms\n",
      "Wall time: 30.9 ms\n"
     ]
    }
   ],
   "source": [
    "%%time\n",
    "print('For Train Data')\n",
    "acc_model(y_true_train,y_pred_train)\n",
    "print('For Test Data')\n",
    "acc_model(y_true_test,y_pred_test)"
   ]
  },
  {
   "cell_type": "code",
   "execution_count": 119,
   "id": "b7f7de76",
   "metadata": {},
   "outputs": [],
   "source": [
    "filename = \"SGD_Regressor\"\n",
    "pickle.dump(model,open(filename,'wb'))"
   ]
  },
  {
   "cell_type": "markdown",
   "id": "08efec5e",
   "metadata": {},
   "source": [
    "## 6. Decision Tree Regressor : "
   ]
  },
  {
   "cell_type": "code",
   "execution_count": 125,
   "id": "5e58b90b",
   "metadata": {},
   "outputs": [
    {
     "name": "stdout",
     "output_type": "stream",
     "text": [
      "CPU times: total: 15 s\n",
      "Wall time: 15.2 s\n"
     ]
    },
    {
     "data": {
      "text/plain": [
       "DecisionTreeRegressor(max_features='auto', splitter='random')"
      ]
     },
     "execution_count": 125,
     "metadata": {},
     "output_type": "execute_result"
    }
   ],
   "source": [
    "%%time\n",
    "model = DecisionTreeRegressor(splitter='random', max_features='auto')\n",
    "model.fit(X_stack_train, y_train)"
   ]
  },
  {
   "cell_type": "code",
   "execution_count": 126,
   "id": "c1436045",
   "metadata": {},
   "outputs": [
    {
     "name": "stdout",
     "output_type": "stream",
     "text": [
      "First Five Actual Value of Train :  [ 5200 36990 24990 16900 14000]\n",
      "First Five Predicted Value of Train :  [ 5200 36990 24990 16900 14000]\n",
      "\n",
      "\n",
      "\n",
      "First Five Actual Value of Test :  [ 7300  9995  4995 36590  5850]\n",
      "First Five Predicted Value of Test :  [11900  6995  4500 36590  5850]\n",
      "CPU times: total: 109 ms\n",
      "Wall time: 99.8 ms\n"
     ]
    }
   ],
   "source": [
    "%%time\n",
    "# define true and predicted response values\n",
    "y_true_train = y_train\n",
    "y_pred_train = model.predict(X_stack_train).astype('int64')\n",
    "print(\"First Five Actual Value of Train : \",y_true_train.values[:5])\n",
    "print(\"First Five Predicted Value of Train : \",y_pred_train[:5])\n",
    "print('\\n\\n')\n",
    "y_true_test = y_test\n",
    "y_pred_test = model.predict(X_stack_test).astype('int64')\n",
    "print(\"First Five Actual Value of Test : \",y_true_test.values[:5])\n",
    "print(\"First Five Predicted Value of Test : \",y_pred_test[:5])"
   ]
  },
  {
   "cell_type": "code",
   "execution_count": 127,
   "id": "da628657",
   "metadata": {},
   "outputs": [
    {
     "name": "stdout",
     "output_type": "stream",
     "text": [
      "For Train Data\n",
      "acc(r2_score) = 99.99\n",
      "acc(relative error) = 0.05\n",
      "acc(rmse) = 10414.1\n",
      "For Test Data\n",
      "acc(r2_score) = 79.35\n",
      "acc(relative error) = 15.82\n",
      "acc(rmse) = 616028.88\n",
      "CPU times: total: 15.6 ms\n",
      "Wall time: 25.9 ms\n"
     ]
    }
   ],
   "source": [
    "%%time\n",
    "print('For Train Data')\n",
    "acc_model(y_true_train,y_pred_train)\n",
    "print('For Test Data')\n",
    "acc_model(y_true_test,y_pred_test)"
   ]
  },
  {
   "cell_type": "code",
   "execution_count": 128,
   "id": "a413c3d6",
   "metadata": {},
   "outputs": [],
   "source": [
    "filename = \"Decision_Tree_Regressor\"\n",
    "pickle.dump(model,open(filename,'wb'))"
   ]
  },
  {
   "cell_type": "markdown",
   "id": "1000a094",
   "metadata": {},
   "source": [
    "## 7. XGB Regressor :"
   ]
  },
  {
   "cell_type": "code",
   "execution_count": 120,
   "id": "10f5f0fe",
   "metadata": {},
   "outputs": [
    {
     "ename": "XGBoostError",
     "evalue": "[21:40:54] C:\\Users\\Administrator\\workspace\\xgboost-win64_release_1.5.1\\src\\objective\\objective.cc:26: Unknown objective function: `{'objective': 'reg:squarederror'}`\nObjective candidate: survival:aft\nObjective candidate: binary:hinge\nObjective candidate: multi:softmax\nObjective candidate: multi:softprob\nObjective candidate: rank:pairwise\nObjective candidate: rank:ndcg\nObjective candidate: rank:map\nObjective candidate: reg:pseudohubererror\nObjective candidate: binary:logistic\nObjective candidate: binary:logitraw\nObjective candidate: reg:linear\nObjective candidate: count:poisson\nObjective candidate: survival:cox\nObjective candidate: reg:gamma\nObjective candidate: reg:tweedie\nObjective candidate: reg:squarederror\nObjective candidate: reg:squaredlogerror\nObjective candidate: reg:logistic\n",
     "output_type": "error",
     "traceback": [
      "\u001b[1;31m---------------------------------------------------------------------------\u001b[0m",
      "\u001b[1;31mXGBoostError\u001b[0m                              Traceback (most recent call last)",
      "File \u001b[1;32m<timed exec>:8\u001b[0m, in \u001b[0;36m<module>\u001b[1;34m\u001b[0m\n",
      "File \u001b[1;32mD:\\Installed Softwares\\Python 3.10.2\\lib\\site-packages\\sklearn\\model_selection\\_search.py:926\u001b[0m, in \u001b[0;36mBaseSearchCV.fit\u001b[1;34m(self, X, y, groups, **fit_params)\u001b[0m\n\u001b[0;32m    924\u001b[0m refit_start_time \u001b[38;5;241m=\u001b[39m time\u001b[38;5;241m.\u001b[39mtime()\n\u001b[0;32m    925\u001b[0m \u001b[38;5;28;01mif\u001b[39;00m y \u001b[38;5;129;01mis\u001b[39;00m \u001b[38;5;129;01mnot\u001b[39;00m \u001b[38;5;28;01mNone\u001b[39;00m:\n\u001b[1;32m--> 926\u001b[0m     \u001b[38;5;28mself\u001b[39m\u001b[38;5;241m.\u001b[39mbest_estimator_\u001b[38;5;241m.\u001b[39mfit(X, y, \u001b[38;5;241m*\u001b[39m\u001b[38;5;241m*\u001b[39mfit_params)\n\u001b[0;32m    927\u001b[0m \u001b[38;5;28;01melse\u001b[39;00m:\n\u001b[0;32m    928\u001b[0m     \u001b[38;5;28mself\u001b[39m\u001b[38;5;241m.\u001b[39mbest_estimator_\u001b[38;5;241m.\u001b[39mfit(X, \u001b[38;5;241m*\u001b[39m\u001b[38;5;241m*\u001b[39mfit_params)\n",
      "File \u001b[1;32mD:\\Installed Softwares\\Python 3.10.2\\lib\\site-packages\\xgboost\\core.py:506\u001b[0m, in \u001b[0;36m_deprecate_positional_args.<locals>.inner_f\u001b[1;34m(*args, **kwargs)\u001b[0m\n\u001b[0;32m    504\u001b[0m \u001b[38;5;28;01mfor\u001b[39;00m k, arg \u001b[38;5;129;01min\u001b[39;00m \u001b[38;5;28mzip\u001b[39m(sig\u001b[38;5;241m.\u001b[39mparameters, args):\n\u001b[0;32m    505\u001b[0m     kwargs[k] \u001b[38;5;241m=\u001b[39m arg\n\u001b[1;32m--> 506\u001b[0m \u001b[38;5;28;01mreturn\u001b[39;00m f(\u001b[38;5;241m*\u001b[39m\u001b[38;5;241m*\u001b[39mkwargs)\n",
      "File \u001b[1;32mD:\\Installed Softwares\\Python 3.10.2\\lib\\site-packages\\xgboost\\sklearn.py:789\u001b[0m, in \u001b[0;36mXGBModel.fit\u001b[1;34m(self, X, y, sample_weight, base_margin, eval_set, eval_metric, early_stopping_rounds, verbose, xgb_model, sample_weight_eval_set, base_margin_eval_set, feature_weights, callbacks)\u001b[0m\n\u001b[0;32m    786\u001b[0m     obj \u001b[38;5;241m=\u001b[39m \u001b[38;5;28;01mNone\u001b[39;00m\n\u001b[0;32m    788\u001b[0m model, feval, params \u001b[38;5;241m=\u001b[39m \u001b[38;5;28mself\u001b[39m\u001b[38;5;241m.\u001b[39m_configure_fit(xgb_model, eval_metric, params)\n\u001b[1;32m--> 789\u001b[0m \u001b[38;5;28mself\u001b[39m\u001b[38;5;241m.\u001b[39m_Booster \u001b[38;5;241m=\u001b[39m \u001b[43mtrain\u001b[49m\u001b[43m(\u001b[49m\n\u001b[0;32m    790\u001b[0m \u001b[43m    \u001b[49m\u001b[43mparams\u001b[49m\u001b[43m,\u001b[49m\n\u001b[0;32m    791\u001b[0m \u001b[43m    \u001b[49m\u001b[43mtrain_dmatrix\u001b[49m\u001b[43m,\u001b[49m\n\u001b[0;32m    792\u001b[0m \u001b[43m    \u001b[49m\u001b[38;5;28;43mself\u001b[39;49m\u001b[38;5;241;43m.\u001b[39;49m\u001b[43mget_num_boosting_rounds\u001b[49m\u001b[43m(\u001b[49m\u001b[43m)\u001b[49m\u001b[43m,\u001b[49m\n\u001b[0;32m    793\u001b[0m \u001b[43m    \u001b[49m\u001b[43mevals\u001b[49m\u001b[38;5;241;43m=\u001b[39;49m\u001b[43mevals\u001b[49m\u001b[43m,\u001b[49m\n\u001b[0;32m    794\u001b[0m \u001b[43m    \u001b[49m\u001b[43mearly_stopping_rounds\u001b[49m\u001b[38;5;241;43m=\u001b[39;49m\u001b[43mearly_stopping_rounds\u001b[49m\u001b[43m,\u001b[49m\n\u001b[0;32m    795\u001b[0m \u001b[43m    \u001b[49m\u001b[43mevals_result\u001b[49m\u001b[38;5;241;43m=\u001b[39;49m\u001b[43mevals_result\u001b[49m\u001b[43m,\u001b[49m\n\u001b[0;32m    796\u001b[0m \u001b[43m    \u001b[49m\u001b[43mobj\u001b[49m\u001b[38;5;241;43m=\u001b[39;49m\u001b[43mobj\u001b[49m\u001b[43m,\u001b[49m\n\u001b[0;32m    797\u001b[0m \u001b[43m    \u001b[49m\u001b[43mfeval\u001b[49m\u001b[38;5;241;43m=\u001b[39;49m\u001b[43mfeval\u001b[49m\u001b[43m,\u001b[49m\n\u001b[0;32m    798\u001b[0m \u001b[43m    \u001b[49m\u001b[43mverbose_eval\u001b[49m\u001b[38;5;241;43m=\u001b[39;49m\u001b[43mverbose\u001b[49m\u001b[43m,\u001b[49m\n\u001b[0;32m    799\u001b[0m \u001b[43m    \u001b[49m\u001b[43mxgb_model\u001b[49m\u001b[38;5;241;43m=\u001b[39;49m\u001b[43mmodel\u001b[49m\u001b[43m,\u001b[49m\n\u001b[0;32m    800\u001b[0m \u001b[43m    \u001b[49m\u001b[43mcallbacks\u001b[49m\u001b[38;5;241;43m=\u001b[39;49m\u001b[43mcallbacks\u001b[49m\u001b[43m,\u001b[49m\n\u001b[0;32m    801\u001b[0m \u001b[43m\u001b[49m\u001b[43m)\u001b[49m\n\u001b[0;32m    803\u001b[0m \u001b[38;5;28mself\u001b[39m\u001b[38;5;241m.\u001b[39m_set_evaluation_result(evals_result)\n\u001b[0;32m    804\u001b[0m \u001b[38;5;28;01mreturn\u001b[39;00m \u001b[38;5;28mself\u001b[39m\n",
      "File \u001b[1;32mD:\\Installed Softwares\\Python 3.10.2\\lib\\site-packages\\xgboost\\training.py:188\u001b[0m, in \u001b[0;36mtrain\u001b[1;34m(params, dtrain, num_boost_round, evals, obj, feval, maximize, early_stopping_rounds, evals_result, verbose_eval, xgb_model, callbacks)\u001b[0m\n\u001b[0;32m    115\u001b[0m \u001b[38;5;28;01mdef\u001b[39;00m \u001b[38;5;21mtrain\u001b[39m(params, dtrain, num_boost_round\u001b[38;5;241m=\u001b[39m\u001b[38;5;241m10\u001b[39m, evals\u001b[38;5;241m=\u001b[39m(), obj\u001b[38;5;241m=\u001b[39m\u001b[38;5;28;01mNone\u001b[39;00m, feval\u001b[38;5;241m=\u001b[39m\u001b[38;5;28;01mNone\u001b[39;00m,\n\u001b[0;32m    116\u001b[0m           maximize\u001b[38;5;241m=\u001b[39m\u001b[38;5;28;01mNone\u001b[39;00m, early_stopping_rounds\u001b[38;5;241m=\u001b[39m\u001b[38;5;28;01mNone\u001b[39;00m, evals_result\u001b[38;5;241m=\u001b[39m\u001b[38;5;28;01mNone\u001b[39;00m,\n\u001b[0;32m    117\u001b[0m           verbose_eval\u001b[38;5;241m=\u001b[39m\u001b[38;5;28;01mTrue\u001b[39;00m, xgb_model\u001b[38;5;241m=\u001b[39m\u001b[38;5;28;01mNone\u001b[39;00m, callbacks\u001b[38;5;241m=\u001b[39m\u001b[38;5;28;01mNone\u001b[39;00m):\n\u001b[0;32m    118\u001b[0m     \u001b[38;5;66;03m# pylint: disable=too-many-statements,too-many-branches, attribute-defined-outside-init\u001b[39;00m\n\u001b[0;32m    119\u001b[0m     \u001b[38;5;124;03m\"\"\"Train a booster with given parameters.\u001b[39;00m\n\u001b[0;32m    120\u001b[0m \n\u001b[0;32m    121\u001b[0m \u001b[38;5;124;03m    Parameters\u001b[39;00m\n\u001b[1;32m   (...)\u001b[0m\n\u001b[0;32m    186\u001b[0m \u001b[38;5;124;03m    Booster : a trained booster model\u001b[39;00m\n\u001b[0;32m    187\u001b[0m \u001b[38;5;124;03m    \"\"\"\u001b[39;00m\n\u001b[1;32m--> 188\u001b[0m     bst \u001b[38;5;241m=\u001b[39m \u001b[43m_train_internal\u001b[49m\u001b[43m(\u001b[49m\u001b[43mparams\u001b[49m\u001b[43m,\u001b[49m\u001b[43m \u001b[49m\u001b[43mdtrain\u001b[49m\u001b[43m,\u001b[49m\n\u001b[0;32m    189\u001b[0m \u001b[43m                          \u001b[49m\u001b[43mnum_boost_round\u001b[49m\u001b[38;5;241;43m=\u001b[39;49m\u001b[43mnum_boost_round\u001b[49m\u001b[43m,\u001b[49m\n\u001b[0;32m    190\u001b[0m \u001b[43m                          \u001b[49m\u001b[43mevals\u001b[49m\u001b[38;5;241;43m=\u001b[39;49m\u001b[43mevals\u001b[49m\u001b[43m,\u001b[49m\n\u001b[0;32m    191\u001b[0m \u001b[43m                          \u001b[49m\u001b[43mobj\u001b[49m\u001b[38;5;241;43m=\u001b[39;49m\u001b[43mobj\u001b[49m\u001b[43m,\u001b[49m\u001b[43m \u001b[49m\u001b[43mfeval\u001b[49m\u001b[38;5;241;43m=\u001b[39;49m\u001b[43mfeval\u001b[49m\u001b[43m,\u001b[49m\n\u001b[0;32m    192\u001b[0m \u001b[43m                          \u001b[49m\u001b[43mxgb_model\u001b[49m\u001b[38;5;241;43m=\u001b[39;49m\u001b[43mxgb_model\u001b[49m\u001b[43m,\u001b[49m\u001b[43m \u001b[49m\u001b[43mcallbacks\u001b[49m\u001b[38;5;241;43m=\u001b[39;49m\u001b[43mcallbacks\u001b[49m\u001b[43m,\u001b[49m\n\u001b[0;32m    193\u001b[0m \u001b[43m                          \u001b[49m\u001b[43mverbose_eval\u001b[49m\u001b[38;5;241;43m=\u001b[39;49m\u001b[43mverbose_eval\u001b[49m\u001b[43m,\u001b[49m\n\u001b[0;32m    194\u001b[0m \u001b[43m                          \u001b[49m\u001b[43mevals_result\u001b[49m\u001b[38;5;241;43m=\u001b[39;49m\u001b[43mevals_result\u001b[49m\u001b[43m,\u001b[49m\n\u001b[0;32m    195\u001b[0m \u001b[43m                          \u001b[49m\u001b[43mmaximize\u001b[49m\u001b[38;5;241;43m=\u001b[39;49m\u001b[43mmaximize\u001b[49m\u001b[43m,\u001b[49m\n\u001b[0;32m    196\u001b[0m \u001b[43m                          \u001b[49m\u001b[43mearly_stopping_rounds\u001b[49m\u001b[38;5;241;43m=\u001b[39;49m\u001b[43mearly_stopping_rounds\u001b[49m\u001b[43m)\u001b[49m\n\u001b[0;32m    197\u001b[0m     \u001b[38;5;28;01mreturn\u001b[39;00m bst\n",
      "File \u001b[1;32mD:\\Installed Softwares\\Python 3.10.2\\lib\\site-packages\\xgboost\\training.py:81\u001b[0m, in \u001b[0;36m_train_internal\u001b[1;34m(params, dtrain, num_boost_round, evals, obj, feval, xgb_model, callbacks, evals_result, maximize, verbose_eval, early_stopping_rounds)\u001b[0m\n\u001b[0;32m     79\u001b[0m \u001b[38;5;28;01mif\u001b[39;00m callbacks\u001b[38;5;241m.\u001b[39mbefore_iteration(bst, i, dtrain, evals):\n\u001b[0;32m     80\u001b[0m     \u001b[38;5;28;01mbreak\u001b[39;00m\n\u001b[1;32m---> 81\u001b[0m \u001b[43mbst\u001b[49m\u001b[38;5;241;43m.\u001b[39;49m\u001b[43mupdate\u001b[49m\u001b[43m(\u001b[49m\u001b[43mdtrain\u001b[49m\u001b[43m,\u001b[49m\u001b[43m \u001b[49m\u001b[43mi\u001b[49m\u001b[43m,\u001b[49m\u001b[43m \u001b[49m\u001b[43mobj\u001b[49m\u001b[43m)\u001b[49m\n\u001b[0;32m     82\u001b[0m \u001b[38;5;28;01mif\u001b[39;00m callbacks\u001b[38;5;241m.\u001b[39mafter_iteration(bst, i, dtrain, evals):\n\u001b[0;32m     83\u001b[0m     \u001b[38;5;28;01mbreak\u001b[39;00m\n",
      "File \u001b[1;32mD:\\Installed Softwares\\Python 3.10.2\\lib\\site-packages\\xgboost\\core.py:1680\u001b[0m, in \u001b[0;36mBooster.update\u001b[1;34m(self, dtrain, iteration, fobj)\u001b[0m\n\u001b[0;32m   1677\u001b[0m \u001b[38;5;28mself\u001b[39m\u001b[38;5;241m.\u001b[39m_validate_features(dtrain)\n\u001b[0;32m   1679\u001b[0m \u001b[38;5;28;01mif\u001b[39;00m fobj \u001b[38;5;129;01mis\u001b[39;00m \u001b[38;5;28;01mNone\u001b[39;00m:\n\u001b[1;32m-> 1680\u001b[0m     \u001b[43m_check_call\u001b[49m\u001b[43m(\u001b[49m\u001b[43m_LIB\u001b[49m\u001b[38;5;241;43m.\u001b[39;49m\u001b[43mXGBoosterUpdateOneIter\u001b[49m\u001b[43m(\u001b[49m\u001b[38;5;28;43mself\u001b[39;49m\u001b[38;5;241;43m.\u001b[39;49m\u001b[43mhandle\u001b[49m\u001b[43m,\u001b[49m\n\u001b[0;32m   1681\u001b[0m \u001b[43m                                            \u001b[49m\u001b[43mctypes\u001b[49m\u001b[38;5;241;43m.\u001b[39;49m\u001b[43mc_int\u001b[49m\u001b[43m(\u001b[49m\u001b[43miteration\u001b[49m\u001b[43m)\u001b[49m\u001b[43m,\u001b[49m\n\u001b[0;32m   1682\u001b[0m \u001b[43m                                            \u001b[49m\u001b[43mdtrain\u001b[49m\u001b[38;5;241;43m.\u001b[39;49m\u001b[43mhandle\u001b[49m\u001b[43m)\u001b[49m\u001b[43m)\u001b[49m\n\u001b[0;32m   1683\u001b[0m \u001b[38;5;28;01melse\u001b[39;00m:\n\u001b[0;32m   1684\u001b[0m     pred \u001b[38;5;241m=\u001b[39m \u001b[38;5;28mself\u001b[39m\u001b[38;5;241m.\u001b[39mpredict(dtrain, output_margin\u001b[38;5;241m=\u001b[39m\u001b[38;5;28;01mTrue\u001b[39;00m, training\u001b[38;5;241m=\u001b[39m\u001b[38;5;28;01mTrue\u001b[39;00m)\n",
      "File \u001b[1;32mD:\\Installed Softwares\\Python 3.10.2\\lib\\site-packages\\xgboost\\core.py:218\u001b[0m, in \u001b[0;36m_check_call\u001b[1;34m(ret)\u001b[0m\n\u001b[0;32m    207\u001b[0m \u001b[38;5;124;03m\"\"\"Check the return value of C API call\u001b[39;00m\n\u001b[0;32m    208\u001b[0m \n\u001b[0;32m    209\u001b[0m \u001b[38;5;124;03mThis function will raise exception when error occurs.\u001b[39;00m\n\u001b[1;32m   (...)\u001b[0m\n\u001b[0;32m    215\u001b[0m \u001b[38;5;124;03m    return value from API calls\u001b[39;00m\n\u001b[0;32m    216\u001b[0m \u001b[38;5;124;03m\"\"\"\u001b[39;00m\n\u001b[0;32m    217\u001b[0m \u001b[38;5;28;01mif\u001b[39;00m ret \u001b[38;5;241m!=\u001b[39m \u001b[38;5;241m0\u001b[39m:\n\u001b[1;32m--> 218\u001b[0m     \u001b[38;5;28;01mraise\u001b[39;00m XGBoostError(py_str(_LIB\u001b[38;5;241m.\u001b[39mXGBGetLastError()))\n",
      "\u001b[1;31mXGBoostError\u001b[0m: [21:40:54] C:\\Users\\Administrator\\workspace\\xgboost-win64_release_1.5.1\\src\\objective\\objective.cc:26: Unknown objective function: `{'objective': 'reg:squarederror'}`\nObjective candidate: survival:aft\nObjective candidate: binary:hinge\nObjective candidate: multi:softmax\nObjective candidate: multi:softprob\nObjective candidate: rank:pairwise\nObjective candidate: rank:ndcg\nObjective candidate: rank:map\nObjective candidate: reg:pseudohubererror\nObjective candidate: binary:logistic\nObjective candidate: binary:logitraw\nObjective candidate: reg:linear\nObjective candidate: count:poisson\nObjective candidate: survival:cox\nObjective candidate: reg:gamma\nObjective candidate: reg:tweedie\nObjective candidate: reg:squarederror\nObjective candidate: reg:squaredlogerror\nObjective candidate: reg:logistic\n"
     ]
    }
   ],
   "source": [
    "%%time\n",
    "xgb_clf = xgb.XGBRegressor({'objective': 'reg:squarederror'}) \n",
    "parameters = {'n_estimators': [60, 100, 120, 150], \n",
    "              'learning_rate': [0.001, 0.01, 0.1],\n",
    "              'max_depth': [5, 10],\n",
    "              'reg_lambda': [0.5],\n",
    "              'n_jobs':[-1]}\n",
    "grid = GridSearchCV(estimator=xgb_clf, param_grid=parameters, cv=5, n_jobs=-1)\n",
    "grid.fit(X_stack_train, y_train)"
   ]
  },
  {
   "cell_type": "markdown",
   "id": "a541968d",
   "metadata": {},
   "source": [
    "## 8. Light GBM : "
   ]
  },
  {
   "cell_type": "code",
   "execution_count": 121,
   "id": "82af0d6d",
   "metadata": {},
   "outputs": [
    {
     "name": "stdout",
     "output_type": "stream",
     "text": [
      "[LightGBM] [Warning] bagging_fraction is set=1, subsample=0.8 will be ignored. Current value: bagging_fraction=1\n",
      "[LightGBM] [Warning] bagging_fraction is set=1, subsample=0.8 will be ignored. Current value: bagging_fraction=1\n",
      "[LightGBM] [Warning] Auto-choosing row-wise multi-threading, the overhead of testing was 0.004870 seconds.\n",
      "You can set `force_row_wise=true` to remove the overhead.\n",
      "And if memory is not enough, you can set `force_col_wise=true`.\n",
      "[LightGBM] [Info] Total Bins 5480\n",
      "[LightGBM] [Info] Number of data points in the train set: 88010, number of used features: 75\n",
      "[LightGBM] [Warning] bagging_fraction is set=1, subsample=0.8 will be ignored. Current value: bagging_fraction=1\n",
      "[LightGBM] [Info] Start training from score 16090.394796\n",
      "Training until validation scores don't improve for 800 rounds\n",
      "[500]\tvalid_0's rmse: 5872.26\n",
      "[1000]\tvalid_0's rmse: 5506.08\n",
      "Did not meet early stopping. Best iteration is:\n",
      "[1000]\tvalid_0's rmse: 5506.08\n",
      "CPU times: total: 34 s\n",
      "Wall time: 9.44 s\n"
     ]
    }
   ],
   "source": [
    "%%time\n",
    "train_set = lgb.Dataset(X_stack_train, y_train, silent=False)\n",
    "test_set = lgb.Dataset(X_stack_test, y_test, silent=False)\n",
    "params = {\n",
    "        'boosting_type':'gbdt',\n",
    "        'objective': 'regression',\n",
    "        'num_leaves': 31,\n",
    "        'learning_rate': 0.01,\n",
    "        'max_depth': -1,\n",
    "        'subsample': 0.8,\n",
    "        'bagging_fraction' : 1,\n",
    "        'max_bin' : 5000 ,\n",
    "        'bagging_freq': 20,\n",
    "        'colsample_bytree': 0.6,\n",
    "        'metric': 'rmse',\n",
    "        'min_split_gain': 0.5,\n",
    "        'min_child_weight': 1,\n",
    "        'min_child_samples': 10,\n",
    "        'scale_pos_weight':1,\n",
    "        'zero_as_missing': False,\n",
    "        'seed':0,        \n",
    "    }\n",
    "model = lgb.train(params, train_set = train_set, num_boost_round=1000,\n",
    "                   early_stopping_rounds=800,verbose_eval=500,  valid_sets=test_set, )"
   ]
  },
  {
   "cell_type": "code",
   "execution_count": 122,
   "id": "bba2942c",
   "metadata": {},
   "outputs": [
    {
     "name": "stdout",
     "output_type": "stream",
     "text": [
      "First Five Actual Value of Train :  [ 5200 36990 24990 16900 14000]\n",
      "First Five Predicted Value of Train :  [ 5824 36530 26687 18020 17623]\n",
      "\n",
      "\n",
      "\n",
      "First Five Actual Value of Test :  [ 7300  9995  4995 36590  5850]\n",
      "First Five Predicted Value of Test :  [12990  7699  5777 44691  5199]\n",
      "CPU times: total: 17.5 s\n",
      "Wall time: 4.64 s\n"
     ]
    }
   ],
   "source": [
    "%%time\n",
    "# define true and predicted response values\n",
    "y_true_train = y_train\n",
    "y_pred_train = model.predict(X_stack_train).astype('int64')\n",
    "print(\"First Five Actual Value of Train : \",y_true_train.values[:5])\n",
    "print(\"First Five Predicted Value of Train : \",y_pred_train[:5])\n",
    "print('\\n\\n')\n",
    "y_true_test = y_test\n",
    "y_pred_test = model.predict(X_stack_test).astype('int64')\n",
    "print(\"First Five Actual Value of Test : \",y_true_test.values[:5])\n",
    "print(\"First Five Predicted Value of Test : \",y_pred_test[:5])"
   ]
  },
  {
   "cell_type": "code",
   "execution_count": 123,
   "id": "6ade6a85",
   "metadata": {},
   "outputs": [
    {
     "name": "stdout",
     "output_type": "stream",
     "text": [
      "For Train Data\n",
      "acc(r2_score) = 86.96\n",
      "acc(relative error) = 18.12\n",
      "acc(rmse) = 477499.71\n",
      "For Test Data\n",
      "acc(r2_score) = 83.5\n",
      "acc(relative error) = 18.93\n",
      "acc(rmse) = 550607.76\n",
      "CPU times: total: 46.9 ms\n",
      "Wall time: 27.9 ms\n"
     ]
    }
   ],
   "source": [
    "%%time\n",
    "print('For Train Data')\n",
    "acc_model(y_true_train,y_pred_train)\n",
    "print('For Test Data')\n",
    "acc_model(y_true_test,y_pred_test)"
   ]
  },
  {
   "cell_type": "code",
   "execution_count": 124,
   "id": "f50ff607",
   "metadata": {},
   "outputs": [],
   "source": [
    "filename = \"LGBM_Regressor\"\n",
    "pickle.dump(model,open(filename,'wb'))"
   ]
  },
  {
   "cell_type": "markdown",
   "id": "721f3009",
   "metadata": {},
   "source": [
    "## Plotting the important features :"
   ]
  },
  {
   "cell_type": "code",
   "execution_count": 130,
   "id": "d3bf2f37",
   "metadata": {},
   "outputs": [
    {
     "data": {
      "image/png": "[encoded data removed]",
      "text/plain": [
       "<Figure size 1440x1080 with 1 Axes>"
      ]
     },
     "metadata": {
      "needs_background": "light"
     },
     "output_type": "display_data"
    },
    {
     "name": "stdout",
     "output_type": "stream",
     "text": [
      "CPU times: total: 1.41 s\n",
      "Wall time: 1.67 s\n"
     ]
    }
   ],
   "source": [
    "%%time\n",
    "fig =  plt.figure(figsize = (20,15))\n",
    "axes = fig.add_subplot(111)\n",
    "lgb.plot_importance(model,ax = axes,height = 0.5)\n",
    "plt.show();\n",
    "plt.close()"
   ]
  },
  {
   "cell_type": "markdown",
   "id": "bba51b75",
   "metadata": {},
   "source": [
    "##  Summarizing the Results of the Models :"
   ]
  },
  {
   "cell_type": "code",
   "execution_count": 131,
   "id": "4d3acf91",
   "metadata": {},
   "outputs": [
    {
     "name": "stdout",
     "output_type": "stream",
     "text": [
      "+---------------------------------+------------------+----------------------+----------------+------------------+---------------------+----------------+\n",
      "|            Model Name           |  Train R2 Score  | Train Relative Error |   Train RMSE   |  Test R2 Score   | Test Relative Error |   Test RMSE    |\n",
      "+---------------------------------+------------------+----------------------+----------------+------------------+---------------------+----------------+\n",
      "|        Linear Regression        |      51.28       |        35.75         |   699165.39    |      51.39       |        36.11        |   693342.91    |\n",
      "|     Support Vector Regressor    |      -8.85       |        57.31         |   1045067.31   |      -8.46       |        57.38        |   1035685.06   |\n",
      "| Linear Support Vector Regressor |      35.54       |        33.91         |   804175.36    |      34.76       |        34.08        |   803239.29    |\n",
      "|          MLP Regressor          |      74.58       |        22.65         |   505042.37    |       74.4       |        22.98        |   503142.45    |\n",
      "|          SGD Regressor          | -541746662852.12 |     68561689.97      | 73725901010.56 | -544619576720.21 |     69557750.71     | 73390441004.45 |\n",
      "|          MLP Regressor          |      99.94       |         0.16         |    24394.21    |      67.14       |        18.66        |   570063.77    |\n",
      "|          XGB Regressor          |      93.16       |         13.2         |   261974.97    |      85.22       |        16.74        |   382354.26    |\n",
      "|          LGBM Regressor         |      81.58       |        19.49         |   429924.13    |      79.82       |        20.07        |   446717.59    |\n",
      "+---------------------------------+------------------+----------------------+----------------+------------------+---------------------+----------------+\n"
     ]
    }
   ],
   "source": [
    "x = PrettyTable()\n",
    "\n",
    "x.field_names = [\"Model Name\", \"Train R2 Score\", \"Train Relative Error\", \"Train RMSE\", \"Test R2 Score\", \"Test Relative Error\", \"Test RMSE\"]\n",
    "\n",
    "x.add_row([\"Linear Regression\", 51.28, 35.75, 699165.39, 51.39, 36.11, 693342.91])\n",
    "x.add_row([\"Support Vector Regressor\", -8.85, 57.31, 1045067.31, -8.46, 57.38, 1035685.06])\n",
    "x.add_row([\"Linear Support Vector Regressor\", 35.54, 33.91, 804175.36, 34.76, 34.08, 803239.29])\n",
    "x.add_row([\"MLP Regressor\", 74.58, 22.65, 505042.37, 74.4, 22.98, 503142.45])\n",
    "x.add_row([\"SGD Regressor\", -541746662852.12, 68561689.97, 73725901010.56, -544619576720.21, 69557750.71, 73390441004.45])\n",
    "x.add_row([\"MLP Regressor\", 99.94, 0.16, 24394.21, 67.14, 18.66, 570063.77])\n",
    "x.add_row([\"XGB Regressor\", 93.16, 13.2, 261974.97, 85.22, 16.74, 382354.26])\n",
    "x.add_row([\"LGBM Regressor\", 81.58, 19.49, 429924.13, 79.82, 20.07, 446717.59])\n",
    "\n",
    "print(x)"
   ]
  },
  {
   "cell_type": "code",
   "execution_count": null,
   "id": "d9c6e6f8",
   "metadata": {},
   "outputs": [],
   "source": []
  }
 ],
 "metadata": {
  "kernelspec": {
   "display_name": "Python 3 (ipykernel)",
   "language": "python",
   "name": "python3"
  },
  "language_info": {
   "codemirror_mode": {
    "name": "ipython",
    "version": 3
   },
   "file_extension": ".py",
   "mimetype": "text/x-python",
   "name": "python",
   "nbconvert_exporter": "python",
   "pygments_lexer": "ipython3",
   "version": "3.10.2"
  }
 },
 "nbformat": 4,
 "nbformat_minor": 5
}
