{
 "cells": [
  {
   "cell_type": "markdown",
   "metadata": {
    "colab_type": "text",
    "id": "54zofMReDv0f"
   },
   "source": [
    "# Used Car Price Prediction "
   ]
  },
  {
   "cell_type": "code",
   "execution_count": null,
   "metadata": {},
   "outputs": [],
   "source": []
  },
  {
   "cell_type": "markdown",
   "metadata": {
    "colab_type": "text",
    "id": "SZxMEWxtDuL5"
   },
   "source": [
    "https://www.kaggle.com/austinreese/craigslist-carstrucks-data"
   ]
  },
  {
   "cell_type": "code",
   "execution_count": 3,
   "metadata": {
    "colab": {
     "base_uri": "https://localhost:8080/",
     "height": 168
    },
    "colab_type": "code",
    "id": "Rvm5idCmCvXs",
    "outputId": "283afad3-0a3e-42d1-a72b-673f5e1d339d"
   },
   "outputs": [
    {
     "name": "stdout",
     "output_type": "stream",
     "text": [
      "Requirement already satisfied: ipython-autotime in d:\\installed softwares\\python 3.10.2\\lib\\site-packages (0.3.1)Note: you may need to restart the kernel to use updated packages.\n"
     ]
    },
    {
     "name": "stderr",
     "output_type": "stream",
     "text": [
      "WARNING: Ignoring invalid distribution -ip (d:\\installed softwares\\python 3.10.2\\lib\\site-packages)\n",
      "WARNING: Ignoring invalid distribution -ip (d:\\installed softwares\\python 3.10.2\\lib\\site-packages)\n",
      "WARNING: Ignoring invalid distribution -ip (d:\\installed softwares\\python 3.10.2\\lib\\site-packages)\n",
      "WARNING: Ignoring invalid distribution -ip (d:\\installed softwares\\python 3.10.2\\lib\\site-packages)\n",
      "WARNING: Ignoring invalid distribution -ip (d:\\installed softwares\\python 3.10.2\\lib\\site-packages)\n",
      "WARNING: Ignoring invalid distribution -ip (d:\\installed softwares\\python 3.10.2\\lib\\site-packages)\n",
      "WARNING: You are using pip version 21.2.4; however, version 22.0.3 is available.\n",
      "You should consider upgrading via the 'D:\\Installed Softwares\\Python 3.10.2\\python.exe -m pip install --upgrade pip' command.\n"
     ]
    },
    {
     "name": "stdout",
     "output_type": "stream",
     "text": [
      "\n",
      "Requirement already satisfied: ipython in d:\\installed softwares\\python 3.10.2\\lib\\site-packages (from ipython-autotime) (8.0.1)\n",
      "Requirement already satisfied: decorator in d:\\installed softwares\\python 3.10.2\\lib\\site-packages (from ipython->ipython-autotime) (5.1.1)\n",
      "Requirement already satisfied: jedi>=0.16 in d:\\installed softwares\\python 3.10.2\\lib\\site-packages (from ipython->ipython-autotime) (0.18.1)\n",
      "Requirement already satisfied: matplotlib-inline in d:\\installed softwares\\python 3.10.2\\lib\\site-packages (from ipython->ipython-autotime) (0.1.3)\n",
      "Requirement already satisfied: traitlets>=5 in d:\\installed softwares\\python 3.10.2\\lib\\site-packages (from ipython->ipython-autotime) (5.1.1)\n",
      "Requirement already satisfied: backcall in d:\\installed softwares\\python 3.10.2\\lib\\site-packages (from ipython->ipython-autotime) (0.2.0)\n",
      "Requirement already satisfied: prompt-toolkit!=3.0.0,!=3.0.1,<3.1.0,>=2.0.0 in d:\\installed softwares\\python 3.10.2\\lib\\site-packages (from ipython->ipython-autotime) (3.0.24)\n",
      "Requirement already satisfied: setuptools>=18.5 in d:\\installed softwares\\python 3.10.2\\lib\\site-packages (from ipython->ipython-autotime) (58.1.0)\n",
      "Requirement already satisfied: stack-data in d:\\installed softwares\\python 3.10.2\\lib\\site-packages (from ipython->ipython-autotime) (0.1.4)\n",
      "Requirement already satisfied: colorama in d:\\installed softwares\\python 3.10.2\\lib\\site-packages (from ipython->ipython-autotime) (0.4.4)\n",
      "Requirement already satisfied: pickleshare in d:\\installed softwares\\python 3.10.2\\lib\\site-packages (from ipython->ipython-autotime) (0.7.5)\n",
      "Requirement already satisfied: black in d:\\installed softwares\\python 3.10.2\\lib\\site-packages (from ipython->ipython-autotime) (21.12b0)\n",
      "Requirement already satisfied: pygments in d:\\installed softwares\\python 3.10.2\\lib\\site-packages (from ipython->ipython-autotime) (2.11.2)\n",
      "Requirement already satisfied: parso<0.9.0,>=0.8.0 in d:\\installed softwares\\python 3.10.2\\lib\\site-packages (from jedi>=0.16->ipython->ipython-autotime) (0.8.3)\n",
      "Requirement already satisfied: wcwidth in d:\\installed softwares\\python 3.10.2\\lib\\site-packages (from prompt-toolkit!=3.0.0,!=3.0.1,<3.1.0,>=2.0.0->ipython->ipython-autotime) (0.2.5)\n",
      "Requirement already satisfied: tomli<2.0.0,>=0.2.6 in d:\\installed softwares\\python 3.10.2\\lib\\site-packages (from black->ipython->ipython-autotime) (1.2.3)\n",
      "Requirement already satisfied: mypy-extensions>=0.4.3 in d:\\installed softwares\\python 3.10.2\\lib\\site-packages (from black->ipython->ipython-autotime) (0.4.3)\n",
      "Requirement already satisfied: pathspec<1,>=0.9.0 in d:\\installed softwares\\python 3.10.2\\lib\\site-packages (from black->ipython->ipython-autotime) (0.9.0)\n",
      "Requirement already satisfied: platformdirs>=2 in d:\\installed softwares\\python 3.10.2\\lib\\site-packages (from black->ipython->ipython-autotime) (2.4.1)\n",
      "Requirement already satisfied: typing-extensions!=3.10.0.1 in d:\\installed softwares\\python 3.10.2\\lib\\site-packages (from black->ipython->ipython-autotime) (4.0.1)\n",
      "Requirement already satisfied: click>=7.1.2 in d:\\installed softwares\\python 3.10.2\\lib\\site-packages (from black->ipython->ipython-autotime) (8.0.3)\n",
      "Requirement already satisfied: executing in d:\\installed softwares\\python 3.10.2\\lib\\site-packages (from stack-data->ipython->ipython-autotime) (0.8.2)\n",
      "Requirement already satisfied: asttokens in d:\\installed softwares\\python 3.10.2\\lib\\site-packages (from stack-data->ipython->ipython-autotime) (2.0.5)\n",
      "Requirement already satisfied: pure-eval in d:\\installed softwares\\python 3.10.2\\lib\\site-packages (from stack-data->ipython->ipython-autotime) (0.2.2)\n",
      "Requirement already satisfied: six in d:\\installed softwares\\python 3.10.2\\lib\\site-packages (from asttokens->stack-data->ipython->ipython-autotime) (1.16.0)\n"
     ]
    }
   ],
   "source": [
    "pip install ipython-autotime\n",
    "#to track down time of each cell using %%time"
   ]
  },
  {
   "cell_type": "markdown",
   "metadata": {
    "colab_type": "text",
    "id": "WGN91uwoK372"
   },
   "source": [
    "### Importing Libraries"
   ]
  },
  {
   "cell_type": "code",
   "execution_count": 0,
   "metadata": {
    "colab": {
     "base_uri": "https://localhost:8080/",
     "height": 70
    },
    "colab_type": "code",
    "id": "tnB3OlqFE06S",
    "outputId": "690bfb6d-6ebc-4367-8977-188cf48279b5"
   },
   "outputs": [
    {
     "name": "stderr",
     "output_type": "stream",
     "text": [
      "/usr/local/lib/python3.6/dist-packages/statsmodels/tools/_testing.py:19: FutureWarning: pandas.util.testing is deprecated. Use the functions in the public API at pandas.testing instead.\n",
      "  import pandas.util.testing as tm\n"
     ]
    }
   ],
   "source": [
    "import pandas as pd\n",
    "import matplotlib.pyplot as plt\n",
    "%matplotlib inline\n",
    "import seaborn as sns\n",
    "from sklearn.model_selection import *\n",
    "from sklearn.preprocessing import *\n",
    "import numpy as np\n",
    "from collections import Counter\n",
    "from sklearn.linear_model import *\n",
    "from scipy.sparse import hstack\n",
    "from sklearn import metrics\n",
    "from sklearn.metrics import r2_score, mean_absolute_error, mean_squared_error\n",
    "from sklearn.svm import *\n",
    "from sklearn.neural_network import MLPRegressor\n",
    "from sklearn.linear_model import *\n",
    "from sklearn.tree import *\n",
    "from sklearn.ensemble import *\n",
    "import xgboost as xgb\n",
    "import lightgbm as lgb\n",
    "# model tuning\n",
    "from hyperopt import STATUS_OK, Trials, fmin, hp, tpe, space_eval\n",
    "from prettytable import PrettyTable\n",
    "import warnings\n",
    "warnings.filterwarnings(\"ignore\")"
   ]
  },
  {
   "cell_type": "markdown",
   "metadata": {
    "colab_type": "text",
    "id": "rDFKa-Y-LDDy"
   },
   "source": [
    "#### Setting Up the Data path"
   ]
  },
  {
   "cell_type": "code",
   "execution_count": 0,
   "metadata": {
    "colab": {
     "base_uri": "https://localhost:8080/",
     "height": 50
    },
    "colab_type": "code",
    "id": "vH2FNV3XDrmU",
    "outputId": "1ff09c89-64ce-4bca-e1bc-6667b5732c29"
   },
   "outputs": [
    {
     "name": "stdout",
     "output_type": "stream",
     "text": [
      "CPU times: user 2 µs, sys: 1 µs, total: 3 µs\n",
      "Wall time: 4.77 µs\n"
     ]
    }
   ],
   "source": [
    "%%time\n",
    "dataPath = '/content/drive/My Drive/Colab Notebooks/Used Cars/vehicles.csv'"
   ]
  },
  {
   "cell_type": "markdown",
   "metadata": {
    "colab_type": "text",
    "id": "Zavw8YSiLH2p"
   },
   "source": [
    "#### Creating a DataFrame"
   ]
  },
  {
   "cell_type": "code",
   "execution_count": 0,
   "metadata": {
    "colab": {
     "base_uri": "https://localhost:8080/",
     "height": 50
    },
    "colab_type": "code",
    "id": "SH8LkW6mE6UW",
    "outputId": "2e46068e-f90c-4562-cf42-9e8d3b4282fc"
   },
   "outputs": [
    {
     "name": "stdout",
     "output_type": "stream",
     "text": [
      "CPU times: user 15.4 s, sys: 4.42 s, total: 19.9 s\n",
      "Wall time: 21.7 s\n"
     ]
    }
   ],
   "source": [
    "%%time\n",
    "data = pd.read_csv(dataPath)"
   ]
  },
  {
   "cell_type": "markdown",
   "metadata": {
    "colab_type": "text",
    "id": "UPMyJybMLLXS"
   },
   "source": [
    "#### Dimensions"
   ]
  },
  {
   "cell_type": "code",
   "execution_count": 0,
   "metadata": {
    "colab": {
     "base_uri": "https://localhost:8080/",
     "height": 67
    },
    "colab_type": "code",
    "id": "XyFl7AsEE_av",
    "outputId": "992263b1-5f19-4982-b679-8977670a64c5"
   },
   "outputs": [
    {
     "name": "stdout",
     "output_type": "stream",
     "text": [
      "(539759, 25)\n",
      "CPU times: user 99 µs, sys: 29 µs, total: 128 µs\n",
      "Wall time: 106 µs\n"
     ]
    }
   ],
   "source": [
    "%%time\n",
    "print(data.shape)\n",
    "total_rows = data.shape[0]"
   ]
  },
  {
   "cell_type": "markdown",
   "metadata": {
    "colab_type": "text",
    "id": "4VJ7e-87LQG2"
   },
   "source": [
    "#### Viewing the Columns"
   ]
  },
  {
   "cell_type": "code",
   "execution_count": 0,
   "metadata": {
    "colab": {
     "base_uri": "https://localhost:8080/",
     "height": 134
    },
    "colab_type": "code",
    "id": "jJEPxM5rFA4B",
    "outputId": "3f9f9281-2bd1-415f-b2b1-32891b083a1f"
   },
   "outputs": [
    {
     "name": "stdout",
     "output_type": "stream",
     "text": [
      "CPU times: user 51 µs, sys: 15 µs, total: 66 µs\n",
      "Wall time: 69.6 µs\n"
     ]
    },
    {
     "data": {
      "text/plain": [
       "Index(['id', 'url', 'region', 'region_url', 'price', 'year', 'manufacturer',\n",
       "       'model', 'condition', 'cylinders', 'fuel', 'odometer', 'title_status',\n",
       "       'transmission', 'vin', 'drive', 'size', 'type', 'paint_color',\n",
       "       'image_url', 'description', 'county', 'state', 'lat', 'long'],\n",
       "      dtype='object')"
      ]
     },
     "execution_count": 7,
     "metadata": {
      "tags": []
     },
     "output_type": "execute_result"
    }
   ],
   "source": [
    "%%time\n",
    "data.columns"
   ]
  },
  {
   "cell_type": "markdown",
   "metadata": {
    "colab_type": "text",
    "id": "aAsueqcsLTqq"
   },
   "source": [
    "#### Glimpse of the Data"
   ]
  },
  {
   "cell_type": "code",
   "execution_count": 0,
   "metadata": {
    "colab": {
     "base_uri": "https://localhost:8080/",
     "height": 350
    },
    "colab_type": "code",
    "id": "Wo4qeF5SFCbL",
    "outputId": "3fa68430-2ff0-46ef-a2f3-d853d0877647"
   },
   "outputs": [
    {
     "name": "stdout",
     "output_type": "stream",
     "text": [
      "CPU times: user 704 µs, sys: 0 ns, total: 704 µs\n",
      "Wall time: 682 µs\n"
     ]
    },
    {
     "data": {
      "text/html": [
       "<div>\n",
       "<style scoped>\n",
       "    .dataframe tbody tr th:only-of-type {\n",
       "        vertical-align: middle;\n",
       "    }\n",
       "\n",
       "    .dataframe tbody tr th {\n",
       "        vertical-align: top;\n",
       "    }\n",
       "\n",
       "    .dataframe thead th {\n",
       "        text-align: right;\n",
       "    }\n",
       "</style>\n",
       "<table border=\"1\" class=\"dataframe\">\n",
       "  <thead>\n",
       "    <tr style=\"text-align: right;\">\n",
       "      <th></th>\n",
       "      <th>id</th>\n",
       "      <th>url</th>\n",
       "      <th>region</th>\n",
       "      <th>region_url</th>\n",
       "      <th>price</th>\n",
       "      <th>year</th>\n",
       "      <th>manufacturer</th>\n",
       "      <th>model</th>\n",
       "      <th>condition</th>\n",
       "      <th>cylinders</th>\n",
       "      <th>fuel</th>\n",
       "      <th>odometer</th>\n",
       "      <th>title_status</th>\n",
       "      <th>transmission</th>\n",
       "      <th>vin</th>\n",
       "      <th>drive</th>\n",
       "      <th>size</th>\n",
       "      <th>type</th>\n",
       "      <th>paint_color</th>\n",
       "      <th>image_url</th>\n",
       "      <th>description</th>\n",
       "      <th>county</th>\n",
       "      <th>state</th>\n",
       "      <th>lat</th>\n",
       "      <th>long</th>\n",
       "    </tr>\n",
       "  </thead>\n",
       "  <tbody>\n",
       "    <tr>\n",
       "      <th>0</th>\n",
       "      <td>7088746062</td>\n",
       "      <td>https://greensboro.craigslist.org/ctd/d/cary-2...</td>\n",
       "      <td>greensboro</td>\n",
       "      <td>https://greensboro.craigslist.org</td>\n",
       "      <td>10299</td>\n",
       "      <td>2012.0</td>\n",
       "      <td>acura</td>\n",
       "      <td>tl</td>\n",
       "      <td>NaN</td>\n",
       "      <td>NaN</td>\n",
       "      <td>gas</td>\n",
       "      <td>90186.0</td>\n",
       "      <td>clean</td>\n",
       "      <td>automatic</td>\n",
       "      <td>19UUA8F22CA003926</td>\n",
       "      <td>NaN</td>\n",
       "      <td>NaN</td>\n",
       "      <td>other</td>\n",
       "      <td>blue</td>\n",
       "      <td>https://images.craigslist.org/01414_3LIXs9EO33...</td>\n",
       "      <td>2012 Acura TL Base 4dr Sedan     Offered by: B...</td>\n",
       "      <td>NaN</td>\n",
       "      <td>nc</td>\n",
       "      <td>35.7636</td>\n",
       "      <td>-78.7443</td>\n",
       "    </tr>\n",
       "    <tr>\n",
       "      <th>1</th>\n",
       "      <td>7088745301</td>\n",
       "      <td>https://greensboro.craigslist.org/ctd/d/bmw-3-...</td>\n",
       "      <td>greensboro</td>\n",
       "      <td>https://greensboro.craigslist.org</td>\n",
       "      <td>0</td>\n",
       "      <td>2011.0</td>\n",
       "      <td>bmw</td>\n",
       "      <td>335</td>\n",
       "      <td>NaN</td>\n",
       "      <td>6 cylinders</td>\n",
       "      <td>gas</td>\n",
       "      <td>115120.0</td>\n",
       "      <td>clean</td>\n",
       "      <td>automatic</td>\n",
       "      <td>NaN</td>\n",
       "      <td>rwd</td>\n",
       "      <td>NaN</td>\n",
       "      <td>convertible</td>\n",
       "      <td>blue</td>\n",
       "      <td>https://images.craigslist.org/00S0S_1kTatLGLxB...</td>\n",
       "      <td>BMW 3 Series 335i Convertible Navigation Dakot...</td>\n",
       "      <td>NaN</td>\n",
       "      <td>nc</td>\n",
       "      <td>NaN</td>\n",
       "      <td>NaN</td>\n",
       "    </tr>\n",
       "    <tr>\n",
       "      <th>2</th>\n",
       "      <td>7088744126</td>\n",
       "      <td>https://greensboro.craigslist.org/cto/d/greens...</td>\n",
       "      <td>greensboro</td>\n",
       "      <td>https://greensboro.craigslist.org</td>\n",
       "      <td>9500</td>\n",
       "      <td>2011.0</td>\n",
       "      <td>jaguar</td>\n",
       "      <td>xf</td>\n",
       "      <td>excellent</td>\n",
       "      <td>NaN</td>\n",
       "      <td>gas</td>\n",
       "      <td>85000.0</td>\n",
       "      <td>clean</td>\n",
       "      <td>automatic</td>\n",
       "      <td>NaN</td>\n",
       "      <td>NaN</td>\n",
       "      <td>NaN</td>\n",
       "      <td>NaN</td>\n",
       "      <td>blue</td>\n",
       "      <td>https://images.craigslist.org/00505_f22HGItCRp...</td>\n",
       "      <td>2011 jaguar XF premium - estate sale. Retired ...</td>\n",
       "      <td>NaN</td>\n",
       "      <td>nc</td>\n",
       "      <td>36.1032</td>\n",
       "      <td>-79.8794</td>\n",
       "    </tr>\n",
       "    <tr>\n",
       "      <th>3</th>\n",
       "      <td>7088743681</td>\n",
       "      <td>https://greensboro.craigslist.org/ctd/d/cary-2...</td>\n",
       "      <td>greensboro</td>\n",
       "      <td>https://greensboro.craigslist.org</td>\n",
       "      <td>3995</td>\n",
       "      <td>2004.0</td>\n",
       "      <td>honda</td>\n",
       "      <td>element</td>\n",
       "      <td>NaN</td>\n",
       "      <td>NaN</td>\n",
       "      <td>gas</td>\n",
       "      <td>212526.0</td>\n",
       "      <td>clean</td>\n",
       "      <td>automatic</td>\n",
       "      <td>5J6YH18314L006498</td>\n",
       "      <td>fwd</td>\n",
       "      <td>NaN</td>\n",
       "      <td>SUV</td>\n",
       "      <td>orange</td>\n",
       "      <td>https://images.craigslist.org/00E0E_eAUnhFF86M...</td>\n",
       "      <td>2004 Honda Element LX 4dr SUV     Offered by: ...</td>\n",
       "      <td>NaN</td>\n",
       "      <td>nc</td>\n",
       "      <td>35.7636</td>\n",
       "      <td>-78.7443</td>\n",
       "    </tr>\n",
       "    <tr>\n",
       "      <th>4</th>\n",
       "      <td>7074612539</td>\n",
       "      <td>https://lincoln.craigslist.org/ctd/d/gretna-20...</td>\n",
       "      <td>lincoln</td>\n",
       "      <td>https://lincoln.craigslist.org</td>\n",
       "      <td>41988</td>\n",
       "      <td>2016.0</td>\n",
       "      <td>chevrolet</td>\n",
       "      <td>silverado k2500hd</td>\n",
       "      <td>NaN</td>\n",
       "      <td>NaN</td>\n",
       "      <td>gas</td>\n",
       "      <td>NaN</td>\n",
       "      <td>clean</td>\n",
       "      <td>automatic</td>\n",
       "      <td>1GC1KWE85GF266427</td>\n",
       "      <td>NaN</td>\n",
       "      <td>NaN</td>\n",
       "      <td>NaN</td>\n",
       "      <td>NaN</td>\n",
       "      <td>https://images.craigslist.org/00S0S_8msT7RQquO...</td>\n",
       "      <td>Shop Indoors, Heated Showroom!!!www.gretnaauto...</td>\n",
       "      <td>NaN</td>\n",
       "      <td>ne</td>\n",
       "      <td>41.1345</td>\n",
       "      <td>-96.2458</td>\n",
       "    </tr>\n",
       "  </tbody>\n",
       "</table>\n",
       "</div>"
      ],
      "text/plain": [
       "           id  ...     long\n",
       "0  7088746062  ... -78.7443\n",
       "1  7088745301  ...      NaN\n",
       "2  7088744126  ... -79.8794\n",
       "3  7088743681  ... -78.7443\n",
       "4  7074612539  ... -96.2458\n",
       "\n",
       "[5 rows x 25 columns]"
      ]
     },
     "execution_count": 8,
     "metadata": {
      "tags": []
     },
     "output_type": "execute_result"
    }
   ],
   "source": [
    "%%time\n",
    "data.head()"
   ]
  },
  {
   "cell_type": "markdown",
   "metadata": {
    "colab_type": "text",
    "id": "qYezR8DqM20K"
   },
   "source": [
    "#### Searching for Duplicayte IDs"
   ]
  },
  {
   "cell_type": "code",
   "execution_count": 0,
   "metadata": {
    "colab": {
     "base_uri": "https://localhost:8080/",
     "height": 67
    },
    "colab_type": "code",
    "id": "8wblXsK5K8nC",
    "outputId": "ce6aa670-2220-4f55-b736-ac85f7f4f685"
   },
   "outputs": [
    {
     "name": "stdout",
     "output_type": "stream",
     "text": [
      "Duplicate ID :  0\n",
      "CPU times: user 16.3 ms, sys: 1.07 ms, total: 17.4 ms\n",
      "Wall time: 16.9 ms\n"
     ]
    }
   ],
   "source": [
    "%%time\n",
    "print(\"Duplicate ID : \",data.id.duplicated().sum())"
   ]
  },
  {
   "cell_type": "markdown",
   "metadata": {
    "colab_type": "text",
    "id": "iEQVhWoyM83a"
   },
   "source": [
    "#### Sumary of the Data"
   ]
  },
  {
   "cell_type": "code",
   "execution_count": 0,
   "metadata": {
    "colab": {
     "base_uri": "https://localhost:8080/",
     "height": 318
    },
    "colab_type": "code",
    "id": "m6oz9m6d0QeK",
    "outputId": "bf30a357-55c6-46f9-90b5-0623743319f3"
   },
   "outputs": [
    {
     "name": "stdout",
     "output_type": "stream",
     "text": [
      "CPU times: user 147 ms, sys: 3.68 ms, total: 151 ms\n",
      "Wall time: 150 ms\n"
     ]
    },
    {
     "data": {
      "text/html": [
       "<div>\n",
       "<style scoped>\n",
       "    .dataframe tbody tr th:only-of-type {\n",
       "        vertical-align: middle;\n",
       "    }\n",
       "\n",
       "    .dataframe tbody tr th {\n",
       "        vertical-align: top;\n",
       "    }\n",
       "\n",
       "    .dataframe thead th {\n",
       "        text-align: right;\n",
       "    }\n",
       "</style>\n",
       "<table border=\"1\" class=\"dataframe\">\n",
       "  <thead>\n",
       "    <tr style=\"text-align: right;\">\n",
       "      <th></th>\n",
       "      <th>id</th>\n",
       "      <th>price</th>\n",
       "      <th>year</th>\n",
       "      <th>odometer</th>\n",
       "      <th>county</th>\n",
       "      <th>lat</th>\n",
       "      <th>long</th>\n",
       "    </tr>\n",
       "  </thead>\n",
       "  <tbody>\n",
       "    <tr>\n",
       "      <th>count</th>\n",
       "      <td>5.397590e+05</td>\n",
       "      <td>5.397590e+05</td>\n",
       "      <td>538772.000000</td>\n",
       "      <td>4.407830e+05</td>\n",
       "      <td>0.0</td>\n",
       "      <td>530785.000000</td>\n",
       "      <td>530785.000000</td>\n",
       "    </tr>\n",
       "    <tr>\n",
       "      <th>mean</th>\n",
       "      <td>7.087609e+09</td>\n",
       "      <td>1.954214e+05</td>\n",
       "      <td>2009.830982</td>\n",
       "      <td>1.008008e+05</td>\n",
       "      <td>NaN</td>\n",
       "      <td>38.432128</td>\n",
       "      <td>-94.040501</td>\n",
       "    </tr>\n",
       "    <tr>\n",
       "      <th>std</th>\n",
       "      <td>5.234176e+06</td>\n",
       "      <td>2.208252e+07</td>\n",
       "      <td>9.161334</td>\n",
       "      <td>1.767058e+05</td>\n",
       "      <td>NaN</td>\n",
       "      <td>5.916936</td>\n",
       "      <td>17.626658</td>\n",
       "    </tr>\n",
       "    <tr>\n",
       "      <th>min</th>\n",
       "      <td>7.065765e+09</td>\n",
       "      <td>0.000000e+00</td>\n",
       "      <td>0.000000</td>\n",
       "      <td>0.000000e+00</td>\n",
       "      <td>NaN</td>\n",
       "      <td>-84.911400</td>\n",
       "      <td>-176.810000</td>\n",
       "    </tr>\n",
       "    <tr>\n",
       "      <th>25%</th>\n",
       "      <td>7.084240e+09</td>\n",
       "      <td>4.400000e+03</td>\n",
       "      <td>2007.000000</td>\n",
       "      <td>4.703850e+04</td>\n",
       "      <td>NaN</td>\n",
       "      <td>34.197100</td>\n",
       "      <td>-106.782000</td>\n",
       "    </tr>\n",
       "    <tr>\n",
       "      <th>50%</th>\n",
       "      <td>7.088973e+09</td>\n",
       "      <td>9.500000e+03</td>\n",
       "      <td>2012.000000</td>\n",
       "      <td>9.330000e+04</td>\n",
       "      <td>NaN</td>\n",
       "      <td>39.077600</td>\n",
       "      <td>-88.100900</td>\n",
       "    </tr>\n",
       "    <tr>\n",
       "      <th>75%</th>\n",
       "      <td>7.092094e+09</td>\n",
       "      <td>1.792600e+04</td>\n",
       "      <td>2015.000000</td>\n",
       "      <td>1.377550e+05</td>\n",
       "      <td>NaN</td>\n",
       "      <td>42.449100</td>\n",
       "      <td>-81.219000</td>\n",
       "    </tr>\n",
       "    <tr>\n",
       "      <th>max</th>\n",
       "      <td>7.093537e+09</td>\n",
       "      <td>4.294967e+09</td>\n",
       "      <td>2021.000000</td>\n",
       "      <td>6.480922e+07</td>\n",
       "      <td>NaN</td>\n",
       "      <td>84.514800</td>\n",
       "      <td>161.016000</td>\n",
       "    </tr>\n",
       "  </tbody>\n",
       "</table>\n",
       "</div>"
      ],
      "text/plain": [
       "                 id         price  ...            lat           long\n",
       "count  5.397590e+05  5.397590e+05  ...  530785.000000  530785.000000\n",
       "mean   7.087609e+09  1.954214e+05  ...      38.432128     -94.040501\n",
       "std    5.234176e+06  2.208252e+07  ...       5.916936      17.626658\n",
       "min    7.065765e+09  0.000000e+00  ...     -84.911400    -176.810000\n",
       "25%    7.084240e+09  4.400000e+03  ...      34.197100    -106.782000\n",
       "50%    7.088973e+09  9.500000e+03  ...      39.077600     -88.100900\n",
       "75%    7.092094e+09  1.792600e+04  ...      42.449100     -81.219000\n",
       "max    7.093537e+09  4.294967e+09  ...      84.514800     161.016000\n",
       "\n",
       "[8 rows x 7 columns]"
      ]
     },
     "execution_count": 11,
     "metadata": {
      "tags": []
     },
     "output_type": "execute_result"
    }
   ],
   "source": [
    "%%time\n",
    "data.describe()"
   ]
  },
  {
   "cell_type": "markdown",
   "metadata": {},
   "source": [
    "#### Dropping 0 Prices Data :\n",
    "As we can see that there are cars with 0 price we are dropping them to make a better analysis of data."
   ]
  },
  {
   "cell_type": "code",
   "execution_count": 0,
   "metadata": {
    "colab": {
     "base_uri": "https://localhost:8080/",
     "height": 50
    },
    "colab_type": "code",
    "id": "0kUGnPOralzy",
    "outputId": "5bcd8cbc-d7c6-4620-da2b-24661025d9b4"
   },
   "outputs": [
    {
     "name": "stdout",
     "output_type": "stream",
     "text": [
      "CPU times: user 162 ms, sys: 48 ms, total: 210 ms\n",
      "Wall time: 210 ms\n"
     ]
    }
   ],
   "source": [
    "%%time\n",
    "data.drop(data[data['price']<=0].index, inplace = True) "
   ]
  },
  {
   "cell_type": "markdown",
   "metadata": {},
   "source": [
    "#### Checking Price variations w.r.t Manufacturers"
   ]
  },
  {
   "cell_type": "code",
   "execution_count": 0,
   "metadata": {
    "colab": {
     "base_uri": "https://localhost:8080/",
     "height": 50
    },
    "colab_type": "code",
    "id": "jTzMDKMybBa9",
    "outputId": "c79f4221-a3af-4428-c194-bf529f99c709"
   },
   "outputs": [
    {
     "name": "stdout",
     "output_type": "stream",
     "text": [
      "CPU times: user 54.7 ms, sys: 68 µs, total: 54.8 ms\n",
      "Wall time: 54.4 ms\n"
     ]
    }
   ],
   "source": [
    "%%time\n",
    "# using median as mean results in outlier\n",
    "median_prices_brand = data.groupby(['manufacturer'])['price'].median() "
   ]
  },
  {
   "cell_type": "markdown",
   "metadata": {},
   "source": [
    "#### Plotting Price v/s Manufacturers"
   ]
  },
  {
   "cell_type": "code",
   "execution_count": 0,
   "metadata": {
    "colab": {
     "base_uri": "https://localhost:8080/",
     "height": 704
    },
    "colab_type": "code",
    "id": "DtrxBghFbk8b",
    "outputId": "1656e098-a5d3-4462-dd02-79588c28b56b"
   },
   "outputs": [
    {
     "data": {
      "image/png": "[encoded data removed]",
      "text/plain": [
       "<Figure size 1800x720 with 1 Axes>"
      ]
     },
     "metadata": {
      "needs_background": "light",
      "tags": []
     },
     "output_type": "display_data"
    },
    {
     "name": "stdout",
     "output_type": "stream",
     "text": [
      "CPU times: user 416 ms, sys: 18.6 ms, total: 434 ms\n",
      "Wall time: 433 ms\n"
     ]
    }
   ],
   "source": [
    "%%time\n",
    "_,ax=plt.subplots(1,1,figsize=(25,10))\n",
    "ax.ticklabel_format(useOffset=False,style='plain')\n",
    "ax.plot(median_prices_brand)\n",
    "plt.xticks(rotation='vertical')\n",
    "plt.title(\"Average Price for Brands\")\n",
    "plt.xlabel('Brand of cars')\n",
    "plt.ylabel('Price of Cars')\n",
    "plt.show()"
   ]
  },
  {
   "cell_type": "markdown",
   "metadata": {},
   "source": [
    "#### Checking Price variations w.r.t Fuel Type"
   ]
  },
  {
   "cell_type": "code",
   "execution_count": 0,
   "metadata": {
    "colab": {
     "base_uri": "https://localhost:8080/",
     "height": 67
    },
    "colab_type": "code",
    "id": "LRnMQW6mgom4",
    "outputId": "1f125999-dd48-4bbf-87ea-19a6fa227c3f"
   },
   "outputs": [
    {
     "name": "stdout",
     "output_type": "stream",
     "text": [
      "CPU times: user 29.4 ms, sys: 0 ns, total: 29.4 ms\n",
      "Wall time: 29.8 ms\n"
     ]
    },
    {
     "data": {
      "text/plain": [
       "array(['gas', 'diesel', nan, 'other', 'hybrid', 'electric'], dtype=object)"
      ]
     },
     "execution_count": 16,
     "metadata": {
      "tags": []
     },
     "output_type": "execute_result"
    }
   ],
   "source": [
    "# Chekcing unique fuel types, \n",
    "%%time\n",
    "data.fuel.unique()"
   ]
  },
  {
   "cell_type": "code",
   "execution_count": 0,
   "metadata": {
    "colab": {
     "base_uri": "https://localhost:8080/",
     "height": 67
    },
    "colab_type": "code",
    "id": "HHiTsTJdhBJm",
    "outputId": "0f36fa93-b22b-4c44-a81e-b8d765f211e7"
   },
   "outputs": [
    {
     "name": "stdout",
     "output_type": "stream",
     "text": [
      "CPU times: user 25.7 ms, sys: 0 ns, total: 25.7 ms\n",
      "Wall time: 25.4 ms\n"
     ]
    },
    {
     "data": {
      "text/plain": [
       "3116"
      ]
     },
     "execution_count": 17,
     "metadata": {
      "tags": []
     },
     "output_type": "execute_result"
    }
   ],
   "source": [
    "# chcking no of rows having null values\n",
    "%%time\n",
    "data.fuel.isnull().sum()"
   ]
  },
  {
   "cell_type": "code",
   "execution_count": 0,
   "metadata": {
    "colab": {
     "base_uri": "https://localhost:8080/",
     "height": 50
    },
    "colab_type": "code",
    "id": "s7xNTGz3g5UD",
    "outputId": "8b3561ab-49c6-4715-e5f7-4b5b3d4991d7"
   },
   "outputs": [
    {
     "name": "stdout",
     "output_type": "stream",
     "text": [
      "CPU times: user 25.7 ms, sys: 1.15 ms, total: 26.9 ms\n",
      "Wall time: 26.3 ms\n"
     ]
    }
   ],
   "source": [
    "# dropping the null values\n",
    "%%time\n",
    "data.fuel.dropna(inplace=True)"
   ]
  },
  {
   "cell_type": "code",
   "execution_count": 0,
   "metadata": {
    "colab": {
     "base_uri": "https://localhost:8080/",
     "height": 67
    },
    "colab_type": "code",
    "id": "d4_uZH0mhJuC",
    "outputId": "c9f25c2d-92fa-4ce0-8119-04eb090fa8cc"
   },
   "outputs": [
    {
     "name": "stdout",
     "output_type": "stream",
     "text": [
      "CPU times: user 18 ms, sys: 0 ns, total: 18 ms\n",
      "Wall time: 17.6 ms\n"
     ]
    },
    {
     "data": {
      "text/plain": [
       "array(['gas', 'diesel', 'other', 'hybrid', 'electric'], dtype=object)"
      ]
     },
     "execution_count": 19,
     "metadata": {
      "tags": []
     },
     "output_type": "execute_result"
    }
   ],
   "source": [
    "# checking for remaining unique values\n",
    "%%time\n",
    "data.fuel.unique()"
   ]
  },
  {
   "cell_type": "code",
   "execution_count": 0,
   "metadata": {
    "colab": {
     "base_uri": "https://localhost:8080/",
     "height": 50
    },
    "colab_type": "code",
    "id": "lQhg2Kg0hLHF",
    "outputId": "e6660e6e-5c49-4619-adb6-9d9480b5e8fb"
   },
   "outputs": [
    {
     "name": "stdout",
     "output_type": "stream",
     "text": [
      "CPU times: user 92.2 ms, sys: 0 ns, total: 92.2 ms\n",
      "Wall time: 91.7 ms\n"
     ]
    }
   ],
   "source": [
    "# Grouping the data and using median to not be affected by Outliers\n",
    "%%time\n",
    "# using median as mean results in outlier\n",
    "median_prices_fuel = data.groupby(['fuel'])['price'].median() "
   ]
  },
  {
   "cell_type": "markdown",
   "metadata": {},
   "source": [
    "#### Plotting Price v/s Fuel Type"
   ]
  },
  {
   "cell_type": "code",
   "execution_count": 0,
   "metadata": {
    "colab": {
     "base_uri": "https://localhost:8080/",
     "height": 438
    },
    "colab_type": "code",
    "id": "K6xxQGUJhWVQ",
    "outputId": "8f5584a9-3a98-4afb-be5d-1ac81f80aa5a"
   },
   "outputs": [
    {
     "data": {
      "image/png": "[encoded data removed]",
      "text/plain": [
       "<Figure size 720x432 with 1 Axes>"
      ]
     },
     "metadata": {
      "needs_background": "light",
      "tags": []
     },
     "output_type": "display_data"
    },
    {
     "name": "stdout",
     "output_type": "stream",
     "text": [
      "CPU times: user 148 ms, sys: 3.05 ms, total: 151 ms\n",
      "Wall time: 150 ms\n"
     ]
    }
   ],
   "source": [
    "%%time\n",
    "median_prices_fuel.plot.bar(figsize=(10,6),color='green')\n",
    "plt.xticks(rotation='horizontal')\n",
    "plt.title(\"Average Price for Fuel\")\n",
    "plt.xlabel('Fuel Type')\n",
    "plt.ylabel('Price of Cars')\n",
    "plt.show()"
   ]
  },
  {
   "cell_type": "markdown",
   "metadata": {},
   "source": [
    "#### Checking Price variations w.r.t Transmission Type"
   ]
  },
  {
   "cell_type": "code",
   "execution_count": 0,
   "metadata": {
    "colab": {
     "base_uri": "https://localhost:8080/",
     "height": 67
    },
    "colab_type": "code",
    "id": "wCH6B3glwlwX",
    "outputId": "b42d3606-b2a1-4ffe-d98a-17f61b5ca6ee"
   },
   "outputs": [
    {
     "name": "stdout",
     "output_type": "stream",
     "text": [
      "CPU times: user 29.8 ms, sys: 0 ns, total: 29.8 ms\n",
      "Wall time: 29.7 ms\n"
     ]
    },
    {
     "data": {
      "text/plain": [
       "array(['automatic', nan, 'manual', 'other'], dtype=object)"
      ]
     },
     "execution_count": 22,
     "metadata": {
      "tags": []
     },
     "output_type": "execute_result"
    }
   ],
   "source": [
    "# checking unique values of transmission\n",
    "%%time\n",
    "data.transmission.unique()"
   ]
  },
  {
   "cell_type": "code",
   "execution_count": 0,
   "metadata": {
    "colab": {
     "base_uri": "https://localhost:8080/",
     "height": 67
    },
    "colab_type": "code",
    "id": "SnYoR5GUwwU5",
    "outputId": "d302518e-6da8-4142-8f33-21877ae78f4b"
   },
   "outputs": [
    {
     "name": "stdout",
     "output_type": "stream",
     "text": [
      "CPU times: user 22.4 ms, sys: 845 µs, total: 23.2 ms\n",
      "Wall time: 23 ms\n"
     ]
    },
    {
     "data": {
      "text/plain": [
       "3376"
      ]
     },
     "execution_count": 23,
     "metadata": {
      "tags": []
     },
     "output_type": "execute_result"
    }
   ],
   "source": [
    "# checking number of rows having null values \n",
    "%%time\n",
    "data.transmission.isnull().sum()"
   ]
  },
  {
   "cell_type": "code",
   "execution_count": 0,
   "metadata": {
    "colab": {
     "base_uri": "https://localhost:8080/",
     "height": 50
    },
    "colab_type": "code",
    "id": "6Hm7xhNww2Cl",
    "outputId": "5dea50f0-12de-4269-9ef8-bf471c1b7933"
   },
   "outputs": [
    {
     "name": "stdout",
     "output_type": "stream",
     "text": [
      "CPU times: user 28.3 ms, sys: 0 ns, total: 28.3 ms\n",
      "Wall time: 27.8 ms\n"
     ]
    }
   ],
   "source": [
    "# dropping rows with null vlues\n",
    "%%time\n",
    "data.transmission.dropna(inplace=True)"
   ]
  },
  {
   "cell_type": "code",
   "execution_count": 0,
   "metadata": {
    "colab": {
     "base_uri": "https://localhost:8080/",
     "height": 67
    },
    "colab_type": "code",
    "id": "2hRwqR35w4lh",
    "outputId": "afc7c50d-af2d-4e83-8c0a-9e04e1d6e8dc"
   },
   "outputs": [
    {
     "name": "stdout",
     "output_type": "stream",
     "text": [
      "CPU times: user 21.8 ms, sys: 0 ns, total: 21.8 ms\n",
      "Wall time: 21.5 ms\n"
     ]
    },
    {
     "data": {
      "text/plain": [
       "array(['automatic', 'manual', 'other'], dtype=object)"
      ]
     },
     "execution_count": 25,
     "metadata": {
      "tags": []
     },
     "output_type": "execute_result"
    }
   ],
   "source": [
    "%%time\n",
    "data.transmission.unique()"
   ]
  },
  {
   "cell_type": "code",
   "execution_count": 0,
   "metadata": {
    "colab": {
     "base_uri": "https://localhost:8080/",
     "height": 50
    },
    "colab_type": "code",
    "id": "osMc_ozow6-f",
    "outputId": "aaeeef72-7cae-452e-f153-4c993b25895f"
   },
   "outputs": [
    {
     "name": "stdout",
     "output_type": "stream",
     "text": [
      "CPU times: user 87.2 ms, sys: 41 µs, total: 87.2 ms\n",
      "Wall time: 86.8 ms\n"
     ]
    }
   ],
   "source": [
    "# Grouping data by Tranmission and calculating median price of each type of transmission\n",
    "%%time\n",
    "# using median as mean results in outlier\n",
    "median_prices_transmission = data.groupby(['transmission'])['price'].median() "
   ]
  },
  {
   "cell_type": "markdown",
   "metadata": {},
   "source": [
    "#### Plotting Price v/s Transmission Type"
   ]
  },
  {
   "cell_type": "code",
   "execution_count": 0,
   "metadata": {
    "colab": {
     "base_uri": "https://localhost:8080/",
     "height": 438
    },
    "colab_type": "code",
    "id": "EzKKWAD2w91H",
    "outputId": "31b02413-d029-464b-9fe6-a116a537189b"
   },
   "outputs": [
    {
     "data": {
      "image/png": "[encoded data removed]",
      "text/plain": [
       "<Figure size 360x432 with 1 Axes>"
      ]
     },
     "metadata": {
      "needs_background": "light",
      "tags": []
     },
     "output_type": "display_data"
    },
    {
     "name": "stdout",
     "output_type": "stream",
     "text": [
      "CPU times: user 204 ms, sys: 10.4 ms, total: 214 ms\n",
      "Wall time: 210 ms\n"
     ]
    }
   ],
   "source": [
    "%%time\n",
    "median_prices_transmission.plot.bar(figsize=(5,6),color='red')\n",
    "plt.xticks(rotation='horizontal')\n",
    "plt.title(\"Average Price for Transmission\")\n",
    "plt.xlabel('Transmission Type')\n",
    "plt.ylabel('Price of Cars')\n",
    "plt.show()"
   ]
  },
  {
   "cell_type": "markdown",
   "metadata": {},
   "source": [
    "### Data Cleaning Operations on Price : Removing Outliers"
   ]
  },
  {
   "cell_type": "code",
   "execution_count": 0,
   "metadata": {
    "colab": {
     "base_uri": "https://localhost:8080/",
     "height": 202
    },
    "colab_type": "code",
    "id": "JlKtItkW7cdN",
    "outputId": "9332ab0e-ef8b-4181-cce2-bac237d0e1c9"
   },
   "outputs": [
    {
     "name": "stdout",
     "output_type": "stream",
     "text": [
      "CPU times: user 17.8 ms, sys: 180 µs, total: 18 ms\n",
      "Wall time: 20.3 ms\n"
     ]
    },
    {
     "data": {
      "text/plain": [
       "count    4.950700e+05\n",
       "mean     2.130617e+05\n",
       "std      2.305759e+07\n",
       "min      1.000000e+00\n",
       "25%      5.499000e+03\n",
       "50%      1.080000e+04\n",
       "75%      1.890000e+04\n",
       "max      4.294967e+09\n",
       "Name: price, dtype: float64"
      ]
     },
     "execution_count": 31,
     "metadata": {
      "tags": []
     },
     "output_type": "execute_result"
    }
   ],
   "source": [
    "%%time\n",
    "data.price.describe()"
   ]
  },
  {
   "cell_type": "code",
   "execution_count": 0,
   "metadata": {
    "colab": {
     "base_uri": "https://localhost:8080/",
     "height": 84
    },
    "colab_type": "code",
    "id": "kUObafKB8Lk2",
    "outputId": "02e3db3c-d2ea-49bc-b6cd-0eb2f97df654"
   },
   "outputs": [
    {
     "name": "stdout",
     "output_type": "stream",
     "text": [
      "1\n",
      "4294967295\n",
      "CPU times: user 2.3 ms, sys: 77 µs, total: 2.38 ms\n",
      "Wall time: 1.73 ms\n"
     ]
    }
   ],
   "source": [
    "## checking the max and min of the price after removal of 0 previously\n",
    "%%time\n",
    "print(data.price.min())\n",
    "print(data.price.max())"
   ]
  },
  {
   "cell_type": "code",
   "execution_count": 0,
   "metadata": {
    "colab": {
     "base_uri": "https://localhost:8080/",
     "height": 420
    },
    "colab_type": "code",
    "id": "x0yTN7OGCkZA",
    "outputId": "6b303bbd-98e0-4e16-af10-5294e5b15d87"
   },
   "outputs": [
    {
     "name": "stdout",
     "output_type": "stream",
     "text": [
      "Top 20 most used price points:\n",
      "6995     5193\n",
      "7995     4966\n",
      "5995     4951\n",
      "3500     4879\n",
      "4995     4847\n",
      "4500     4695\n",
      "8995     4659\n",
      "9995     4421\n",
      "5500     4232\n",
      "2500     4145\n",
      "6500     4001\n",
      "3995     3883\n",
      "7500     3332\n",
      "3000     3177\n",
      "10995    3161\n",
      "12995    3095\n",
      "5000     3089\n",
      "1        2942\n",
      "11995    2938\n",
      "13995    2914\n",
      "Name: price, dtype: int64\n",
      "CPU times: user 10.1 ms, sys: 793 µs, total: 10.9 ms\n",
      "Wall time: 10.5 ms\n"
     ]
    }
   ],
   "source": [
    "## the top 20 most prices used through out\n",
    "%%time\n",
    "print (\"Top 20 most used price points:\")\n",
    "print (data.price.value_counts().iloc[:20])"
   ]
  },
  {
   "cell_type": "markdown",
   "metadata": {},
   "source": [
    "Now According to many data available on google, we can say that the price of a used car can be max 150000 Dollars depending on cars like Ferarri, Lamborghini, but i would still keep it till 200000 Dollars. And lowest being 100 Dollars."
   ]
  },
  {
   "cell_type": "code",
   "execution_count": 0,
   "metadata": {
    "colab": {
     "base_uri": "https://localhost:8080/",
     "height": 50
    },
    "colab_type": "code",
    "id": "7WYmfsNaFSxX",
    "outputId": "a1cd4b90-af44-4cc2-f983-74181476a074"
   },
   "outputs": [
    {
     "name": "stdout",
     "output_type": "stream",
     "text": [
      "CPU times: user 190 ms, sys: 13.6 ms, total: 204 ms\n",
      "Wall time: 204 ms\n"
     ]
    }
   ],
   "source": [
    "%%time\n",
    "data.drop(data[(data.price > 200000) | (data.price < 100)].index,inplace=True)"
   ]
  },
  {
   "cell_type": "code",
   "execution_count": 0,
   "metadata": {
    "colab": {
     "base_uri": "https://localhost:8080/",
     "height": 67
    },
    "colab_type": "code",
    "id": "Yr_HhE9aP1a-",
    "outputId": "ba8b66e7-fb85-42a6-9c28-15729725c2b9"
   },
   "outputs": [
    {
     "name": "stdout",
     "output_type": "stream",
     "text": [
      "CPU times: user 20 µs, sys: 0 ns, total: 20 µs\n",
      "Wall time: 23.1 µs\n"
     ]
    },
    {
     "data": {
      "text/plain": [
       "(490823, 25)"
      ]
     },
     "execution_count": 35,
     "metadata": {
      "tags": []
     },
     "output_type": "execute_result"
    }
   ],
   "source": [
    "%%time\n",
    "data.shape"
   ]
  },
  {
   "cell_type": "code",
   "execution_count": 0,
   "metadata": {
    "colab": {
     "base_uri": "https://localhost:8080/",
     "height": 202
    },
    "colab_type": "code",
    "id": "Y2HT0EFbP5It",
    "outputId": "6ee2896c-695b-46dd-eaff-2271869be947"
   },
   "outputs": [
    {
     "name": "stdout",
     "output_type": "stream",
     "text": [
      "CPU times: user 20.5 ms, sys: 98 µs, total: 20.6 ms\n",
      "Wall time: 20.4 ms\n"
     ]
    },
    {
     "data": {
      "text/plain": [
       "count    490823.000000\n",
       "mean      13805.551912\n",
       "std       11533.393691\n",
       "min         100.000000\n",
       "25%        5500.000000\n",
       "50%       10900.000000\n",
       "75%       18950.000000\n",
       "max      200000.000000\n",
       "Name: price, dtype: float64"
      ]
     },
     "execution_count": 36,
     "metadata": {
      "tags": []
     },
     "output_type": "execute_result"
    }
   ],
   "source": [
    "%%time\n",
    "data.price.describe()"
   ]
  },
  {
   "cell_type": "markdown",
   "metadata": {},
   "source": [
    "#### Plotting the price ranges with Box Plot"
   ]
  },
  {
   "cell_type": "code",
   "execution_count": 0,
   "metadata": {
    "colab": {
     "base_uri": "https://localhost:8080/",
     "height": 502
    },
    "colab_type": "code",
    "id": "9DA1d9FIUrj2",
    "outputId": "9836690b-dc15-4198-f170-e3b60f551ed9"
   },
   "outputs": [
    {
     "name": "stdout",
     "output_type": "stream",
     "text": [
      "CPU times: user 45 ms, sys: 2.21 ms, total: 47.3 ms\n",
      "Wall time: 45.2 ms\n"
     ]
    },
    {
     "data": {
      "image/png": "[encoded data removed]",
      "text/plain": [
       "<Figure size 288x576 with 1 Axes>"
      ]
     },
     "metadata": {
      "needs_background": "light",
      "tags": []
     },
     "output_type": "display_data"
    }
   ],
   "source": [
    "%%time\n",
    "plt.figure(figsize=(4,8))\n",
    "sns.boxplot(y='price', data=data,showfliers=False);"
   ]
  },
  {
   "cell_type": "markdown",
   "metadata": {},
   "source": [
    "#### Checking Price variations w.r.t State"
   ]
  },
  {
   "cell_type": "code",
   "execution_count": 0,
   "metadata": {
    "colab": {
     "base_uri": "https://localhost:8080/",
     "height": 134
    },
    "colab_type": "code",
    "id": "SrzkQFNVU3U6",
    "outputId": "8a3266cd-4f99-48f6-d77b-bfb77f3d630b"
   },
   "outputs": [
    {
     "name": "stdout",
     "output_type": "stream",
     "text": [
      "CPU times: user 19.2 ms, sys: 59 µs, total: 19.3 ms\n",
      "Wall time: 19.1 ms\n"
     ]
    },
    {
     "data": {
      "text/plain": [
       "array(['nc', 'ne', 'co', 'ny', 'nj', 'va', 'tn', 'il', 'ia', 'mn', 'fl',\n",
       "       'ma', 'tx', 'ca', 'or', 'ar', 'wa', 'ct', 'mi', 'sc', 'ks', 'nd',\n",
       "       'wi', 'mt', 'pa', 'oh', 'wv', 'ms', 'nm', 'sd', 'ky', 'mo', 'la',\n",
       "       'dc', 'al', 'nv', 'ri', 'ut', 'wy', 'vt', 'me', 'az', 'de', 'ak',\n",
       "       'ok', 'ga', 'in', 'id', 'md', 'nh', 'hi'], dtype=object)"
      ]
     },
     "execution_count": 38,
     "metadata": {
      "tags": []
     },
     "output_type": "execute_result"
    }
   ],
   "source": [
    "# checking unique state values\n",
    "%%time\n",
    "data.state.unique()"
   ]
  },
  {
   "cell_type": "code",
   "execution_count": 0,
   "metadata": {
    "colab": {
     "base_uri": "https://localhost:8080/",
     "height": 50
    },
    "colab_type": "code",
    "id": "fYx8k0s3VMRC",
    "outputId": "8b930ffd-106b-43a7-f086-9d3dac736911"
   },
   "outputs": [
    {
     "name": "stdout",
     "output_type": "stream",
     "text": [
      "CPU times: user 37.9 ms, sys: 669 µs, total: 38.6 ms\n",
      "Wall time: 38.6 ms\n"
     ]
    }
   ],
   "source": [
    "## grouping values using state and calculaing the median of each state\n",
    "%%time\n",
    "# using median as mean results in outlier\n",
    "median_prices_state = data.groupby(['state'])['price'].median() "
   ]
  },
  {
   "cell_type": "markdown",
   "metadata": {},
   "source": [
    "#### Plotting Price v/s State"
   ]
  },
  {
   "cell_type": "code",
   "execution_count": 0,
   "metadata": {
    "colab": {
     "base_uri": "https://localhost:8080/",
     "height": 438
    },
    "colab_type": "code",
    "id": "BeYBf2WMVWZb",
    "outputId": "3694afba-ef97-43b7-e8c1-c4ff19f6e63a"
   },
   "outputs": [
    {
     "data": {
      "image/png": "[encoded data removed]",
      "text/plain": [
       "<Figure size 1440x432 with 1 Axes>"
      ]
     },
     "metadata": {
      "needs_background": "light",
      "tags": []
     },
     "output_type": "display_data"
    },
    {
     "name": "stdout",
     "output_type": "stream",
     "text": [
      "CPU times: user 543 ms, sys: 19.1 ms, total: 562 ms\n",
      "Wall time: 559 ms\n"
     ]
    }
   ],
   "source": [
    "%%time\n",
    "median_prices_state.plot.bar(figsize=(20,6),color='black')\n",
    "plt.xticks(rotation='horizontal')\n",
    "plt.title(\"Average Price for Fuel\")\n",
    "plt.xlabel('State')\n",
    "plt.ylabel('Price of Cars')\n",
    "plt.show()"
   ]
  },
  {
   "cell_type": "markdown",
   "metadata": {},
   "source": [
    "#### Getting the top 20 states where most cars have been sold"
   ]
  },
  {
   "cell_type": "code",
   "execution_count": 0,
   "metadata": {
    "colab": {
     "base_uri": "https://localhost:8080/",
     "height": 420
    },
    "colab_type": "code",
    "id": "6hmwqkWhYaLu",
    "outputId": "9b77af8d-b8d5-4653-a70e-76a40f8e6f3e"
   },
   "outputs": [
    {
     "name": "stdout",
     "output_type": "stream",
     "text": [
      "Top 20 state where cars are sold most:\n",
      "ca    49491\n",
      "fl    35682\n",
      "tx    27414\n",
      "mi    22312\n",
      "ny    21243\n",
      "oh    18656\n",
      "pa    17515\n",
      "or    16572\n",
      "nc    16439\n",
      "tn    14677\n",
      "wa    14647\n",
      "wi    14623\n",
      "co    11943\n",
      "va    11688\n",
      "il    11143\n",
      "ia    10558\n",
      "mt    10030\n",
      "mn    10018\n",
      "ma     9905\n",
      "nj     9542\n",
      "Name: state, dtype: int64\n",
      "CPU times: user 56.7 ms, sys: 825 µs, total: 57.6 ms\n",
      "Wall time: 59.7 ms\n"
     ]
    }
   ],
   "source": [
    "%%time\n",
    "print ('Top 20 state where cars are sold most:')\n",
    "print (data['state'].value_counts().iloc[:20])"
   ]
  },
  {
   "cell_type": "markdown",
   "metadata": {},
   "source": [
    "#### Plotting States v/s Count of Sales"
   ]
  },
  {
   "cell_type": "code",
   "execution_count": 0,
   "metadata": {
    "colab": {
     "base_uri": "https://localhost:8080/",
     "height": 546
    },
    "colab_type": "code",
    "id": "xPtBhZF3Yo_q",
    "outputId": "c6bd6469-86b1-4ff2-990b-407de02c1069"
   },
   "outputs": [
    {
     "name": "stdout",
     "output_type": "stream",
     "text": [
      "CPU times: user 255 ms, sys: 1.67 ms, total: 256 ms\n",
      "Wall time: 256 ms\n"
     ]
    },
    {
     "data": {
      "image/png": "[encoded data removed]",
      "text/plain": [
       "<Figure size 1080x576 with 1 Axes>"
      ]
     },
     "metadata": {
      "needs_background": "light",
      "tags": []
     },
     "output_type": "display_data"
    }
   ],
   "source": [
    "%%time\n",
    "plt.figure(figsize=(15,8))\n",
    "ax = sns.countplot(x='state',data=data,order=data['state'].value_counts().index);\n",
    "plt.title('State vs No.Of Sales')"
   ]
  },
  {
   "cell_type": "markdown",
   "metadata": {},
   "source": [
    "#### Year : Data Visualization"
   ]
  },
  {
   "cell_type": "code",
   "execution_count": 0,
   "metadata": {
    "colab": {
     "base_uri": "https://localhost:8080/",
     "height": 269
    },
    "colab_type": "code",
    "id": "jHDXshEGaLR3",
    "outputId": "e58d9fe2-e734-4b0b-ab86-7ff880412af8"
   },
   "outputs": [
    {
     "name": "stdout",
     "output_type": "stream",
     "text": [
      "CPU times: user 4.7 ms, sys: 0 ns, total: 4.7 ms\n",
      "Wall time: 4.38 ms\n"
     ]
    },
    {
     "data": {
      "text/plain": [
       "array([2012., 2011., 2004., 2016., 2015., 2014., 2007., 2005., 2008.,\n",
       "       2010., 2009., 2006., 2013., 1995., 2003., 2002., 2017., 1989.,\n",
       "       2018., 1997., 2001., 1942., 1999., 1971., 1986., 1998., 1991.,\n",
       "       2000., 1968., 1994., 2019., 1981., 1949., 1951., 1992., 1970.,\n",
       "       1973., 1984., 1966., 1979., 1987., 1967., 1975., 1977., 1996.,\n",
       "       1950., 1980., 1988., 1974., 1990., 1993., 1929., 1985., 2020.,\n",
       "       1972., 1983., 1964., 1978.,   nan, 1969., 1934., 1937., 1959.,\n",
       "       1982., 1963., 1938., 1953., 1918., 2021., 1958., 1960., 1976.,\n",
       "       1965., 1948., 1933., 1955., 1947., 1954., 1926., 1941., 1962.,\n",
       "       1956., 1940., 1939., 1930., 1932., 1961., 1957., 1952., 1931.,\n",
       "       1923., 1946., 1935., 1936., 1927., 1928., 1900., 1925., 1943.,\n",
       "       1912., 1922., 1909., 1916.,    0., 1913., 1919., 1917., 1908.,\n",
       "       1924., 1915., 1914., 1945.])"
      ]
     },
     "execution_count": 43,
     "metadata": {
      "tags": []
     },
     "output_type": "execute_result"
    }
   ],
   "source": [
    "## checking unique values of year\n",
    "%%time\n",
    "data.year.unique()"
   ]
  },
  {
   "cell_type": "code",
   "execution_count": 0,
   "metadata": {
    "colab": {
     "base_uri": "https://localhost:8080/",
     "height": 67
    },
    "colab_type": "code",
    "id": "cn3cpQrvaPNJ",
    "outputId": "187b2e45-725d-4f36-d3a1-b352a811bb21"
   },
   "outputs": [
    {
     "name": "stdout",
     "output_type": "stream",
     "text": [
      "CPU times: user 2.42 ms, sys: 0 ns, total: 2.42 ms\n",
      "Wall time: 2.03 ms\n"
     ]
    },
    {
     "data": {
      "text/plain": [
       "929"
      ]
     },
     "execution_count": 44,
     "metadata": {
      "tags": []
     },
     "output_type": "execute_result"
    }
   ],
   "source": [
    "## checking no. of rows with null year\n",
    "%%time\n",
    "data.year.isnull().sum()"
   ]
  },
  {
   "cell_type": "code",
   "execution_count": 0,
   "metadata": {
    "colab": {
     "base_uri": "https://localhost:8080/",
     "height": 50
    },
    "colab_type": "code",
    "id": "l7UayqlwaVTP",
    "outputId": "5383a76c-8638-4c12-c2ab-391b35d469ec"
   },
   "outputs": [
    {
     "name": "stdout",
     "output_type": "stream",
     "text": [
      "CPU times: user 166 ms, sys: 774 µs, total: 167 ms\n",
      "Wall time: 167 ms\n"
     ]
    }
   ],
   "source": [
    "# dropping year that is either 0 or null\n",
    "%%time\n",
    "data.drop(data[(data.year <= 0) | (data.price.isnull())].index,inplace=True)"
   ]
  },
  {
   "cell_type": "code",
   "execution_count": 0,
   "metadata": {
    "colab": {
     "base_uri": "https://localhost:8080/",
     "height": 67
    },
    "colab_type": "code",
    "id": "cf8vuT8sayTA",
    "outputId": "bfd5c120-2969-4724-d8b7-2fc79cf31d6f"
   },
   "outputs": [
    {
     "name": "stdout",
     "output_type": "stream",
     "text": [
      "CPU times: user 19 µs, sys: 5 µs, total: 24 µs\n",
      "Wall time: 29.8 µs\n"
     ]
    },
    {
     "data": {
      "text/plain": [
       "(490822, 25)"
      ]
     },
     "execution_count": 46,
     "metadata": {
      "tags": []
     },
     "output_type": "execute_result"
    }
   ],
   "source": [
    "%%time\n",
    "data.shape"
   ]
  },
  {
   "cell_type": "markdown",
   "metadata": {},
   "source": [
    "#### Getting top 10 years of sale"
   ]
  },
  {
   "cell_type": "code",
   "execution_count": 0,
   "metadata": {
    "colab": {
     "base_uri": "https://localhost:8080/",
     "height": 252
    },
    "colab_type": "code",
    "id": "rNd3hPzIaASE",
    "outputId": "72ac9f7a-2ff4-4d35-9fe9-398a3b24b46f"
   },
   "outputs": [
    {
     "name": "stdout",
     "output_type": "stream",
     "text": [
      "Top 10 Year where selling was most:\n",
      "2017.0    35456\n",
      "2016.0    34461\n",
      "2015.0    34291\n",
      "2013.0    34078\n",
      "2014.0    32947\n",
      "2012.0    32002\n",
      "2011.0    29482\n",
      "2008.0    27921\n",
      "2007.0    25592\n",
      "2010.0    23527\n",
      "Name: year, dtype: int64\n",
      "CPU times: user 10.5 ms, sys: 108 µs, total: 10.6 ms\n",
      "Wall time: 9.13 ms\n"
     ]
    }
   ],
   "source": [
    "%%time\n",
    "print ('Top 10 Year where selling was most:')\n",
    "print (data['year'].value_counts().iloc[:10])"
   ]
  },
  {
   "cell_type": "markdown",
   "metadata": {},
   "source": [
    "#### Plotting Year v/s Per Year Sale"
   ]
  },
  {
   "cell_type": "code",
   "execution_count": 0,
   "metadata": {
    "colab": {
     "base_uri": "https://localhost:8080/",
     "height": 474
    },
    "colab_type": "code",
    "id": "tLBM16PTdGsa",
    "outputId": "c5b9201b-bc15-4c68-f35f-79a9f4b759f2"
   },
   "outputs": [
    {
     "name": "stdout",
     "output_type": "stream",
     "text": [
      "CPU times: user 323 ms, sys: 5.51 ms, total: 329 ms\n",
      "Wall time: 328 ms\n"
     ]
    },
    {
     "data": {
      "image/png": "[encoded data removed]",
      "text/plain": [
       "<Figure size 2160x576 with 1 Axes>"
      ]
     },
     "metadata": {
      "needs_background": "light",
      "tags": []
     },
     "output_type": "display_data"
    }
   ],
   "source": [
    "%%time\n",
    "plt.figure(figsize=(30,8))\n",
    "ax = sns.countplot(x='year',data=data,order=data['year'].value_counts().index);\n",
    "plt.xticks(rotation='vertical')\n",
    "plt.title('Year vs No.Of Sales')"
   ]
  },
  {
   "cell_type": "markdown",
   "metadata": {},
   "source": [
    "We can see that the sales decreses as we move towards the past, it decreases after 1960 hence we will only keep data above 1960"
   ]
  },
  {
   "cell_type": "code",
   "execution_count": 0,
   "metadata": {
    "colab": {
     "base_uri": "https://localhost:8080/",
     "height": 50
    },
    "colab_type": "code",
    "id": "UkXYKemNdk3H",
    "outputId": "66cfeadb-2440-4709-c453-6551387ff72d"
   },
   "outputs": [
    {
     "name": "stdout",
     "output_type": "stream",
     "text": [
      "CPU times: user 172 ms, sys: 732 µs, total: 173 ms\n",
      "Wall time: 172 ms\n"
     ]
    }
   ],
   "source": [
    "## dropping data below 1960\n",
    "%%time\n",
    "data.drop(data[(data.year < 1960)].index,inplace=True)"
   ]
  },
  {
   "cell_type": "code",
   "execution_count": 0,
   "metadata": {
    "colab": {
     "base_uri": "https://localhost:8080/",
     "height": 67
    },
    "colab_type": "code",
    "id": "SCCdglRtdud9",
    "outputId": "19cdb10c-8bcc-4e08-829b-a73a4f869369"
   },
   "outputs": [
    {
     "name": "stdout",
     "output_type": "stream",
     "text": [
      "CPU times: user 17 µs, sys: 4 µs, total: 21 µs\n",
      "Wall time: 24.6 µs\n"
     ]
    },
    {
     "data": {
      "text/plain": [
       "(488564, 25)"
      ]
     },
     "execution_count": 50,
     "metadata": {
      "tags": []
     },
     "output_type": "execute_result"
    }
   ],
   "source": [
    "%%time\n",
    "data.shape"
   ]
  },
  {
   "cell_type": "markdown",
   "metadata": {
    "colab_type": "text",
    "id": "WSE_yQlbxIdr"
   },
   "source": [
    "# Data Cleaning : "
   ]
  },
  {
   "cell_type": "code",
   "execution_count": 0,
   "metadata": {
    "colab": {
     "base_uri": "https://localhost:8080/",
     "height": 134
    },
    "colab_type": "code",
    "id": "pS-awFGRxHUS",
    "outputId": "73869e2e-f5e3-4a92-9f32-37a9ed069033"
   },
   "outputs": [
    {
     "name": "stdout",
     "output_type": "stream",
     "text": [
      "CPU times: user 9 µs, sys: 2 µs, total: 11 µs\n",
      "Wall time: 15.7 µs\n"
     ]
    },
    {
     "data": {
      "text/plain": [
       "Index(['id', 'url', 'region', 'region_url', 'price', 'year', 'manufacturer',\n",
       "       'model', 'condition', 'cylinders', 'fuel', 'odometer', 'title_status',\n",
       "       'transmission', 'vin', 'drive', 'size', 'type', 'paint_color',\n",
       "       'image_url', 'description', 'county', 'state', 'lat', 'long'],\n",
       "      dtype='object')"
      ]
     },
     "execution_count": 51,
     "metadata": {
      "tags": []
     },
     "output_type": "execute_result"
    }
   ],
   "source": [
    "%%time\n",
    "data.columns"
   ]
  },
  {
   "cell_type": "code",
   "execution_count": 0,
   "metadata": {
    "colab": {
     "base_uri": "https://localhost:8080/",
     "height": 278
    },
    "colab_type": "code",
    "id": "gCsy8_LexYlW",
    "outputId": "1f63589b-886f-450f-8920-2ee07e7263f3"
   },
   "outputs": [
    {
     "name": "stdout",
     "output_type": "stream",
     "text": [
      "CPU times: user 755 µs, sys: 0 ns, total: 755 µs\n",
      "Wall time: 739 µs\n"
     ]
    },
    {
     "data": {
      "text/html": [
       "<div>\n",
       "<style scoped>\n",
       "    .dataframe tbody tr th:only-of-type {\n",
       "        vertical-align: middle;\n",
       "    }\n",
       "\n",
       "    .dataframe tbody tr th {\n",
       "        vertical-align: top;\n",
       "    }\n",
       "\n",
       "    .dataframe thead th {\n",
       "        text-align: right;\n",
       "    }\n",
       "</style>\n",
       "<table border=\"1\" class=\"dataframe\">\n",
       "  <thead>\n",
       "    <tr style=\"text-align: right;\">\n",
       "      <th></th>\n",
       "      <th>id</th>\n",
       "      <th>url</th>\n",
       "      <th>region</th>\n",
       "      <th>region_url</th>\n",
       "      <th>price</th>\n",
       "      <th>year</th>\n",
       "      <th>manufacturer</th>\n",
       "      <th>model</th>\n",
       "      <th>condition</th>\n",
       "      <th>cylinders</th>\n",
       "      <th>fuel</th>\n",
       "      <th>odometer</th>\n",
       "      <th>title_status</th>\n",
       "      <th>transmission</th>\n",
       "      <th>vin</th>\n",
       "      <th>drive</th>\n",
       "      <th>size</th>\n",
       "      <th>type</th>\n",
       "      <th>paint_color</th>\n",
       "      <th>image_url</th>\n",
       "      <th>description</th>\n",
       "      <th>county</th>\n",
       "      <th>state</th>\n",
       "      <th>lat</th>\n",
       "      <th>long</th>\n",
       "    </tr>\n",
       "  </thead>\n",
       "  <tbody>\n",
       "    <tr>\n",
       "      <th>0</th>\n",
       "      <td>7088746062</td>\n",
       "      <td>https://greensboro.craigslist.org/ctd/d/cary-2...</td>\n",
       "      <td>greensboro</td>\n",
       "      <td>https://greensboro.craigslist.org</td>\n",
       "      <td>10299</td>\n",
       "      <td>2012.0</td>\n",
       "      <td>acura</td>\n",
       "      <td>tl</td>\n",
       "      <td>NaN</td>\n",
       "      <td>NaN</td>\n",
       "      <td>gas</td>\n",
       "      <td>90186.0</td>\n",
       "      <td>clean</td>\n",
       "      <td>automatic</td>\n",
       "      <td>19UUA8F22CA003926</td>\n",
       "      <td>NaN</td>\n",
       "      <td>NaN</td>\n",
       "      <td>other</td>\n",
       "      <td>blue</td>\n",
       "      <td>https://images.craigslist.org/01414_3LIXs9EO33...</td>\n",
       "      <td>2012 Acura TL Base 4dr Sedan     Offered by: B...</td>\n",
       "      <td>NaN</td>\n",
       "      <td>nc</td>\n",
       "      <td>35.7636</td>\n",
       "      <td>-78.7443</td>\n",
       "    </tr>\n",
       "    <tr>\n",
       "      <th>2</th>\n",
       "      <td>7088744126</td>\n",
       "      <td>https://greensboro.craigslist.org/cto/d/greens...</td>\n",
       "      <td>greensboro</td>\n",
       "      <td>https://greensboro.craigslist.org</td>\n",
       "      <td>9500</td>\n",
       "      <td>2011.0</td>\n",
       "      <td>jaguar</td>\n",
       "      <td>xf</td>\n",
       "      <td>excellent</td>\n",
       "      <td>NaN</td>\n",
       "      <td>gas</td>\n",
       "      <td>85000.0</td>\n",
       "      <td>clean</td>\n",
       "      <td>automatic</td>\n",
       "      <td>NaN</td>\n",
       "      <td>NaN</td>\n",
       "      <td>NaN</td>\n",
       "      <td>NaN</td>\n",
       "      <td>blue</td>\n",
       "      <td>https://images.craigslist.org/00505_f22HGItCRp...</td>\n",
       "      <td>2011 jaguar XF premium - estate sale. Retired ...</td>\n",
       "      <td>NaN</td>\n",
       "      <td>nc</td>\n",
       "      <td>36.1032</td>\n",
       "      <td>-79.8794</td>\n",
       "    </tr>\n",
       "  </tbody>\n",
       "</table>\n",
       "</div>"
      ],
      "text/plain": [
       "           id  ...     long\n",
       "0  7088746062  ... -78.7443\n",
       "2  7088744126  ... -79.8794\n",
       "\n",
       "[2 rows x 25 columns]"
      ]
     },
     "execution_count": 52,
     "metadata": {
      "tags": []
     },
     "output_type": "execute_result"
    }
   ],
   "source": [
    "%%time\n",
    "data.head(2)"
   ]
  },
  {
   "cell_type": "markdown",
   "metadata": {},
   "source": [
    "### Dropping Columns"
   ]
  },
  {
   "cell_type": "code",
   "execution_count": 0,
   "metadata": {
    "colab": {
     "base_uri": "https://localhost:8080/",
     "height": 50
    },
    "colab_type": "code",
    "id": "fXf2yIjIxWkA",
    "outputId": "08c3ece8-5531-4ff0-fac7-01f7a1ca2e98"
   },
   "outputs": [
    {
     "name": "stdout",
     "output_type": "stream",
     "text": [
      "CPU times: user 42 ms, sys: 0 ns, total: 42 ms\n",
      "Wall time: 41.6 ms\n"
     ]
    }
   ],
   "source": [
    "%%time\n",
    "drop_columns = ['id','url','region_url','vin','image_url','region','title_status', 'size','lat','long','description','county']\n",
    "data.drop(columns=drop_columns,inplace=True)"
   ]
  },
  {
   "cell_type": "code",
   "execution_count": 0,
   "metadata": {
    "colab": {
     "base_uri": "https://localhost:8080/",
     "height": 140
    },
    "colab_type": "code",
    "id": "APfgribJx57_",
    "outputId": "7ef6b779-027e-43b4-fb9a-6d793fdf7ea6"
   },
   "outputs": [
    {
     "name": "stdout",
     "output_type": "stream",
     "text": [
      "CPU times: user 598 µs, sys: 0 ns, total: 598 µs\n",
      "Wall time: 597 µs\n"
     ]
    },
    {
     "data": {
      "text/html": [
       "<div>\n",
       "<style scoped>\n",
       "    .dataframe tbody tr th:only-of-type {\n",
       "        vertical-align: middle;\n",
       "    }\n",
       "\n",
       "    .dataframe tbody tr th {\n",
       "        vertical-align: top;\n",
       "    }\n",
       "\n",
       "    .dataframe thead th {\n",
       "        text-align: right;\n",
       "    }\n",
       "</style>\n",
       "<table border=\"1\" class=\"dataframe\">\n",
       "  <thead>\n",
       "    <tr style=\"text-align: right;\">\n",
       "      <th></th>\n",
       "      <th>price</th>\n",
       "      <th>year</th>\n",
       "      <th>manufacturer</th>\n",
       "      <th>model</th>\n",
       "      <th>condition</th>\n",
       "      <th>cylinders</th>\n",
       "      <th>fuel</th>\n",
       "      <th>odometer</th>\n",
       "      <th>transmission</th>\n",
       "      <th>drive</th>\n",
       "      <th>type</th>\n",
       "      <th>paint_color</th>\n",
       "      <th>state</th>\n",
       "    </tr>\n",
       "  </thead>\n",
       "  <tbody>\n",
       "    <tr>\n",
       "      <th>0</th>\n",
       "      <td>10299</td>\n",
       "      <td>2012.0</td>\n",
       "      <td>acura</td>\n",
       "      <td>tl</td>\n",
       "      <td>NaN</td>\n",
       "      <td>NaN</td>\n",
       "      <td>gas</td>\n",
       "      <td>90186.0</td>\n",
       "      <td>automatic</td>\n",
       "      <td>NaN</td>\n",
       "      <td>other</td>\n",
       "      <td>blue</td>\n",
       "      <td>nc</td>\n",
       "    </tr>\n",
       "    <tr>\n",
       "      <th>2</th>\n",
       "      <td>9500</td>\n",
       "      <td>2011.0</td>\n",
       "      <td>jaguar</td>\n",
       "      <td>xf</td>\n",
       "      <td>excellent</td>\n",
       "      <td>NaN</td>\n",
       "      <td>gas</td>\n",
       "      <td>85000.0</td>\n",
       "      <td>automatic</td>\n",
       "      <td>NaN</td>\n",
       "      <td>NaN</td>\n",
       "      <td>blue</td>\n",
       "      <td>nc</td>\n",
       "    </tr>\n",
       "  </tbody>\n",
       "</table>\n",
       "</div>"
      ],
      "text/plain": [
       "   price    year manufacturer model  ... drive   type paint_color  state\n",
       "0  10299  2012.0        acura    tl  ...   NaN  other        blue     nc\n",
       "2   9500  2011.0       jaguar    xf  ...   NaN    NaN        blue     nc\n",
       "\n",
       "[2 rows x 13 columns]"
      ]
     },
     "execution_count": 54,
     "metadata": {
      "tags": []
     },
     "output_type": "execute_result"
    }
   ],
   "source": [
    "%%time\n",
    "data.head(2)"
   ]
  },
  {
   "cell_type": "markdown",
   "metadata": {},
   "source": [
    "#### Checking the total null values we had in the whole data set"
   ]
  },
  {
   "cell_type": "code",
   "execution_count": 0,
   "metadata": {
    "colab": {
     "base_uri": "https://localhost:8080/",
     "height": 286
    },
    "colab_type": "code",
    "id": "TzbLPoPlzDig",
    "outputId": "694ae4fc-3b05-47f5-8bb1-b061e43b09af"
   },
   "outputs": [
    {
     "name": "stdout",
     "output_type": "stream",
     "text": [
      "CPU times: user 211 ms, sys: 812 µs, total: 212 ms\n",
      "Wall time: 212 ms\n"
     ]
    },
    {
     "data": {
      "text/plain": [
       "price                0\n",
       "year               929\n",
       "manufacturer     20263\n",
       "model             6670\n",
       "condition       204003\n",
       "cylinders       194400\n",
       "fuel              3085\n",
       "odometer         86024\n",
       "transmission      3373\n",
       "drive           140798\n",
       "type            134025\n",
       "paint_color     155451\n",
       "state                0\n",
       "dtype: int64"
      ]
     },
     "execution_count": 55,
     "metadata": {
      "tags": []
     },
     "output_type": "execute_result"
    }
   ],
   "source": [
    "%%time\n",
    "data.isnull().sum()"
   ]
  },
  {
   "cell_type": "markdown",
   "metadata": {},
   "source": [
    "#### Dropping the Null values and checking the total rows we dropped"
   ]
  },
  {
   "cell_type": "code",
   "execution_count": 0,
   "metadata": {
    "colab": {
     "base_uri": "https://localhost:8080/",
     "height": 67
    },
    "colab_type": "code",
    "id": "g1AqYAWnzRkv",
    "outputId": "6ac224d7-5fe0-4c7b-8370-9bca29ebdbf9"
   },
   "outputs": [
    {
     "name": "stdout",
     "output_type": "stream",
     "text": [
      "Total Number of rows Dropped for Null :  350170\n",
      "CPU times: user 239 ms, sys: 1.54 ms, total: 241 ms\n",
      "Wall time: 241 ms\n"
     ]
    }
   ],
   "source": [
    "%%time\n",
    "rows_existing = data.shape[0]\n",
    "data.dropna(inplace=True)\n",
    "rows_new = data.shape[0]\n",
    "\n",
    "print('Total Number of rows Dropped for Null : ',(rows_existing-rows_new))"
   ]
  },
  {
   "cell_type": "code",
   "execution_count": 0,
   "metadata": {
    "colab": {
     "base_uri": "https://localhost:8080/",
     "height": 67
    },
    "colab_type": "code",
    "id": "Mn1J0pkiGLA0",
    "outputId": "3dc88a1a-1d15-413d-bda7-fbfa0370f628"
   },
   "outputs": [
    {
     "name": "stdout",
     "output_type": "stream",
     "text": [
      "Total No. of rows Dropped till now :  401365\n",
      "CPU times: user 113 µs, sys: 25 µs, total: 138 µs\n",
      "Wall time: 104 µs\n"
     ]
    }
   ],
   "source": [
    "%%time\n",
    "print('Total No. of rows Dropped till now : ',(total_rows - rows_new))"
   ]
  },
  {
   "cell_type": "code",
   "execution_count": 0,
   "metadata": {
    "colab": {
     "base_uri": "https://localhost:8080/",
     "height": 67
    },
    "colab_type": "code",
    "id": "x5sPT2S9F2yf",
    "outputId": "a8d08624-9529-4f8e-961e-86443d8cd7ed"
   },
   "outputs": [
    {
     "name": "stdout",
     "output_type": "stream",
     "text": [
      "CPU times: user 14 µs, sys: 4 µs, total: 18 µs\n",
      "Wall time: 21.9 µs\n"
     ]
    },
    {
     "data": {
      "text/plain": [
       "(138394, 13)"
      ]
     },
     "execution_count": 58,
     "metadata": {
      "tags": []
     },
     "output_type": "execute_result"
    }
   ],
   "source": [
    "%%time\n",
    "data.shape"
   ]
  },
  {
   "cell_type": "code",
   "execution_count": 0,
   "metadata": {
    "colab": {
     "base_uri": "https://localhost:8080/",
     "height": 386
    },
    "colab_type": "code",
    "id": "eA1w9uJ-HK3Y",
    "outputId": "e7fbd19f-1cb3-4202-ec53-4638567d83a6"
   },
   "outputs": [
    {
     "name": "stdout",
     "output_type": "stream",
     "text": [
      "<class 'pandas.core.frame.DataFrame'>\n",
      "Int64Index: 138394 entries, 13 to 539752\n",
      "Data columns (total 13 columns):\n",
      " #   Column        Non-Null Count   Dtype  \n",
      "---  ------        --------------   -----  \n",
      " 0   price         138394 non-null  int64  \n",
      " 1   year          138394 non-null  float64\n",
      " 2   manufacturer  138394 non-null  object \n",
      " 3   model         138394 non-null  object \n",
      " 4   condition     138394 non-null  object \n",
      " 5   cylinders     138394 non-null  object \n",
      " 6   fuel          138394 non-null  object \n",
      " 7   odometer      138394 non-null  float64\n",
      " 8   transmission  138394 non-null  object \n",
      " 9   drive         138394 non-null  object \n",
      " 10  type          138394 non-null  object \n",
      " 11  paint_color   138394 non-null  object \n",
      " 12  state         138394 non-null  object \n",
      "dtypes: float64(2), int64(1), object(10)\n",
      "memory usage: 14.8+ MB\n",
      "CPU times: user 70.5 ms, sys: 42 µs, total: 70.5 ms\n",
      "Wall time: 70.9 ms\n"
     ]
    }
   ],
   "source": [
    "%%time\n",
    "data.info()"
   ]
  },
  {
   "cell_type": "markdown",
   "metadata": {},
   "source": [
    "## Splitting the data into Train and Test"
   ]
  },
  {
   "cell_type": "code",
   "execution_count": 0,
   "metadata": {
    "colab": {
     "base_uri": "https://localhost:8080/",
     "height": 50
    },
    "colab_type": "code",
    "id": "Kb_c_JY_HkBn",
    "outputId": "e2a4167d-13df-467f-f128-046611e674fb"
   },
   "outputs": [
    {
     "name": "stdout",
     "output_type": "stream",
     "text": [
      "CPU times: user 53 ms, sys: 0 ns, total: 53 ms\n",
      "Wall time: 52.5 ms\n"
     ]
    }
   ],
   "source": [
    "%%time\n",
    "X = data.drop(columns=['price'])\n",
    "y = data['price']\n",
    "\n",
    "X_train, X_test, y_train, y_test = train_test_split(X, y, test_size=0.2, random_state=42)"
   ]
  },
  {
   "cell_type": "code",
   "execution_count": 0,
   "metadata": {
    "colab": {
     "base_uri": "https://localhost:8080/",
     "height": 84
    },
    "colab_type": "code",
    "id": "uouSSe3qJuWQ",
    "outputId": "d6e8c599-66bc-4fbf-ec68-2f3bfb15ed6c"
   },
   "outputs": [
    {
     "name": "stdout",
     "output_type": "stream",
     "text": [
      "(110715, 12)\n",
      "(27679, 12)\n",
      "CPU times: user 121 µs, sys: 27 µs, total: 148 µs\n",
      "Wall time: 108 µs\n"
     ]
    }
   ],
   "source": [
    "%%time\n",
    "print(X_train.shape)\n",
    "print(X_test.shape)"
   ]
  },
  {
   "cell_type": "code",
   "execution_count": 0,
   "metadata": {
    "colab": {
     "base_uri": "https://localhost:8080/",
     "height": 101
    },
    "colab_type": "code",
    "id": "UXOxXiulMM_Y",
    "outputId": "fe292ce2-89a2-41e6-8f12-288eb8049f4a"
   },
   "outputs": [
    {
     "name": "stdout",
     "output_type": "stream",
     "text": [
      "CPU times: user 6 µs, sys: 1 µs, total: 7 µs\n",
      "Wall time: 10 µs\n"
     ]
    },
    {
     "data": {
      "text/plain": [
       "Index(['year', 'manufacturer', 'model', 'condition', 'cylinders', 'fuel',\n",
       "       'odometer', 'transmission', 'drive', 'type', 'paint_color', 'state'],\n",
       "      dtype='object')"
      ]
     },
     "execution_count": 62,
     "metadata": {
      "tags": []
     },
     "output_type": "execute_result"
    }
   ],
   "source": [
    "%%time\n",
    "X_train.columns"
   ]
  },
  {
   "cell_type": "code",
   "execution_count": 0,
   "metadata": {
    "colab": {
     "base_uri": "https://localhost:8080/",
     "height": 50
    },
    "colab_type": "code",
    "id": "2l9DGkUMK02l",
    "outputId": "604f925f-fbcf-48d9-d009-013746d283b6"
   },
   "outputs": [
    {
     "name": "stdout",
     "output_type": "stream",
     "text": [
      "CPU times: user 623 µs, sys: 0 ns, total: 623 µs\n",
      "Wall time: 630 µs\n"
     ]
    }
   ],
   "source": [
    "%%time\n",
    "train_year = X_train.year\n",
    "train_manufacturer = X_train.manufacturer\n",
    "train_model = X_train.model\n",
    "train_condition = X_train.condition\n",
    "train_cylinders = X_train.cylinders\n",
    "train_fuel = X_train.fuel\n",
    "train_odometer = X_train.odometer\n",
    "train_transmission = X_train.transmission\n",
    "train_drive = X_train.drive\n",
    "train_type = X_train.type\n",
    "train_paint_color = X_train.paint_color\n",
    "train_state = X_train.state"
   ]
  },
  {
   "cell_type": "code",
   "execution_count": 0,
   "metadata": {
    "colab": {
     "base_uri": "https://localhost:8080/",
     "height": 50
    },
    "colab_type": "code",
    "id": "Pk3tFsj8LT6u",
    "outputId": "405cb3c3-369a-4a1d-9b5d-e4b19b330dc2"
   },
   "outputs": [
    {
     "name": "stdout",
     "output_type": "stream",
     "text": [
      "CPU times: user 611 µs, sys: 0 ns, total: 611 µs\n",
      "Wall time: 618 µs\n"
     ]
    }
   ],
   "source": [
    "%%time\n",
    "test_year = X_test.year\n",
    "test_manufacturer = X_test.manufacturer\n",
    "test_model = X_test.model\n",
    "test_condition = X_test.condition\n",
    "test_cylinders = X_test.cylinders\n",
    "test_fuel = X_test.fuel\n",
    "test_odometer = X_test.odometer\n",
    "test_transmission = X_test.transmission\n",
    "test_drive = X_test.drive\n",
    "test_type = X_test.type\n",
    "test_paint_color = X_test.paint_color\n",
    "test_state = X_test.state"
   ]
  },
  {
   "cell_type": "markdown",
   "metadata": {},
   "source": [
    "## Data Pre-Processing :"
   ]
  },
  {
   "cell_type": "markdown",
   "metadata": {},
   "source": [
    "### Manufacturer : "
   ]
  },
  {
   "cell_type": "code",
   "execution_count": 0,
   "metadata": {
    "colab": {
     "base_uri": "https://localhost:8080/",
     "height": 185
    },
    "colab_type": "code",
    "id": "SluuR6GRMnIT",
    "outputId": "1af08117-955f-4af5-e857-3c4562d6fa6c"
   },
   "outputs": [
    {
     "name": "stdout",
     "output_type": "stream",
     "text": [
      "CPU times: user 6.46 ms, sys: 1.66 ms, total: 8.12 ms\n",
      "Wall time: 7.66 ms\n"
     ]
    },
    {
     "data": {
      "text/plain": [
       "array(['ford', 'honda', 'chevrolet', 'ram', 'acura', 'chrysler',\n",
       "       'mercedes-benz', 'cadillac', 'volkswagen', 'lexus', 'toyota',\n",
       "       'audi', 'mini', 'jeep', 'saturn', 'nissan', 'buick', 'pontiac',\n",
       "       'subaru', 'dodge', 'kia', 'mazda', 'bmw', 'gmc', 'mercury',\n",
       "       'rover', 'infiniti', 'hyundai', 'lincoln', 'volvo', 'fiat',\n",
       "       'jaguar', 'mitsubishi', 'datsun', 'aston-martin', 'tesla',\n",
       "       'harley-davidson', 'porche', 'alfa-romeo', 'ferrari', 'hennessey',\n",
       "       'land rover', 'morgan'], dtype=object)"
      ]
     },
     "execution_count": 65,
     "metadata": {
      "tags": []
     },
     "output_type": "execute_result"
    }
   ],
   "source": [
    "%%time\n",
    "train_manufacturer.unique()"
   ]
  },
  {
   "cell_type": "markdown",
   "metadata": {},
   "source": [
    "#### One-Hot Encoding : "
   ]
  },
  {
   "cell_type": "code",
   "execution_count": 0,
   "metadata": {
    "colab": {
     "base_uri": "https://localhost:8080/",
     "height": 50
    },
    "colab_type": "code",
    "id": "iy5KmjIvNxGX",
    "outputId": "d9f16fed-8d25-4b66-fb4d-fc124a5add05"
   },
   "outputs": [
    {
     "name": "stdout",
     "output_type": "stream",
     "text": [
      "CPU times: user 38.4 ms, sys: 853 µs, total: 39.3 ms\n",
      "Wall time: 38.9 ms\n"
     ]
    }
   ],
   "source": [
    "%%time\n",
    "# save one hot encoder into pickle\n",
    "manufacturer_onehot_encoder = OneHotEncoder(handle_unknown='ignore')\n",
    "x_manu_oneHot_train = manufacturer_onehot_encoder.fit_transform(train_manufacturer.values.reshape(-1,1))\n",
    "x_manu_oneHot_test = manufacturer_onehot_encoder.transform(test_manufacturer.values.reshape(-1,1))"
   ]
  },
  {
   "cell_type": "code",
   "execution_count": 0,
   "metadata": {
    "colab": {
     "base_uri": "https://localhost:8080/",
     "height": 185
    },
    "colab_type": "code",
    "id": "7tteKmwiQMS_",
    "outputId": "86fb2919-f148-45ab-f3c9-1ab4457007a7"
   },
   "outputs": [
    {
     "name": "stdout",
     "output_type": "stream",
     "text": [
      "CPU times: user 3 µs, sys: 1 µs, total: 4 µs\n",
      "Wall time: 9.06 µs\n"
     ]
    },
    {
     "data": {
      "text/plain": [
       "[array(['acura', 'alfa-romeo', 'aston-martin', 'audi', 'bmw', 'buick',\n",
       "        'cadillac', 'chevrolet', 'chrysler', 'datsun', 'dodge', 'ferrari',\n",
       "        'fiat', 'ford', 'gmc', 'harley-davidson', 'hennessey', 'honda',\n",
       "        'hyundai', 'infiniti', 'jaguar', 'jeep', 'kia', 'land rover',\n",
       "        'lexus', 'lincoln', 'mazda', 'mercedes-benz', 'mercury', 'mini',\n",
       "        'mitsubishi', 'morgan', 'nissan', 'pontiac', 'porche', 'ram',\n",
       "        'rover', 'saturn', 'subaru', 'tesla', 'toyota', 'volkswagen',\n",
       "        'volvo'], dtype=object)]"
      ]
     },
     "execution_count": 67,
     "metadata": {
      "tags": []
     },
     "output_type": "execute_result"
    }
   ],
   "source": [
    "%%time\n",
    "manufacturer_onehot_encoder.categories_"
   ]
  },
  {
   "cell_type": "code",
   "execution_count": 0,
   "metadata": {
    "colab": {
     "base_uri": "https://localhost:8080/",
     "height": 84
    },
    "colab_type": "code",
    "id": "bHAQEfr4QQMn",
    "outputId": "2d1d7dcd-1f44-4b35-da90-61c910984a04"
   },
   "outputs": [
    {
     "name": "stdout",
     "output_type": "stream",
     "text": [
      "(110715, 43)\n",
      "(27679, 43)\n",
      "CPU times: user 354 µs, sys: 79 µs, total: 433 µs\n",
      "Wall time: 307 µs\n"
     ]
    }
   ],
   "source": [
    "%%time\n",
    "print(x_manu_oneHot_train.shape)\n",
    "print(x_manu_oneHot_test.shape)"
   ]
  },
  {
   "cell_type": "markdown",
   "metadata": {},
   "source": [
    "### Model :"
   ]
  },
  {
   "cell_type": "code",
   "execution_count": 0,
   "metadata": {
    "colab": {
     "base_uri": "https://localhost:8080/",
     "height": 67
    },
    "colab_type": "code",
    "id": "bhzWNoPdYR-q",
    "outputId": "702fbe38-a031-41ab-d322-0b3f841c8b5d"
   },
   "outputs": [
    {
     "name": "stdout",
     "output_type": "stream",
     "text": [
      "CPU times: user 19.4 ms, sys: 0 ns, total: 19.4 ms\n",
      "Wall time: 18.8 ms\n"
     ]
    },
    {
     "data": {
      "text/plain": [
       "11680"
      ]
     },
     "execution_count": 69,
     "metadata": {
      "tags": []
     },
     "output_type": "execute_result"
    }
   ],
   "source": [
    "%%time\n",
    "len(train_model.unique())"
   ]
  },
  {
   "cell_type": "code",
   "execution_count": 0,
   "metadata": {
    "colab": {
     "base_uri": "https://localhost:8080/",
     "height": 252
    },
    "colab_type": "code",
    "id": "l97Mq6lVRAZo",
    "outputId": "9b34bfe9-cc2e-4276-9917-414d3c848b77"
   },
   "outputs": [
    {
     "name": "stdout",
     "output_type": "stream",
     "text": [
      "CPU times: user 29.8 ms, sys: 133 µs, total: 29.9 ms\n",
      "Wall time: 29.2 ms\n"
     ]
    },
    {
     "data": {
      "text/plain": [
       "f-150                    2203\n",
       "silverado 1500           1748\n",
       "1500                     1440\n",
       "silverado                1012\n",
       "2500                      889\n",
       "                         ... \n",
       "z-28 camaro                 1\n",
       "3 series 330ci 2dr cv       1\n",
       "savanna high top van        1\n",
       "300c hemi limited awd       1\n",
       "yukon xl callaway           1\n",
       "Name: model, Length: 11680, dtype: int64"
      ]
     },
     "execution_count": 70,
     "metadata": {
      "tags": []
     },
     "output_type": "execute_result"
    }
   ],
   "source": [
    "%%time\n",
    "train_model.value_counts()"
   ]
  },
  {
   "cell_type": "markdown",
   "metadata": {},
   "source": [
    "#### Frequency Encoding :"
   ]
  },
  {
   "cell_type": "code",
   "execution_count": 0,
   "metadata": {
    "colab": {
     "base_uri": "https://localhost:8080/",
     "height": 50
    },
    "colab_type": "code",
    "id": "du34Mq6fYQRI",
    "outputId": "adc2e83c-47e8-4f5a-bcef-4af77b2d7fb1"
   },
   "outputs": [
    {
     "name": "stdout",
     "output_type": "stream",
     "text": [
      "CPU times: user 50.4 s, sys: 1.45 s, total: 51.8 s\n",
      "Wall time: 51.9 s\n"
     ]
    }
   ],
   "source": [
    "%%time\n",
    "dict_model_freq = dict(Counter(train_model)) # save  dictionary using pickle\n",
    "x_model_freq_train = train_model.replace(dict_model_freq).values.reshape(-1,1)"
   ]
  },
  {
   "cell_type": "code",
   "execution_count": 0,
   "metadata": {
    "colab": {
     "base_uri": "https://localhost:8080/",
     "height": 50
    },
    "colab_type": "code",
    "id": "x9FIs_RD3JRr",
    "outputId": "3ba6b31a-2815-4c58-d9f9-ad139f50cb1f"
   },
   "outputs": [
    {
     "name": "stdout",
     "output_type": "stream",
     "text": [
      "CPU times: user 18.3 ms, sys: 22 µs, total: 18.3 ms\n",
      "Wall time: 17.6 ms\n"
     ]
    }
   ],
   "source": [
    "%%time\n",
    "#we use map to replace values not present in dictionary with Nan\n",
    "x_model_freq_test = test_model.map(dict_model_freq).fillna(0).astype('int64').values.reshape(-1,1)"
   ]
  },
  {
   "cell_type": "code",
   "execution_count": 0,
   "metadata": {
    "colab": {
     "base_uri": "https://localhost:8080/",
     "height": 84
    },
    "colab_type": "code",
    "id": "8t3DuPwcbu5k",
    "outputId": "aa7f9ad4-1179-4699-ccaf-09680c93350e"
   },
   "outputs": [
    {
     "name": "stdout",
     "output_type": "stream",
     "text": [
      "(110715, 1)\n",
      "(27679, 1)\n",
      "CPU times: user 131 µs, sys: 12 µs, total: 143 µs\n",
      "Wall time: 105 µs\n"
     ]
    }
   ],
   "source": [
    "%%time\n",
    "print(x_model_freq_train.shape)\n",
    "print(x_model_freq_test.shape)"
   ]
  },
  {
   "cell_type": "markdown",
   "metadata": {},
   "source": [
    "### Condition : "
   ]
  },
  {
   "cell_type": "code",
   "execution_count": 0,
   "metadata": {
    "colab": {
     "base_uri": "https://localhost:8080/",
     "height": 84
    },
    "colab_type": "code",
    "id": "5v-dapf1dE6W",
    "outputId": "a7c05ac9-0e40-4b87-836e-c8a2a9d28473"
   },
   "outputs": [
    {
     "name": "stdout",
     "output_type": "stream",
     "text": [
      "CPU times: user 6.55 ms, sys: 54 µs, total: 6.6 ms\n",
      "Wall time: 6.27 ms\n"
     ]
    },
    {
     "data": {
      "text/plain": [
       "array(['like new', 'excellent', 'good', 'new', 'fair', 'salvage'],\n",
       "      dtype=object)"
      ]
     },
     "execution_count": 74,
     "metadata": {
      "tags": []
     },
     "output_type": "execute_result"
    }
   ],
   "source": [
    "%%time\n",
    "train_condition.unique()"
   ]
  },
  {
   "cell_type": "markdown",
   "metadata": {},
   "source": [
    "#### One-Hot Encoding :"
   ]
  },
  {
   "cell_type": "code",
   "execution_count": 0,
   "metadata": {
    "colab": {
     "base_uri": "https://localhost:8080/",
     "height": 50
    },
    "colab_type": "code",
    "id": "nO4vYm4SdMhs",
    "outputId": "555d902f-b55f-46e3-ed81-906fc5c17f34"
   },
   "outputs": [
    {
     "name": "stdout",
     "output_type": "stream",
     "text": [
      "CPU times: user 40.6 ms, sys: 48 µs, total: 40.6 ms\n",
      "Wall time: 40.3 ms\n"
     ]
    }
   ],
   "source": [
    "%%time\n",
    "condition_onehot_encoder = OneHotEncoder(handle_unknown='ignore')\n",
    "x_condition_oneHot_train = condition_onehot_encoder.fit_transform(train_condition.values.reshape(-1,1))\n",
    "x_condition_oneHot_test = condition_onehot_encoder.transform(test_condition.values.reshape(-1,1))"
   ]
  },
  {
   "cell_type": "code",
   "execution_count": 0,
   "metadata": {
    "colab": {
     "base_uri": "https://localhost:8080/",
     "height": 84
    },
    "colab_type": "code",
    "id": "I9j2wG0odZNI",
    "outputId": "0c7a439f-bce6-4f2e-d4a3-70480f318bbe"
   },
   "outputs": [
    {
     "name": "stdout",
     "output_type": "stream",
     "text": [
      "(110715, 6)\n",
      "(27679, 6)\n",
      "CPU times: user 96 µs, sys: 9 µs, total: 105 µs\n",
      "Wall time: 90.4 µs\n"
     ]
    }
   ],
   "source": [
    "%%time\n",
    "print(x_condition_oneHot_train.shape)\n",
    "print(x_condition_oneHot_test.shape)"
   ]
  },
  {
   "cell_type": "markdown",
   "metadata": {},
   "source": [
    "### Cylinder Types :"
   ]
  },
  {
   "cell_type": "code",
   "execution_count": 0,
   "metadata": {
    "colab": {
     "base_uri": "https://localhost:8080/",
     "height": 101
    },
    "colab_type": "code",
    "id": "1WMxcWbUeHuf",
    "outputId": "c0d9fd13-12e5-40c4-fee9-db52f3d4762f"
   },
   "outputs": [
    {
     "name": "stdout",
     "output_type": "stream",
     "text": [
      "CPU times: user 5.69 ms, sys: 0 ns, total: 5.69 ms\n",
      "Wall time: 5.2 ms\n"
     ]
    },
    {
     "data": {
      "text/plain": [
       "array(['4 cylinders', '6 cylinders', '8 cylinders', '10 cylinders',\n",
       "       '5 cylinders', '3 cylinders', 'other', '12 cylinders'],\n",
       "      dtype=object)"
      ]
     },
     "execution_count": 77,
     "metadata": {
      "tags": []
     },
     "output_type": "execute_result"
    }
   ],
   "source": [
    "%%time\n",
    "train_cylinders.unique()"
   ]
  },
  {
   "cell_type": "markdown",
   "metadata": {},
   "source": [
    "#### Value Encoding : Manual"
   ]
  },
  {
   "cell_type": "code",
   "execution_count": 0,
   "metadata": {
    "colab": {
     "base_uri": "https://localhost:8080/",
     "height": 50
    },
    "colab_type": "code",
    "id": "tKxrNI1qeSDY",
    "outputId": "0b1f3df4-d6a6-4d3f-d231-501b8f0899cd"
   },
   "outputs": [
    {
     "name": "stdout",
     "output_type": "stream",
     "text": [
      "CPU times: user 3 µs, sys: 0 ns, total: 3 µs\n",
      "Wall time: 6.2 µs\n"
     ]
    }
   ],
   "source": [
    "%%time\n",
    "cylinders_dict = {\n",
    "    '4 cylinders':4, \n",
    "    '6 cylinders':6, \n",
    "    '8 cylinders':8, \n",
    "    '10 cylinders':10,\n",
    "    '5 cylinders':5, \n",
    "    '3 cylinders':3, \n",
    "    'other':0, \n",
    "    '12 cylinders':12\n",
    "}"
   ]
  },
  {
   "cell_type": "code",
   "execution_count": 0,
   "metadata": {
    "colab": {
     "base_uri": "https://localhost:8080/",
     "height": 50
    },
    "colab_type": "code",
    "id": "H9Tgg5m4euya",
    "outputId": "41923003-68b1-4be8-f631-d69a9442d099"
   },
   "outputs": [
    {
     "name": "stdout",
     "output_type": "stream",
     "text": [
      "CPU times: user 67.2 ms, sys: 9 µs, total: 67.2 ms\n",
      "Wall time: 66.4 ms\n"
     ]
    }
   ],
   "source": [
    "%%time\n",
    "x_cylinders_freq_train = train_cylinders.replace(cylinders_dict).values.reshape(-1,1)\n",
    "x_cylinders_freq_test = test_cylinders.replace(cylinders_dict).values.reshape(-1,1)"
   ]
  },
  {
   "cell_type": "code",
   "execution_count": 0,
   "metadata": {
    "colab": {
     "base_uri": "https://localhost:8080/",
     "height": 84
    },
    "colab_type": "code",
    "id": "lF-oPmfYe7rR",
    "outputId": "e67eacaa-bb64-4d68-807b-b738e5a7c65b"
   },
   "outputs": [
    {
     "name": "stdout",
     "output_type": "stream",
     "text": [
      "(110715, 1)\n",
      "(27679, 1)\n",
      "CPU times: user 144 µs, sys: 0 ns, total: 144 µs\n",
      "Wall time: 102 µs\n"
     ]
    }
   ],
   "source": [
    "%%time\n",
    "print(x_cylinders_freq_train.shape)\n",
    "print(x_cylinders_freq_test.shape)"
   ]
  },
  {
   "cell_type": "markdown",
   "metadata": {},
   "source": [
    "### Fuel Type :"
   ]
  },
  {
   "cell_type": "code",
   "execution_count": 0,
   "metadata": {
    "colab": {
     "base_uri": "https://localhost:8080/",
     "height": 67
    },
    "colab_type": "code",
    "id": "DeadfxXtiZev",
    "outputId": "e829399d-3adf-4f3a-f937-5018f5ef4fa1"
   },
   "outputs": [
    {
     "name": "stdout",
     "output_type": "stream",
     "text": [
      "CPU times: user 5.03 ms, sys: 1e+03 ns, total: 5.03 ms\n",
      "Wall time: 4.63 ms\n"
     ]
    },
    {
     "data": {
      "text/plain": [
       "array(['gas', 'diesel', 'other', 'hybrid', 'electric'], dtype=object)"
      ]
     },
     "execution_count": 81,
     "metadata": {
      "tags": []
     },
     "output_type": "execute_result"
    }
   ],
   "source": [
    "%%time\n",
    "train_fuel.unique()"
   ]
  },
  {
   "cell_type": "markdown",
   "metadata": {},
   "source": [
    "#### One Hot Encoder : "
   ]
  },
  {
   "cell_type": "code",
   "execution_count": 0,
   "metadata": {
    "colab": {
     "base_uri": "https://localhost:8080/",
     "height": 50
    },
    "colab_type": "code",
    "id": "A-1yH0A_ij0E",
    "outputId": "51e9fc86-e818-44b0-c497-1288e2f8bfeb"
   },
   "outputs": [
    {
     "name": "stdout",
     "output_type": "stream",
     "text": [
      "CPU times: user 36 ms, sys: 904 µs, total: 36.9 ms\n",
      "Wall time: 36.5 ms\n"
     ]
    }
   ],
   "source": [
    "%%time\n",
    "fuel_onehot_encoder = OneHotEncoder(handle_unknown='ignore')\n",
    "x_fuel_oneHot_train = fuel_onehot_encoder.fit_transform(train_fuel.values.reshape(-1,1))\n",
    "x_fuel_oneHot_test = fuel_onehot_encoder.transform(test_fuel.values.reshape(-1,1))"
   ]
  },
  {
   "cell_type": "code",
   "execution_count": 0,
   "metadata": {
    "colab": {
     "base_uri": "https://localhost:8080/",
     "height": 84
    },
    "colab_type": "code",
    "id": "Uwtgs3Y-iwTA",
    "outputId": "3956c64d-e4f1-4c4f-c92e-6f8311d434bc"
   },
   "outputs": [
    {
     "name": "stdout",
     "output_type": "stream",
     "text": [
      "(110715, 5)\n",
      "(27679, 5)\n",
      "CPU times: user 78 µs, sys: 8 µs, total: 86 µs\n",
      "Wall time: 90.6 µs\n"
     ]
    }
   ],
   "source": [
    "%%time\n",
    "print(x_fuel_oneHot_train.shape)\n",
    "print(x_fuel_oneHot_test.shape)"
   ]
  },
  {
   "cell_type": "markdown",
   "metadata": {},
   "source": [
    "### Transmission Type"
   ]
  },
  {
   "cell_type": "code",
   "execution_count": 0,
   "metadata": {
    "colab": {
     "base_uri": "https://localhost:8080/",
     "height": 67
    },
    "colab_type": "code",
    "id": "9CTBqRoUlLbK",
    "outputId": "da6cc799-1594-414a-91d7-1fa306c2e955"
   },
   "outputs": [
    {
     "name": "stdout",
     "output_type": "stream",
     "text": [
      "CPU times: user 7.13 ms, sys: 0 ns, total: 7.13 ms\n",
      "Wall time: 6.76 ms\n"
     ]
    },
    {
     "data": {
      "text/plain": [
       "array(['automatic', 'other', 'manual'], dtype=object)"
      ]
     },
     "execution_count": 84,
     "metadata": {
      "tags": []
     },
     "output_type": "execute_result"
    }
   ],
   "source": [
    "%%time\n",
    "train_transmission.unique()"
   ]
  },
  {
   "cell_type": "markdown",
   "metadata": {},
   "source": [
    "#### One-Hot Encoding :"
   ]
  },
  {
   "cell_type": "code",
   "execution_count": 0,
   "metadata": {
    "colab": {
     "base_uri": "https://localhost:8080/",
     "height": 50
    },
    "colab_type": "code",
    "id": "awyP4sBzlnmJ",
    "outputId": "26b0dea8-8b29-40f3-d40f-838d64158557"
   },
   "outputs": [
    {
     "name": "stdout",
     "output_type": "stream",
     "text": [
      "CPU times: user 36 ms, sys: 916 µs, total: 37 ms\n",
      "Wall time: 36.4 ms\n"
     ]
    }
   ],
   "source": [
    "%%time\n",
    "transmission_onehot_encoder = OneHotEncoder(handle_unknown='ignore')\n",
    "x_transmission_oneHot_train = transmission_onehot_encoder.fit_transform(train_transmission.values.reshape(-1,1))\n",
    "x_transmission_oneHot_test = transmission_onehot_encoder.transform(test_transmission.values.reshape(-1,1))"
   ]
  },
  {
   "cell_type": "code",
   "execution_count": 0,
   "metadata": {
    "colab": {
     "base_uri": "https://localhost:8080/",
     "height": 84
    },
    "colab_type": "code",
    "id": "-XTAc18Yly3F",
    "outputId": "2314f635-e79d-4b83-b117-f40793cd6a84"
   },
   "outputs": [
    {
     "name": "stdout",
     "output_type": "stream",
     "text": [
      "(110715, 3)\n",
      "(27679, 3)\n",
      "CPU times: user 80 µs, sys: 8 µs, total: 88 µs\n",
      "Wall time: 81.1 µs\n"
     ]
    }
   ],
   "source": [
    "%%time\n",
    "print(x_transmission_oneHot_train.shape)\n",
    "print(x_transmission_oneHot_test.shape)"
   ]
  },
  {
   "cell_type": "markdown",
   "metadata": {},
   "source": [
    "### Drive Type :"
   ]
  },
  {
   "cell_type": "code",
   "execution_count": 0,
   "metadata": {
    "colab": {
     "base_uri": "https://localhost:8080/",
     "height": 67
    },
    "colab_type": "code",
    "id": "zyc1kqPSmnFR",
    "outputId": "ade2e022-57b8-4027-b014-a156a4e63ac3"
   },
   "outputs": [
    {
     "name": "stdout",
     "output_type": "stream",
     "text": [
      "CPU times: user 5.38 ms, sys: 1.04 ms, total: 6.42 ms\n",
      "Wall time: 5.98 ms\n"
     ]
    },
    {
     "data": {
      "text/plain": [
       "array(['4wd', 'fwd', 'rwd'], dtype=object)"
      ]
     },
     "execution_count": 87,
     "metadata": {
      "tags": []
     },
     "output_type": "execute_result"
    }
   ],
   "source": [
    "%%time\n",
    "train_drive.unique()"
   ]
  },
  {
   "cell_type": "markdown",
   "metadata": {},
   "source": [
    "#### One-Hot Encoder :"
   ]
  },
  {
   "cell_type": "code",
   "execution_count": 0,
   "metadata": {
    "colab": {
     "base_uri": "https://localhost:8080/",
     "height": 84
    },
    "colab_type": "code",
    "id": "pkYfmKfzmsPs",
    "outputId": "02621536-d7eb-416d-d2cf-7ee20ddd45c5"
   },
   "outputs": [
    {
     "name": "stdout",
     "output_type": "stream",
     "text": [
      "(110715, 3)\n",
      "(27679, 3)\n",
      "CPU times: user 36.5 ms, sys: 947 µs, total: 37.5 ms\n",
      "Wall time: 37.1 ms\n"
     ]
    }
   ],
   "source": [
    "%%time\n",
    "drive_onehot_encoder = OneHotEncoder(handle_unknown='ignore')\n",
    "x_drive_oneHot_train = drive_onehot_encoder.fit_transform(train_drive.values.reshape(-1,1))\n",
    "x_drive_oneHot_test = drive_onehot_encoder.transform(test_drive.values.reshape(-1,1))\n",
    "print(x_drive_oneHot_train.shape)\n",
    "print(x_drive_oneHot_test.shape)"
   ]
  },
  {
   "cell_type": "markdown",
   "metadata": {},
   "source": [
    "### Car Type :"
   ]
  },
  {
   "cell_type": "code",
   "execution_count": 0,
   "metadata": {
    "colab": {
     "base_uri": "https://localhost:8080/",
     "height": 101
    },
    "colab_type": "code",
    "id": "CD-uHv-6m3BZ",
    "outputId": "56415bdf-5901-45b3-be0d-ae219dfdc3c6"
   },
   "outputs": [
    {
     "name": "stdout",
     "output_type": "stream",
     "text": [
      "CPU times: user 7.32 ms, sys: 1.03 ms, total: 8.35 ms\n",
      "Wall time: 8.08 ms\n"
     ]
    },
    {
     "data": {
      "text/plain": [
       "array(['SUV', 'coupe', 'truck', 'pickup', 'sedan', 'hatchback',\n",
       "       'mini-van', 'van', 'other', 'wagon', 'convertible', 'offroad',\n",
       "       'bus'], dtype=object)"
      ]
     },
     "execution_count": 89,
     "metadata": {
      "tags": []
     },
     "output_type": "execute_result"
    }
   ],
   "source": [
    "%%time\n",
    "train_type.unique()"
   ]
  },
  {
   "cell_type": "markdown",
   "metadata": {},
   "source": [
    "#### One-Hot Encoder :"
   ]
  },
  {
   "cell_type": "code",
   "execution_count": 0,
   "metadata": {
    "colab": {
     "base_uri": "https://localhost:8080/",
     "height": 84
    },
    "colab_type": "code",
    "id": "YKg6Tpckm9Vw",
    "outputId": "d9d1d48e-80fe-4d47-ec83-b7bcc96382e9"
   },
   "outputs": [
    {
     "name": "stdout",
     "output_type": "stream",
     "text": [
      "(110715, 13)\n",
      "(27679, 13)\n",
      "CPU times: user 38.7 ms, sys: 53 µs, total: 38.7 ms\n",
      "Wall time: 38.3 ms\n"
     ]
    }
   ],
   "source": [
    "%%time\n",
    "type_onehot_encoder = OneHotEncoder(handle_unknown='ignore')\n",
    "x_type_oneHot_train = type_onehot_encoder.fit_transform(train_type.values.reshape(-1,1))\n",
    "x_type_oneHot_test = type_onehot_encoder.transform(test_type.values.reshape(-1,1))\n",
    "print(x_type_oneHot_train.shape)\n",
    "print(x_type_oneHot_test.shape)"
   ]
  },
  {
   "cell_type": "markdown",
   "metadata": {},
   "source": [
    "### Paint :"
   ]
  },
  {
   "cell_type": "code",
   "execution_count": 0,
   "metadata": {
    "colab": {
     "base_uri": "https://localhost:8080/",
     "height": 84
    },
    "colab_type": "code",
    "id": "hiTo9HgSnCkt",
    "outputId": "ddba81e0-e8fc-4ef0-e1a3-81d9c317af7d"
   },
   "outputs": [
    {
     "name": "stdout",
     "output_type": "stream",
     "text": [
      "CPU times: user 7.11 ms, sys: 19 µs, total: 7.13 ms\n",
      "Wall time: 6.76 ms\n"
     ]
    },
    {
     "data": {
      "text/plain": [
       "array(['blue', 'silver', 'red', 'black', 'white', 'grey', 'green',\n",
       "       'brown', 'orange', 'purple', 'custom', 'yellow'], dtype=object)"
      ]
     },
     "execution_count": 91,
     "metadata": {
      "tags": []
     },
     "output_type": "execute_result"
    }
   ],
   "source": [
    "%%time\n",
    "train_paint_color.unique()"
   ]
  },
  {
   "cell_type": "markdown",
   "metadata": {},
   "source": [
    "#### Ordinal Encoder :"
   ]
  },
  {
   "cell_type": "code",
   "execution_count": 0,
   "metadata": {
    "colab": {
     "base_uri": "https://localhost:8080/",
     "height": 84
    },
    "colab_type": "code",
    "id": "b67xp_0gnI-k",
    "outputId": "a082e84e-5dca-4c50-889c-abb5fb840d14"
   },
   "outputs": [
    {
     "name": "stdout",
     "output_type": "stream",
     "text": [
      "(110715, 1)\n",
      "(27679, 1)\n",
      "CPU times: user 36.6 ms, sys: 42 µs, total: 36.6 ms\n",
      "Wall time: 36.1 ms\n"
     ]
    }
   ],
   "source": [
    "%%time\n",
    "paint_color_ordinal_encoder = OrdinalEncoder()\n",
    "x_paint_color_ordinal_train = paint_color_ordinal_encoder.fit_transform(train_paint_color.values.reshape(-1,1))\n",
    "x_paint_color_ordinal_test = paint_color_ordinal_encoder.transform(test_paint_color.values.reshape(-1,1))\n",
    "print(x_paint_color_ordinal_train.shape)\n",
    "print(x_paint_color_ordinal_test.shape)"
   ]
  },
  {
   "cell_type": "markdown",
   "metadata": {},
   "source": [
    "### State : "
   ]
  },
  {
   "cell_type": "code",
   "execution_count": 0,
   "metadata": {
    "colab": {
     "base_uri": "https://localhost:8080/",
     "height": 134
    },
    "colab_type": "code",
    "id": "9PuaO1uvp3Xj",
    "outputId": "07dce8db-d017-473a-b46e-de0ec7cc5c61"
   },
   "outputs": [
    {
     "name": "stdout",
     "output_type": "stream",
     "text": [
      "CPU times: user 5.16 ms, sys: 14 µs, total: 5.18 ms\n",
      "Wall time: 4.78 ms\n"
     ]
    },
    {
     "data": {
      "text/plain": [
       "array(['pa', 'de', 'fl', 'nc', 'al', 'wi', 'ma', 'tx', 'oh', 'id', 'tn',\n",
       "       'mi', 'me', 'dc', 'ky', 'mt', 'ms', 'ca', 'ri', 'wa', 'in', 'ny',\n",
       "       'az', 'md', 'or', 'il', 'la', 'ak', 'ar', 'mn', 'co', 'nv', 'mo',\n",
       "       'sd', 'sc', 'ia', 'ct', 'ne', 'nh', 'vt', 'ok', 'nj', 'va', 'ks',\n",
       "       'nd', 'ga', 'nm', 'wy', 'wv', 'hi', 'ut'], dtype=object)"
      ]
     },
     "execution_count": 93,
     "metadata": {
      "tags": []
     },
     "output_type": "execute_result"
    }
   ],
   "source": [
    "%%time\n",
    "train_state.unique()"
   ]
  },
  {
   "cell_type": "markdown",
   "metadata": {},
   "source": [
    "#### Ordinal Encoder : "
   ]
  },
  {
   "cell_type": "code",
   "execution_count": 0,
   "metadata": {
    "colab": {
     "base_uri": "https://localhost:8080/",
     "height": 84
    },
    "colab_type": "code",
    "id": "CPCmU3Dop6nL",
    "outputId": "4e58f104-42a1-4442-8fa0-f2ed42756224"
   },
   "outputs": [
    {
     "name": "stdout",
     "output_type": "stream",
     "text": [
      "(110715, 1)\n",
      "(27679, 1)\n",
      "CPU times: user 34.3 ms, sys: 20 µs, total: 34.3 ms\n",
      "Wall time: 33.9 ms\n"
     ]
    }
   ],
   "source": [
    "%%time\n",
    "state_ordinal_encoder = OrdinalEncoder()\n",
    "x_state_ordinal_train = state_ordinal_encoder.fit_transform(train_state.values.reshape(-1,1))\n",
    "x_state_ordinal_test = state_ordinal_encoder.transform(test_state.values.reshape(-1,1))\n",
    "print(x_state_ordinal_train.shape)\n",
    "print(x_state_ordinal_test.shape)"
   ]
  },
  {
   "cell_type": "code",
   "execution_count": 0,
   "metadata": {
    "colab": {
     "base_uri": "https://localhost:8080/",
     "height": 67
    },
    "colab_type": "code",
    "id": "jAUeqZqWlRl3",
    "outputId": "43ec4f83-9107-412f-d0d7-7fd9cef8f19d"
   },
   "outputs": [
    {
     "name": "stdout",
     "output_type": "stream",
     "text": [
      "CPU times: user 47 µs, sys: 5 µs, total: 52 µs\n",
      "Wall time: 74.4 µs\n"
     ]
    },
    {
     "data": {
      "text/plain": [
       "dtype('int64')"
      ]
     },
     "execution_count": 95,
     "metadata": {
      "tags": []
     },
     "output_type": "execute_result"
    }
   ],
   "source": [
    "%%time\n",
    "y.dtype"
   ]
  },
  {
   "cell_type": "code",
   "execution_count": 0,
   "metadata": {
    "colab": {
     "base_uri": "https://localhost:8080/",
     "height": 252
    },
    "colab_type": "code",
    "id": "eXZLw9Rfn4Ss",
    "outputId": "f0291508-4fee-4589-af1e-012f349007da"
   },
   "outputs": [
    {
     "name": "stdout",
     "output_type": "stream",
     "text": [
      "(110715, 1)\n",
      "(110715, 43)\n",
      "(110715, 1)\n",
      "(110715, 6)\n",
      "(110715, 1)\n",
      "(110715, 5)\n",
      "(110715, 1)\n",
      "(110715, 3)\n",
      "(110715, 3)\n",
      "(110715, 13)\n",
      "(110715, 1)\n",
      "(110715, 1)\n",
      "CPU times: user 712 µs, sys: 0 ns, total: 712 µs\n",
      "Wall time: 496 µs\n"
     ]
    }
   ],
   "source": [
    "%%time\n",
    "print(train_year.values.reshape(-1,1).shape)\n",
    "print(x_manu_oneHot_train.shape)\n",
    "print(x_model_freq_train.shape)\n",
    "print(x_condition_oneHot_train.shape)\n",
    "print(x_cylinders_freq_train.shape)\n",
    "print(x_fuel_oneHot_train.shape)\n",
    "print(train_odometer.values.reshape(-1,1).shape)\n",
    "print(x_transmission_oneHot_train.shape)\n",
    "print(x_drive_oneHot_train.shape)\n",
    "print(x_type_oneHot_train.shape)\n",
    "print(x_paint_color_ordinal_train.shape)\n",
    "print(x_state_ordinal_train.shape)"
   ]
  },
  {
   "cell_type": "markdown",
   "metadata": {},
   "source": [
    "## Standardizing the Data"
   ]
  },
  {
   "cell_type": "code",
   "execution_count": 0,
   "metadata": {
    "colab": {
     "base_uri": "https://localhost:8080/",
     "height": 50
    },
    "colab_type": "code",
    "id": "CrcCucu4y8bL",
    "outputId": "2eb8edf4-89e3-4cf3-8212-ea0bd7a2a27b"
   },
   "outputs": [
    {
     "name": "stdout",
     "output_type": "stream",
     "text": [
      "CPU times: user 4.04 ms, sys: 15 µs, total: 4.05 ms\n",
      "Wall time: 3.95 ms\n"
     ]
    }
   ],
   "source": [
    "%%time\n",
    "# save year standard scalar\n",
    "scalar = StandardScaler()\n",
    "train_year_scaled = scalar.fit_transform(train_year.values.reshape(-1,1))\n",
    "test_year_scaled = scalar.transform(test_year.values.reshape(-1,1))"
   ]
  },
  {
   "cell_type": "code",
   "execution_count": 0,
   "metadata": {
    "colab": {
     "base_uri": "https://localhost:8080/",
     "height": 50
    },
    "colab_type": "code",
    "id": "bUqUSiPYzW8x",
    "outputId": "1dbac994-38a3-4c5d-96d7-48e4ff35d358"
   },
   "outputs": [
    {
     "name": "stdout",
     "output_type": "stream",
     "text": [
      "CPU times: user 3.39 ms, sys: 0 ns, total: 3.39 ms\n",
      "Wall time: 2.99 ms\n"
     ]
    }
   ],
   "source": [
    "%%time\n",
    "# # save odometer standard scalar\n",
    "scalar = StandardScaler()\n",
    "train_odometer_scaled = scalar.fit_transform(train_odometer.values.reshape(-1,1))\n",
    "test_odometer_scaled = scalar.transform(test_odometer.values.reshape(-1,1))"
   ]
  },
  {
   "cell_type": "markdown",
   "metadata": {},
   "source": [
    "### Combining All the Encoded Features :"
   ]
  },
  {
   "cell_type": "code",
   "execution_count": 0,
   "metadata": {
    "colab": {
     "base_uri": "https://localhost:8080/",
     "height": 50
    },
    "colab_type": "code",
    "id": "FhtStYrXmt7U",
    "outputId": "7e3718eb-929b-4a42-f25d-da0e87c46e9d"
   },
   "outputs": [
    {
     "name": "stdout",
     "output_type": "stream",
     "text": [
      "CPU times: user 47.9 ms, sys: 982 µs, total: 48.9 ms\n",
      "Wall time: 48.4 ms\n"
     ]
    }
   ],
   "source": [
    "%%time\n",
    "X_stack_train = hstack((train_year_scaled, x_manu_oneHot_train, x_model_freq_train, x_condition_oneHot_train, x_cylinders_freq_train, \n",
    "                      x_fuel_oneHot_train, train_odometer_scaled, x_transmission_oneHot_train, x_drive_oneHot_train, x_type_oneHot_train, \n",
    "                      x_paint_color_ordinal_train, x_state_ordinal_train))"
   ]
  },
  {
   "cell_type": "code",
   "execution_count": 0,
   "metadata": {
    "colab": {
     "base_uri": "https://localhost:8080/",
     "height": 50
    },
    "colab_type": "code",
    "id": "6P89TSNjsPWX",
    "outputId": "2d68c13c-2bcb-445e-b7d7-a04788568ddd"
   },
   "outputs": [
    {
     "name": "stdout",
     "output_type": "stream",
     "text": [
      "CPU times: user 13.9 ms, sys: 0 ns, total: 13.9 ms\n",
      "Wall time: 13.6 ms\n"
     ]
    }
   ],
   "source": [
    "%%time\n",
    "X_stack_test = hstack((test_year_scaled, x_manu_oneHot_test, x_model_freq_test, x_condition_oneHot_test, x_cylinders_freq_test, \n",
    "                      x_fuel_oneHot_test, test_odometer_scaled, x_transmission_oneHot_test, x_drive_oneHot_test, x_type_oneHot_test, \n",
    "                      x_paint_color_ordinal_test, x_state_ordinal_test))"
   ]
  },
  {
   "cell_type": "markdown",
   "metadata": {},
   "source": [
    "### Function to calculate R2 value, Relative Error & RMSE"
   ]
  },
  {
   "cell_type": "code",
   "execution_count": 0,
   "metadata": {
    "colab": {
     "base_uri": "https://localhost:8080/",
     "height": 50
    },
    "colab_type": "code",
    "id": "rRR0BgD_9NLY",
    "outputId": "920ba154-2de7-4dee-fa6e-0e95c0b7c998"
   },
   "outputs": [
    {
     "name": "stdout",
     "output_type": "stream",
     "text": [
      "CPU times: user 5 µs, sys: 0 ns, total: 5 µs\n",
      "Wall time: 10 µs\n"
     ]
    }
   ],
   "source": [
    "%%time\n",
    "def acc_d(y_meas, y_pred):\n",
    "    # Relative error between predicted y_pred and measured y_meas values\n",
    "    return mean_absolute_error(y_meas, y_pred)*len(y_meas)/sum(abs(y_meas))\n",
    "\n",
    "def acc_rmse(y_meas, y_pred):\n",
    "    # RMSE between predicted y_pred and measured y_meas values\n",
    "    return (mean_squared_error(y_meas, y_pred))**0.5\n",
    "\n",
    "def acc_boosting(y_true,y_pred,num_iteration=0):\n",
    "    # Calculation of accuracy of boosting model by different metrics\n",
    "    \n",
    "    global acc_train_r2, acc_test_r2, acc_train_d, acc_test_d, acc_train_rmse, acc_test_rmse\n",
    "    \n",
    "    acc_test_r2_num = round(r2_score(y_true, y_pred) * 100, 2)\n",
    "    print('acc(r2_score) =', acc_test_r2_num)\n",
    "    \n",
    "    acc_test_d_num = round(acc_d(y_true, y_pred) * 100, 2)\n",
    "    print('acc(relative error) =', acc_test_d_num)\n",
    "    \n",
    "    acc_test_rmse_num = round(acc_rmse(y_true, y_pred) * 100, 2)\n",
    "    print('acc(rmse) =', acc_test_rmse_num)\n",
    "\n",
    "def acc_model(y_true,y_pred):\n",
    "    # Calculation of accuracy of model акщь Sklearn by different metrics   \n",
    "  \n",
    "    global acc_train_r2, acc_test_r2, acc_train_d, acc_test_d, acc_train_rmse, acc_test_rmse\n",
    " \n",
    "    acc_test_r2_num = round(r2_score(y_true, y_pred) * 100, 2)\n",
    "    print('acc(r2_score) =', acc_test_r2_num)\n",
    "    \n",
    "    acc_test_d_num = round(acc_d(y_true, y_pred) * 100, 2)\n",
    "    print('acc(relative error) =', acc_test_d_num)\n",
    "    \n",
    "    acc_test_rmse_num = round(acc_rmse(y_true, y_pred) * 100, 2)\n",
    "    print('acc(rmse) =', acc_test_rmse_num)"
   ]
  },
  {
   "cell_type": "markdown",
   "metadata": {},
   "source": [
    "# Modeling :"
   ]
  },
  {
   "cell_type": "markdown",
   "metadata": {},
   "source": [
    "## 1. Linear Regression : "
   ]
  },
  {
   "cell_type": "code",
   "execution_count": 0,
   "metadata": {
    "colab": {
     "base_uri": "https://localhost:8080/",
     "height": 50
    },
    "colab_type": "code",
    "id": "jDrDvCYwsdtB",
    "outputId": "fcf37245-2501-4fdd-d55a-e4b006bfa9fb"
   },
   "outputs": [
    {
     "name": "stdout",
     "output_type": "stream",
     "text": [
      "CPU times: user 249 ms, sys: 368 ms, total: 617 ms\n",
      "Wall time: 200 ms\n"
     ]
    }
   ],
   "source": [
    "%%time\n",
    "model = LinearRegression(n_jobs=-1,normalize=True)\n",
    "model.fit(X_stack_train, y_train)"
   ]
  },
  {
   "cell_type": "code",
   "execution_count": 0,
   "metadata": {
    "colab": {
     "base_uri": "https://localhost:8080/",
     "height": 168
    },
    "colab_type": "code",
    "id": "N-9jqrmo7qb5",
    "outputId": "e4d208ee-4da6-4120-cf31-25b813fc88b6"
   },
   "outputs": [
    {
     "name": "stdout",
     "output_type": "stream",
     "text": [
      "First Five Actual Value of Train :  [ 3650 12500 14400 12500 16995]\n",
      "First Five Predicted Value of Train :  [10912 12937 18855   481 17336]\n",
      "\n",
      "\n",
      "\n",
      "First Five Actual Value of Test :  [16500 10995 21700  7995  4450]\n",
      "First Five Predicted Value of Test :  [20491 14059 22029 13069  7771]\n",
      "CPU times: user 8.72 ms, sys: 924 µs, total: 9.64 ms\n",
      "Wall time: 8.38 ms\n"
     ]
    }
   ],
   "source": [
    "%%time\n",
    "# define true and predicted response values\n",
    "y_true_train = y_train\n",
    "y_pred_train = model.predict(X_stack_train).astype('int64')\n",
    "print(\"First Five Actual Value of Train : \",y_true_train.values[:5])\n",
    "print(\"First Five Predicted Value of Train : \",y_pred_train[:5])\n",
    "print('\\n\\n')\n",
    "y_true_test = y_test\n",
    "y_pred_test = model.predict(X_stack_test).astype('int64')\n",
    "print(\"First Five Actual Value of Test : \",y_true_test.values[:5])\n",
    "print(\"First Five Predicted Value of Test : \",y_pred_test[:5])"
   ]
  },
  {
   "cell_type": "code",
   "execution_count": 0,
   "metadata": {
    "colab": {
     "base_uri": "https://localhost:8080/",
     "height": 185
    },
    "colab_type": "code",
    "id": "eU1JJXAzBIMh",
    "outputId": "85ce80cd-a19c-44fa-98ea-e5d379609661"
   },
   "outputs": [
    {
     "name": "stdout",
     "output_type": "stream",
     "text": [
      "For Train Data\n",
      "acc(r2_score) = 51.28\n",
      "acc(relative error) = 35.75\n",
      "acc(rmse) = 699165.39\n",
      "For Test Data\n",
      "acc(r2_score) = 51.39\n",
      "acc(relative error) = 36.11\n",
      "acc(rmse) = 693342.91\n",
      "CPU times: user 25.7 ms, sys: 66 µs, total: 25.8 ms\n",
      "Wall time: 23.9 ms\n"
     ]
    }
   ],
   "source": [
    "%%time\n",
    "print('For Train Data')\n",
    "acc_model(y_true_train,y_pred_train)\n",
    "print('For Test Data')\n",
    "acc_model(y_true_test,y_pred_test)"
   ]
  },
  {
   "cell_type": "markdown",
   "metadata": {},
   "source": [
    "## 2. Support Vector Regressor : "
   ]
  },
  {
   "cell_type": "code",
   "execution_count": 0,
   "metadata": {
    "colab": {
     "base_uri": "https://localhost:8080/",
     "height": 50
    },
    "colab_type": "code",
    "id": "utZix2OBqE32",
    "outputId": "8f6d2096-7748-4138-e4a6-b770264135e3"
   },
   "outputs": [
    {
     "name": "stdout",
     "output_type": "stream",
     "text": [
      "CPU times: user 52min 55s, sys: 4.38 s, total: 53min\n",
      "Wall time: 53min 5s\n"
     ]
    }
   ],
   "source": [
    "%%time\n",
    "model = SVR()\n",
    "model.fit(X_stack_train, y_train)"
   ]
  },
  {
   "cell_type": "code",
   "execution_count": 0,
   "metadata": {
    "colab": {
     "base_uri": "https://localhost:8080/",
     "height": 168
    },
    "colab_type": "code",
    "id": "tIpPu4jduB9i",
    "outputId": "681c842f-e07e-4ce7-9425-2012acfeb6f2"
   },
   "outputs": [
    {
     "name": "stdout",
     "output_type": "stream",
     "text": [
      "First Five Actual Value of Train :  [ 3650 12500 14400 12500 16995]\n",
      "First Five Predicted Value of Train :  [9237 9042 9160 9148 9212]\n",
      "\n",
      "\n",
      "\n",
      "First Five Actual Value of Test :  [16500 10995 21700  7995  4450]\n",
      "First Five Predicted Value of Test :  [9128 9201 9190 9199 9209]\n",
      "CPU times: user 19min 15s, sys: 115 ms, total: 19min 15s\n",
      "Wall time: 19min 17s\n"
     ]
    }
   ],
   "source": [
    "%%time\n",
    "# define true and predicted response values\n",
    "y_true_train = y_train\n",
    "y_pred_train = model.predict(X_stack_train).astype('int64')\n",
    "print(\"First Five Actual Value of Train : \",y_true_train.values[:5])\n",
    "print(\"First Five Predicted Value of Train : \",y_pred_train[:5])\n",
    "print('\\n\\n')\n",
    "y_true_test = y_test\n",
    "y_pred_test = model.predict(X_stack_test).astype('int64')\n",
    "print(\"First Five Actual Value of Test : \",y_true_test.values[:5])\n",
    "print(\"First Five Predicted Value of Test : \",y_pred_test[:5])"
   ]
  },
  {
   "cell_type": "code",
   "execution_count": 0,
   "metadata": {
    "colab": {
     "base_uri": "https://localhost:8080/",
     "height": 185
    },
    "colab_type": "code",
    "id": "Ev4ARDqVun1J",
    "outputId": "5e78fff6-532a-4adf-a663-10c7b8b67c3f"
   },
   "outputs": [
    {
     "name": "stdout",
     "output_type": "stream",
     "text": [
      "For Train Data\n",
      "acc(r2_score) = -8.85\n",
      "acc(relative error) = 57.31\n",
      "acc(rmse) = 1045067.31\n",
      "For Test Data\n",
      "acc(r2_score) = -8.46\n",
      "acc(relative error) = 57.38\n",
      "acc(rmse) = 1035685.06\n",
      "CPU times: user 28.7 ms, sys: 2 ms, total: 30.7 ms\n",
      "Wall time: 28.5 ms\n"
     ]
    }
   ],
   "source": [
    "%%time\n",
    "print('For Train Data')\n",
    "acc_model(y_true_train,y_pred_train)\n",
    "print('For Test Data')\n",
    "acc_model(y_true_test,y_pred_test)"
   ]
  },
  {
   "cell_type": "markdown",
   "metadata": {},
   "source": [
    "## 3. Linear Support Vector Regressor : "
   ]
  },
  {
   "cell_type": "code",
   "execution_count": 0,
   "metadata": {
    "colab": {
     "base_uri": "https://localhost:8080/",
     "height": 50
    },
    "colab_type": "code",
    "id": "UB1ahrHjvOuD",
    "outputId": "15443cea-20a6-4c81-90d5-57a9b661c181"
   },
   "outputs": [
    {
     "name": "stdout",
     "output_type": "stream",
     "text": [
      "CPU times: user 24.7 s, sys: 2 ms, total: 24.7 s\n",
      "Wall time: 24.7 s\n"
     ]
    }
   ],
   "source": [
    "%%time\n",
    "model = LinearSVR()\n",
    "model.fit(X_stack_train, y_train)"
   ]
  },
  {
   "cell_type": "code",
   "execution_count": 0,
   "metadata": {
    "colab": {
     "base_uri": "https://localhost:8080/",
     "height": 168
    },
    "colab_type": "code",
    "id": "KgSe93hwvRnc",
    "outputId": "0f26f405-6080-499f-c1b0-1037cb16706f"
   },
   "outputs": [
    {
     "name": "stdout",
     "output_type": "stream",
     "text": [
      "First Five Actual Value of Train :  [ 3650 12500 14400 12500 16995]\n",
      "First Five Predicted Value of Train :  [ 6754 12764 16660  1318 16925]\n",
      "\n",
      "\n",
      "\n",
      "First Five Actual Value of Test :  [16500 10995 21700  7995  4450]\n",
      "First Five Predicted Value of Test :  [20167 14814 19401 11468  5588]\n",
      "CPU times: user 7.99 ms, sys: 1e+03 µs, total: 8.99 ms\n",
      "Wall time: 7.63 ms\n"
     ]
    }
   ],
   "source": [
    "%%time\n",
    "# define true and predicted response values\n",
    "y_true_train = y_train\n",
    "y_pred_train = model.predict(X_stack_train).astype('int64')\n",
    "print(\"First Five Actual Value of Train : \",y_true_train.values[:5])\n",
    "print(\"First Five Predicted Value of Train : \",y_pred_train[:5])\n",
    "print('\\n\\n')\n",
    "y_true_test = y_test\n",
    "y_pred_test = model.predict(X_stack_test).astype('int64')\n",
    "print(\"First Five Actual Value of Test : \",y_true_test.values[:5])\n",
    "print(\"First Five Predicted Value of Test : \",y_pred_test[:5])"
   ]
  },
  {
   "cell_type": "code",
   "execution_count": 0,
   "metadata": {
    "colab": {
     "base_uri": "https://localhost:8080/",
     "height": 185
    },
    "colab_type": "code",
    "id": "6tOLeTNvvTMP",
    "outputId": "e377aa38-b61f-4d25-edfa-c712016d3439"
   },
   "outputs": [
    {
     "name": "stdout",
     "output_type": "stream",
     "text": [
      "For Train Data\n",
      "acc(r2_score) = 35.54\n",
      "acc(relative error) = 33.91\n",
      "acc(rmse) = 804175.36\n",
      "For Test Data\n",
      "acc(r2_score) = 34.76\n",
      "acc(relative error) = 34.08\n",
      "acc(rmse) = 803239.29\n",
      "CPU times: user 22.7 ms, sys: 2 µs, total: 22.7 ms\n",
      "Wall time: 21 ms\n"
     ]
    }
   ],
   "source": [
    "%%time\n",
    "print('For Train Data')\n",
    "acc_model(y_true_train,y_pred_train)\n",
    "print('For Test Data')\n",
    "acc_model(y_true_test,y_pred_test)"
   ]
  },
  {
   "cell_type": "markdown",
   "metadata": {},
   "source": [
    "## 4. MLP Regressor : "
   ]
  },
  {
   "cell_type": "code",
   "execution_count": 0,
   "metadata": {
    "colab": {
     "base_uri": "https://localhost:8080/",
     "height": 101
    },
    "colab_type": "code",
    "id": "5V-kHgvNxGX7",
    "outputId": "6d60cef3-967b-49b5-d9e3-2596abc496fa"
   },
   "outputs": [
    {
     "name": "stdout",
     "output_type": "stream",
     "text": [
      "Fitting 5 folds for each of 4 candidates, totalling 20 fits\n"
     ]
    },
    {
     "name": "stderr",
     "output_type": "stream",
     "text": [
      "[Parallel(n_jobs=-1)]: Using backend LokyBackend with 4 concurrent workers.\n",
      "[Parallel(n_jobs=-1)]: Done  20 out of  20 | elapsed: 22.0min finished\n"
     ]
    },
    {
     "name": "stdout",
     "output_type": "stream",
     "text": [
      "CPU times: user 5min, sys: 2min 19s, total: 7min 20s\n",
      "Wall time: 26min 35s\n"
     ]
    }
   ],
   "source": [
    "%%time\n",
    "model = MLPRegressor()\n",
    "param_grid = {'hidden_layer_sizes': [i for i in range(2,10,2)],\n",
    "              'activation': ['relu'],\n",
    "              'solver': ['adam'],\n",
    "              'learning_rate': ['adaptive'],\n",
    "              'learning_rate_init': [0.001],\n",
    "              'power_t': [0.5],\n",
    "              'alpha': [0.0001],\n",
    "              'max_iter': [500],\n",
    "              'early_stopping': [True],\n",
    "              'warm_start': [False]}\n",
    "grid = GridSearchCV(model, param_grid=param_grid, cv=5, verbose=True, n_jobs=-1)\n",
    "grid.fit(X_stack_train, y_train)"
   ]
  },
  {
   "cell_type": "code",
   "execution_count": 0,
   "metadata": {
    "colab": {
     "base_uri": "https://localhost:8080/",
     "height": 50
    },
    "colab_type": "code",
    "id": "rzDTpWRzZS1B",
    "outputId": "b5c7354d-77d0-496a-acad-cf9b0cc661e4"
   },
   "outputs": [
    {
     "name": "stdout",
     "output_type": "stream",
     "text": [
      "CPU times: user 9min 31s, sys: 16min 6s, total: 25min 38s\n",
      "Wall time: 6min 27s\n"
     ]
    }
   ],
   "source": [
    "%%time\n",
    "model = MLPRegressor(activation='relu', alpha=0.0001,\n",
    "                                    batch_size='auto', beta_1=0.9, beta_2=0.999,\n",
    "                                    early_stopping=False, epsilon=1e-08,\n",
    "                                    hidden_layer_sizes=(100,),\n",
    "                                    learning_rate='constant',\n",
    "                                    learning_rate_init=0.001, max_fun=15000,\n",
    "                                    max_iter=200, momentum=0.9,\n",
    "                                    n_iter_no_change=10,\n",
    "                                    nesterovs_momentum=True, power_t=0.5)\n",
    "model.fit(X_stack_train, y_train)"
   ]
  },
  {
   "cell_type": "code",
   "execution_count": 0,
   "metadata": {
    "colab": {
     "base_uri": "https://localhost:8080/",
     "height": 168
    },
    "colab_type": "code",
    "id": "Y7M_i1H4xyg0",
    "outputId": "42bd0f8a-8884-4f11-95cb-3821cdc63e0e"
   },
   "outputs": [
    {
     "name": "stdout",
     "output_type": "stream",
     "text": [
      "First Five Actual Value of Train :  [ 3650 12500 14400 12500 16995]\n",
      "First Five Predicted Value of Train :  [ 5451 13555 15752 11329 18500]\n",
      "\n",
      "\n",
      "\n",
      "First Five Actual Value of Test :  [16500 10995 21700  7995  4450]\n",
      "First Five Predicted Value of Test :  [18822 14617 23796  9774  4835]\n",
      "CPU times: user 1.66 s, sys: 562 ms, total: 2.22 s\n",
      "Wall time: 1.56 s\n"
     ]
    }
   ],
   "source": [
    "%%time\n",
    "# define true and predicted response values\n",
    "y_true_train = y_train\n",
    "y_pred_train = model.predict(X_stack_train).astype('int64')\n",
    "print(\"First Five Actual Value of Train : \",y_true_train.values[:5])\n",
    "print(\"First Five Predicted Value of Train : \",y_pred_train[:5])\n",
    "print('\\n\\n')\n",
    "y_true_test = y_test\n",
    "y_pred_test = model.predict(X_stack_test).astype('int64')\n",
    "print(\"First Five Actual Value of Test : \",y_true_test.values[:5])\n",
    "print(\"First Five Predicted Value of Test : \",y_pred_test[:5])"
   ]
  },
  {
   "cell_type": "code",
   "execution_count": 0,
   "metadata": {
    "colab": {
     "base_uri": "https://localhost:8080/",
     "height": 185
    },
    "colab_type": "code",
    "id": "W7ZbhJENx0ST",
    "outputId": "216e75a0-608e-418e-dbad-fbdf71e658ea"
   },
   "outputs": [
    {
     "name": "stdout",
     "output_type": "stream",
     "text": [
      "For Train Data\n",
      "acc(r2_score) = 74.58\n",
      "acc(relative error) = 22.65\n",
      "acc(rmse) = 505042.37\n",
      "For Test Data\n",
      "acc(r2_score) = 74.4\n",
      "acc(relative error) = 22.98\n",
      "acc(rmse) = 503142.45\n",
      "CPU times: user 64.4 ms, sys: 87.3 ms, total: 152 ms\n",
      "Wall time: 40.7 ms\n"
     ]
    }
   ],
   "source": [
    "%%time\n",
    "print('For Train Data')\n",
    "acc_model(y_true_train,y_pred_train)\n",
    "print('For Test Data')\n",
    "acc_model(y_true_test,y_pred_test)"
   ]
  },
  {
   "cell_type": "markdown",
   "metadata": {},
   "source": [
    "## 5. SGD Regressor :"
   ]
  },
  {
   "cell_type": "code",
   "execution_count": 0,
   "metadata": {
    "colab": {
     "base_uri": "https://localhost:8080/",
     "height": 50
    },
    "colab_type": "code",
    "id": "yUnPK3e7Doh_",
    "outputId": "ba4bba72-c049-4c8c-dab5-e069b23b554e"
   },
   "outputs": [
    {
     "name": "stdout",
     "output_type": "stream",
     "text": [
      "CPU times: user 1.72 s, sys: 151 ms, total: 1.87 s\n",
      "Wall time: 1.7 s\n"
     ]
    }
   ],
   "source": [
    "%%time\n",
    "model = SGDRegressor(learning_rate='adaptive')\n",
    "model.fit(X_stack_train, y_train)"
   ]
  },
  {
   "cell_type": "code",
   "execution_count": 0,
   "metadata": {
    "colab": {
     "base_uri": "https://localhost:8080/",
     "height": 168
    },
    "colab_type": "code",
    "id": "SQmeNlawDu9W",
    "outputId": "37152613-f7df-4d03-8f7d-a5e6a50bdd08"
   },
   "outputs": [
    {
     "name": "stdout",
     "output_type": "stream",
     "text": [
      "First Five Actual Value of Train :  [ 3650 12500 14400 12500 16995]\n",
      "First Five Predicted Value of Train :  [ 2731241881   196754901  7052637029 -1041018940  7142158145]\n",
      "\n",
      "\n",
      "\n",
      "First Five Actual Value of Test :  [16500 10995 21700  7995  4450]\n",
      "First Five Predicted Value of Test :  [ 20863121975  -4164361025 -20923311606 -38023891940   8352860102]\n",
      "CPU times: user 27 ms, sys: 1.16 ms, total: 28.1 ms\n",
      "Wall time: 27.2 ms\n"
     ]
    }
   ],
   "source": [
    "%%time\n",
    "# define true and predicted response values\n",
    "y_true_train = y_train\n",
    "y_pred_train = model.predict(X_stack_train).astype('int64')\n",
    "print(\"First Five Actual Value of Train : \",y_true_train.values[:5])\n",
    "print(\"First Five Predicted Value of Train : \",y_pred_train[:5])\n",
    "print('\\n\\n')\n",
    "y_true_test = y_test\n",
    "y_pred_test = model.predict(X_stack_test).astype('int64')\n",
    "print(\"First Five Actual Value of Test : \",y_true_test.values[:5])\n",
    "print(\"First Five Predicted Value of Test : \",y_pred_test[:5])"
   ]
  },
  {
   "cell_type": "code",
   "execution_count": 0,
   "metadata": {
    "colab": {
     "base_uri": "https://localhost:8080/",
     "height": 185
    },
    "colab_type": "code",
    "id": "ptdJr99jDwQY",
    "outputId": "f76a4598-9836-41bb-ba33-82a451b2b34f"
   },
   "outputs": [
    {
     "name": "stdout",
     "output_type": "stream",
     "text": [
      "For Train Data\n",
      "acc(r2_score) = -541746662852.12\n",
      "acc(relative error) = 68561689.97\n",
      "acc(rmse) = 73725901010.56\n",
      "For Test Data\n",
      "acc(r2_score) = -544619576720.21\n",
      "acc(relative error) = 69557750.71\n",
      "acc(rmse) = 73390441004.45\n",
      "CPU times: user 20.9 ms, sys: 2.19 ms, total: 23.1 ms\n",
      "Wall time: 21.3 ms\n"
     ]
    }
   ],
   "source": [
    "%%time\n",
    "print('For Train Data')\n",
    "acc_model(y_true_train,y_pred_train)\n",
    "print('For Test Data')\n",
    "acc_model(y_true_test,y_pred_test)"
   ]
  },
  {
   "cell_type": "markdown",
   "metadata": {},
   "source": [
    "## 6. Decision Tree Regressor : "
   ]
  },
  {
   "cell_type": "code",
   "execution_count": 0,
   "metadata": {
    "colab": {
     "base_uri": "https://localhost:8080/",
     "height": 50
    },
    "colab_type": "code",
    "id": "07BT505VJLMW",
    "outputId": "76886b50-7fab-4eb5-808b-65ae13f98582"
   },
   "outputs": [
    {
     "name": "stdout",
     "output_type": "stream",
     "text": [
      "CPU times: user 22.6 s, sys: 25 ms, total: 22.7 s\n",
      "Wall time: 22.7 s\n"
     ]
    }
   ],
   "source": [
    "%%time\n",
    "model = DecisionTreeRegressor(splitter='random', max_features='auto')\n",
    "model.fit(X_stack_train, y_train)"
   ]
  },
  {
   "cell_type": "code",
   "execution_count": 0,
   "metadata": {
    "colab": {
     "base_uri": "https://localhost:8080/",
     "height": 168
    },
    "colab_type": "code",
    "id": "O0AX2BlQKPZB",
    "outputId": "87e5d1ad-638c-4064-f3ec-d0e58821c840"
   },
   "outputs": [
    {
     "name": "stdout",
     "output_type": "stream",
     "text": [
      "First Five Actual Value of Train :  [ 3650 12500 14400 12500 16995]\n",
      "First Five Predicted Value of Train :  [ 3650 12500 14400 12500 16995]\n",
      "\n",
      "\n",
      "\n",
      "First Five Actual Value of Test :  [16500 10995 21700  7995  4450]\n",
      "First Five Predicted Value of Test :  [16900 14995 21700  7995  4895]\n",
      "CPU times: user 99 ms, sys: 100 µs, total: 99.1 ms\n",
      "Wall time: 98.7 ms\n"
     ]
    }
   ],
   "source": [
    "%%time\n",
    "# define true and predicted response values\n",
    "y_true_train = y_train\n",
    "y_pred_train = model.predict(X_stack_train).astype('int64')\n",
    "print(\"First Five Actual Value of Train : \",y_true_train.values[:5])\n",
    "print(\"First Five Predicted Value of Train : \",y_pred_train[:5])\n",
    "print('\\n\\n')\n",
    "y_true_test = y_test\n",
    "y_pred_test = model.predict(X_stack_test).astype('int64')\n",
    "print(\"First Five Actual Value of Test : \",y_true_test.values[:5])\n",
    "print(\"First Five Predicted Value of Test : \",y_pred_test[:5])"
   ]
  },
  {
   "cell_type": "code",
   "execution_count": 0,
   "metadata": {
    "colab": {
     "base_uri": "https://localhost:8080/",
     "height": 185
    },
    "colab_type": "code",
    "id": "nxfFUKPqKQvY",
    "outputId": "35124bf7-299d-4d9c-ee20-a296a6a40c52"
   },
   "outputs": [
    {
     "name": "stdout",
     "output_type": "stream",
     "text": [
      "For Train Data\n",
      "acc(r2_score) = 99.94\n",
      "acc(relative error) = 0.16\n",
      "acc(rmse) = 24394.21\n",
      "For Test Data\n",
      "acc(r2_score) = 67.14\n",
      "acc(relative error) = 18.66\n",
      "acc(rmse) = 570063.77\n",
      "CPU times: user 34.1 ms, sys: 2.46 ms, total: 36.6 ms\n",
      "Wall time: 36 ms\n"
     ]
    }
   ],
   "source": [
    "%%time\n",
    "print('For Train Data')\n",
    "acc_model(y_true_train,y_pred_train)\n",
    "print('For Test Data')\n",
    "acc_model(y_true_test,y_pred_test)"
   ]
  },
  {
   "cell_type": "markdown",
   "metadata": {},
   "source": [
    "## 7. XGB Regressor : "
   ]
  },
  {
   "cell_type": "code",
   "execution_count": 0,
   "metadata": {
    "colab": {
     "base_uri": "https://localhost:8080/",
     "height": 67
    },
    "colab_type": "code",
    "id": "bM7t513Nfxoz",
    "outputId": "d9b7299d-bff3-46a8-9ab9-49d77b78b69c"
   },
   "outputs": [
    {
     "name": "stdout",
     "output_type": "stream",
     "text": [
      "[09:23:17] WARNING: /workspace/src/objective/regression_obj.cu:152: reg:linear is now deprecated in favor of reg:squarederror.\n",
      "CPU times: user 1min 4s, sys: 781 ms, total: 1min 5s\n",
      "Wall time: 13min 10s\n"
     ]
    }
   ],
   "source": [
    "%%time\n",
    "xgb_clf = xgb.XGBRegressor({'objective': 'reg:squarederror'}) \n",
    "parameters = {'n_estimators': [60, 100, 120, 150], \n",
    "              'learning_rate': [0.001, 0.01, 0.1],\n",
    "              'max_depth': [5, 10],\n",
    "              'reg_lambda': [0.5],\n",
    "              'n_jobs':[-1]}\n",
    "grid = GridSearchCV(estimator=xgb_clf, param_grid=parameters, cv=5, n_jobs=-1)\n",
    "grid.fit(X_stack_train, y_train)"
   ]
  },
  {
   "cell_type": "code",
   "execution_count": 0,
   "metadata": {
    "colab": {
     "base_uri": "https://localhost:8080/",
     "height": 134
    },
    "colab_type": "code",
    "id": "uLODCxr_j65N",
    "outputId": "13d7dc99-0f22-4069-e7bc-beeb94ea4ab6"
   },
   "outputs": [
    {
     "data": {
      "text/plain": [
       "XGBRegressor(base_score=0.5, booster='gbtree', colsample_bylevel=1,\n",
       "             colsample_bynode=1, colsample_bytree=1, gamma=0,\n",
       "             importance_type='gain', learning_rate=0.1, max_delta_step=0,\n",
       "             max_depth=10, min_child_weight=1, missing=None, n_estimators=150,\n",
       "             n_jobs=-1, nthread=None, objective='reg:linear', random_state=0,\n",
       "             reg_alpha=0, reg_lambda=0.5, scale_pos_weight=1, seed=None,\n",
       "             silent=None, subsample=1, verbosity=1)"
      ]
     },
     "execution_count": 123,
     "metadata": {
      "tags": []
     },
     "output_type": "execute_result"
    }
   ],
   "source": [
    "grid.best_estimator_"
   ]
  },
  {
   "cell_type": "code",
   "execution_count": 0,
   "metadata": {
    "colab": {
     "base_uri": "https://localhost:8080/",
     "height": 50
    },
    "colab_type": "code",
    "id": "u9E-FDiXp0dQ",
    "outputId": "06d40c07-ff36-48fa-e21d-fa2f83eb5905"
   },
   "outputs": [
    {
     "name": "stdout",
     "output_type": "stream",
     "text": [
      "CPU times: user 33.2 s, sys: 62.4 ms, total: 33.3 s\n",
      "Wall time: 33.3 s\n"
     ]
    }
   ],
   "source": [
    "%%time\n",
    "model = xgb.XGBRegressor(base_score=0.5, booster='gbtree', colsample_bylevel=1,\n",
    "             colsample_bynode=1, colsample_bytree=1, gamma=0,\n",
    "             importance_type='gain', learning_rate=0.1, max_delta_step=0,\n",
    "             max_depth=10, min_child_weight=1, missing=None, n_estimators=150,\n",
    "             n_jobs=-1, nthread=None, objective='reg:squarederror', random_state=0,\n",
    "             reg_alpha=0, reg_lambda=0.5, scale_pos_weight=1, seed=None,\n",
    "             silent=None, subsample=1, verbosity=1)\n",
    "model.fit(X_stack_train, y_train)"
   ]
  },
  {
   "cell_type": "code",
   "execution_count": 0,
   "metadata": {
    "colab": {
     "base_uri": "https://localhost:8080/",
     "height": 168
    },
    "colab_type": "code",
    "id": "hR_KXfaZp6r7",
    "outputId": "66b3fbff-9a88-4faa-f79a-5b6778520cce"
   },
   "outputs": [
    {
     "name": "stdout",
     "output_type": "stream",
     "text": [
      "First Five Actual Value of Train :  [ 3650 12500 14400 12500 16995]\n",
      "First Five Predicted Value of Train :  [ 5330 14183 15042 11616 16897]\n",
      "\n",
      "\n",
      "\n",
      "First Five Actual Value of Test :  [16500 10995 21700  7995  4450]\n",
      "First Five Predicted Value of Test :  [15635 16376 21528  6743  4696]\n",
      "CPU times: user 3.39 s, sys: 34.1 ms, total: 3.43 s\n",
      "Wall time: 3.43 s\n"
     ]
    }
   ],
   "source": [
    "%%time\n",
    "# define true and predicted response values\n",
    "y_true_train = y_train\n",
    "y_pred_train = model.predict(X_stack_train).astype('int64')\n",
    "print(\"First Five Actual Value of Train : \",y_true_train.values[:5])\n",
    "print(\"First Five Predicted Value of Train : \",y_pred_train[:5])\n",
    "print('\\n\\n')\n",
    "y_true_test = y_test\n",
    "y_pred_test = model.predict(X_stack_test).astype('int64')\n",
    "print(\"First Five Actual Value of Test : \",y_true_test.values[:5])\n",
    "print(\"First Five Predicted Value of Test : \",y_pred_test[:5])"
   ]
  },
  {
   "cell_type": "code",
   "execution_count": 0,
   "metadata": {
    "colab": {
     "base_uri": "https://localhost:8080/",
     "height": 185
    },
    "colab_type": "code",
    "id": "5yb7mWNvp79f",
    "outputId": "4e486921-5b71-486e-f070-adf440bbd758"
   },
   "outputs": [
    {
     "name": "stdout",
     "output_type": "stream",
     "text": [
      "For Train Data\n",
      "acc(r2_score) = 93.16\n",
      "acc(relative error) = 13.2\n",
      "acc(rmse) = 261974.97\n",
      "For Test Data\n",
      "acc(r2_score) = 85.22\n",
      "acc(relative error) = 16.74\n",
      "acc(rmse) = 382354.26\n",
      "CPU times: user 26.3 ms, sys: 1.79 ms, total: 28 ms\n",
      "Wall time: 26.1 ms\n"
     ]
    }
   ],
   "source": [
    "%%time\n",
    "print('For Train Data')\n",
    "acc_model(y_true_train,y_pred_train)\n",
    "print('For Test Data')\n",
    "acc_model(y_true_test,y_pred_test)"
   ]
  },
  {
   "cell_type": "markdown",
   "metadata": {},
   "source": [
    "## 8. Light GBM : "
   ]
  },
  {
   "cell_type": "code",
   "execution_count": 0,
   "metadata": {
    "colab": {
     "base_uri": "https://localhost:8080/",
     "height": 134
    },
    "colab_type": "code",
    "id": "xQaFpvPdLhjm",
    "outputId": "eab78edc-d9f7-4d46-c497-4c1c6bbc6c24"
   },
   "outputs": [
    {
     "name": "stdout",
     "output_type": "stream",
     "text": [
      "Training until validation scores don't improve for 800 rounds.\n",
      "[500]\tvalid_0's rmse: 4705.51\n",
      "[1000]\tvalid_0's rmse: 4467.18\n",
      "Did not meet early stopping. Best iteration is:\n",
      "[1000]\tvalid_0's rmse: 4467.18\n",
      "CPU times: user 15.7 s, sys: 90.2 ms, total: 15.7 s\n",
      "Wall time: 15.8 s\n"
     ]
    }
   ],
   "source": [
    "%%time\n",
    "train_set = lgb.Dataset(X_stack_train, y_train, silent=False)\n",
    "test_set = lgb.Dataset(X_stack_test, y_test, silent=False)\n",
    "params = {\n",
    "        'boosting_type':'gbdt',\n",
    "        'objective': 'regression',\n",
    "        'num_leaves': 31,\n",
    "        'learning_rate': 0.01,\n",
    "        'max_depth': -1,\n",
    "        'subsample': 0.8,\n",
    "        'bagging_fraction' : 1,\n",
    "        'max_bin' : 5000 ,\n",
    "        'bagging_freq': 20,\n",
    "        'colsample_bytree': 0.6,\n",
    "        'metric': 'rmse',\n",
    "        'min_split_gain': 0.5,\n",
    "        'min_child_weight': 1,\n",
    "        'min_child_samples': 10,\n",
    "        'scale_pos_weight':1,\n",
    "        'zero_as_missing': False,\n",
    "        'seed':0,        \n",
    "    }\n",
    "model = lgb.train(params, train_set = train_set, num_boost_round=1000,\n",
    "                   early_stopping_rounds=800,verbose_eval=500,  valid_sets=test_set, )"
   ]
  },
  {
   "cell_type": "code",
   "execution_count": 0,
   "metadata": {
    "colab": {
     "base_uri": "https://localhost:8080/",
     "height": 168
    },
    "colab_type": "code",
    "id": "jXssQBdHMWyF",
    "outputId": "e5698b8c-b45e-4a9d-d25e-d7fdf161722a"
   },
   "outputs": [
    {
     "name": "stdout",
     "output_type": "stream",
     "text": [
      "First Five Actual Value of Train :  [ 3650 12500 14400 12500 16995]\n",
      "First Five Predicted Value of Train :  [ 6443 13558 15139 11787 15623]\n",
      "\n",
      "\n",
      "\n",
      "First Five Actual Value of Test :  [16500 10995 21700  7995  4450]\n",
      "First Five Predicted Value of Test :  [18242 16614 22497  9939  5149]\n",
      "CPU times: user 12.8 s, sys: 8.09 ms, total: 12.8 s\n",
      "Wall time: 12.8 s\n"
     ]
    }
   ],
   "source": [
    "%%time\n",
    "# define true and predicted response values\n",
    "y_true_train = y_train\n",
    "y_pred_train = model.predict(X_stack_train).astype('int64')\n",
    "print(\"First Five Actual Value of Train : \",y_true_train.values[:5])\n",
    "print(\"First Five Predicted Value of Train : \",y_pred_train[:5])\n",
    "print('\\n\\n')\n",
    "y_true_test = y_test\n",
    "y_pred_test = model.predict(X_stack_test).astype('int64')\n",
    "print(\"First Five Actual Value of Test : \",y_true_test.values[:5])\n",
    "print(\"First Five Predicted Value of Test : \",y_pred_test[:5])"
   ]
  },
  {
   "cell_type": "code",
   "execution_count": 0,
   "metadata": {
    "colab": {
     "base_uri": "https://localhost:8080/",
     "height": 185
    },
    "colab_type": "code",
    "id": "ZDDuUq7cMh68",
    "outputId": "e5597ba9-0154-4d7d-fdaf-0332dd3044bd"
   },
   "outputs": [
    {
     "name": "stdout",
     "output_type": "stream",
     "text": [
      "For Train Data\n",
      "acc(r2_score) = 81.58\n",
      "acc(relative error) = 19.49\n",
      "acc(rmse) = 429924.13\n",
      "For Test Data\n",
      "acc(r2_score) = 79.82\n",
      "acc(relative error) = 20.07\n",
      "acc(rmse) = 446717.59\n",
      "CPU times: user 25.7 ms, sys: 890 µs, total: 26.6 ms\n",
      "Wall time: 25.1 ms\n"
     ]
    }
   ],
   "source": [
    "%%time\n",
    "print('For Train Data')\n",
    "acc_model(y_true_train,y_pred_train)\n",
    "print('For Test Data')\n",
    "acc_model(y_true_test,y_pred_test)"
   ]
  },
  {
   "cell_type": "markdown",
   "metadata": {},
   "source": [
    "### Plotting the important features :"
   ]
  },
  {
   "cell_type": "code",
   "execution_count": 0,
   "metadata": {
    "colab": {
     "base_uri": "https://localhost:8080/",
     "height": 926
    },
    "colab_type": "code",
    "id": "ToagvfGiMgPj",
    "outputId": "9152cfe4-d30e-473d-b89c-cdf4b2a1c207"
   },
   "outputs": [
    {
     "data": {
      "image/png": "[encoded data removed]",
      "text/plain": [
       "<Figure size 1440x1080 with 1 Axes>"
      ]
     },
     "metadata": {
      "needs_background": "light",
      "tags": []
     },
     "output_type": "display_data"
    },
    {
     "name": "stdout",
     "output_type": "stream",
     "text": [
      "CPU times: user 1.07 s, sys: 64.1 ms, total: 1.13 s\n",
      "Wall time: 1.13 s\n"
     ]
    }
   ],
   "source": [
    "%%time\n",
    "fig =  plt.figure(figsize = (20,15))\n",
    "axes = fig.add_subplot(111)\n",
    "lgb.plot_importance(model,ax = axes,height = 0.5)\n",
    "plt.show();\n",
    "plt.close()"
   ]
  },
  {
   "cell_type": "markdown",
   "metadata": {},
   "source": [
    "## Summarizing the Results of the Models :"
   ]
  },
  {
   "cell_type": "code",
   "execution_count": 0,
   "metadata": {
    "colab": {
     "base_uri": "https://localhost:8080/",
     "height": 218
    },
    "colab_type": "code",
    "id": "HCIFPC_l_Ak9",
    "outputId": "86c7b31a-6797-4c88-b9ec-6ccad64eba63"
   },
   "outputs": [
    {
     "name": "stdout",
     "output_type": "stream",
     "text": [
      "+---------------------------------+------------------+----------------------+----------------+------------------+---------------------+----------------+\n",
      "|            Model Name           |  Train R2 Score  | Train Relative Error |   Train RMSE   |  Test R2 Score   | Test Relative Error |   Test RMSE    |\n",
      "+---------------------------------+------------------+----------------------+----------------+------------------+---------------------+----------------+\n",
      "|        Linear Regression        |      51.28       |        35.75         |   699165.39    |      51.39       |        36.11        |   693342.91    |\n",
      "|     Support Vector Regressor    |      -8.85       |        57.31         |   1045067.31   |      -8.46       |        57.38        |   1035685.06   |\n",
      "| Linear Support Vector Regressor |      35.54       |        33.91         |   804175.36    |      34.76       |        34.08        |   803239.29    |\n",
      "|          MLP Regressor          |      74.58       |        22.65         |   505042.37    |       74.4       |        22.98        |   503142.45    |\n",
      "|          SGD Regressor          | -541746662852.12 |     68561689.97      | 73725901010.56 | -544619576720.21 |     69557750.71     | 73390441004.45 |\n",
      "|          MLP Regressor          |      99.94       |         0.16         |    24394.21    |      67.14       |        18.66        |   570063.77    |\n",
      "|          XGB Regressor          |      93.16       |         13.2         |   261974.97    |      85.22       |        16.74        |   382354.26    |\n",
      "|          LGBM Regressor         |      81.58       |        19.49         |   429924.13    |      79.82       |        20.07        |   446717.59    |\n",
      "+---------------------------------+------------------+----------------------+----------------+------------------+---------------------+----------------+\n"
     ]
    }
   ],
   "source": [
    "x = PrettyTable()\n",
    "\n",
    "x.field_names = [\"Model Name\", \"Train R2 Score\", \"Train Relative Error\", \"Train RMSE\", \"Test R2 Score\", \"Test Relative Error\", \"Test RMSE\"]\n",
    "\n",
    "x.add_row([\"Linear Regression\", 51.28, 35.75, 699165.39, 51.39, 36.11, 693342.91])\n",
    "x.add_row([\"Support Vector Regressor\", -8.85, 57.31, 1045067.31, -8.46, 57.38, 1035685.06])\n",
    "x.add_row([\"Linear Support Vector Regressor\", 35.54, 33.91, 804175.36, 34.76, 34.08, 803239.29])\n",
    "x.add_row([\"MLP Regressor\", 74.58, 22.65, 505042.37, 74.4, 22.98, 503142.45])\n",
    "x.add_row([\"SGD Regressor\", -541746662852.12, 68561689.97, 73725901010.56, -544619576720.21, 69557750.71, 73390441004.45])\n",
    "x.add_row([\"MLP Regressor\", 99.94, 0.16, 24394.21, 67.14, 18.66, 570063.77])\n",
    "x.add_row([\"XGB Regressor\", 93.16, 13.2, 261974.97, 85.22, 16.74, 382354.26])\n",
    "x.add_row([\"LGBM Regressor\", 81.58, 19.49, 429924.13, 79.82, 20.07, 446717.59])\n",
    "\n",
    "print(x)"
   ]
  }
 ],
 "metadata": {
  "colab": {
   "collapsed_sections": [],
   "machine_shape": "hm",
   "name": "Used Car Price Prediction.ipynb",
   "provenance": []
  },
  "kernelspec": {
   "display_name": "Python 3 (ipykernel)",
   "language": "python",
   "name": "python3"
  },
  "language_info": {
   "codemirror_mode": {
    "name": "ipython",
    "version": 3
   },
   "file_extension": ".py",
   "mimetype": "text/x-python",
   "name": "python",
   "nbconvert_exporter": "python",
   "pygments_lexer": "ipython3",
   "version": "3.10.2"
  }
 },
 "nbformat": 4,
 "nbformat_minor": 1
}
